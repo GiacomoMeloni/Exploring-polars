{
 "cells": [
  {
   "cell_type": "code",
   "execution_count": 18,
   "metadata": {
    "collapsed": true,
    "ExecuteTime": {
     "end_time": "2023-06-29T20:19:19.724831700Z",
     "start_time": "2023-06-29T20:19:19.600310900Z"
    }
   },
   "outputs": [],
   "source": [
    "from time import time\n",
    "import polars as pl\n",
    "import pandas as pd\n",
    "import numpy as np\n",
    "import pyarrow\n",
    "\n",
    "import matplotlib.pyplot as plt\n",
    "import seaborn as sns\n",
    "\n",
    "df = pl.read_csv(r\"./datasets/2019-Nov-1M.csv\")"
   ]
  },
  {
   "cell_type": "code",
   "execution_count": 19,
   "outputs": [
    {
     "data": {
      "text/plain": "shape: (5, 9)\n┌─────────────┬────────────┬────────────┬───────────┬───┬────────┬────────┬───────────┬────────────┐\n│ event_time  ┆ event_type ┆ product_id ┆ category_ ┆ … ┆ brand  ┆ price  ┆ user_id   ┆ user_sessi │\n│ ---         ┆ ---        ┆ ---        ┆ id        ┆   ┆ ---    ┆ ---    ┆ ---       ┆ on         │\n│ str         ┆ str        ┆ i64        ┆ ---       ┆   ┆ str    ┆ f64    ┆ i64       ┆ ---        │\n│             ┆            ┆            ┆ i64       ┆   ┆        ┆        ┆           ┆ str        │\n╞═════════════╪════════════╪════════════╪═══════════╪═══╪════════╪════════╪═══════════╪════════════╡\n│ 2019-11-01  ┆ view       ┆ 1003461    ┆ 205301355 ┆ … ┆ xiaomi ┆ 489.07 ┆ 520088904 ┆ 4d3b30da-a │\n│ 00:00:00    ┆            ┆            ┆ 563188265 ┆   ┆        ┆        ┆           ┆ 5e4-49df-b │\n│ UTC         ┆            ┆            ┆ 5         ┆   ┆        ┆        ┆           ┆ 1a8-ba5943 │\n│             ┆            ┆            ┆           ┆   ┆        ┆        ┆           ┆ f1…        │\n│ 2019-11-01  ┆ view       ┆ 5000088    ┆ 205301356 ┆ … ┆ janome ┆ 293.65 ┆ 530496790 ┆ 8e5f4f83-3 │\n│ 00:00:00    ┆            ┆            ┆ 610086603 ┆   ┆        ┆        ┆           ┆ 66c-4f70-8 │\n│ UTC         ┆            ┆            ┆ 5         ┆   ┆        ┆        ┆           ┆ 60e-ca7417 │\n│             ┆            ┆            ┆           ┆   ┆        ┆        ┆           ┆ 41…        │\n│ 2019-11-01  ┆ view       ┆ 17302664   ┆ 205301355 ┆ … ┆ creed  ┆ 28.31  ┆ 561587266 ┆ 755422e7-9 │\n│ 00:00:01    ┆            ┆            ┆ 385349765 ┆   ┆        ┆        ┆           ┆ 040-477b-9 │\n│ UTC         ┆            ┆            ┆ 5         ┆   ┆        ┆        ┆           ┆ bd2-6a6e8f │\n│             ┆            ┆            ┆           ┆   ┆        ┆        ┆           ┆ d9…        │\n│ 2019-11-01  ┆ view       ┆ 3601530    ┆ 205301356 ┆ … ┆ lg     ┆ 712.87 ┆ 518085591 ┆ 3bfb58cd-7 │\n│ 00:00:01    ┆            ┆            ┆ 381077592 ┆   ┆        ┆        ┆           ┆ 892-48cc-8 │\n│ UTC         ┆            ┆            ┆ 3         ┆   ┆        ┆        ┆           ┆ 020-2f17e6 │\n│             ┆            ┆            ┆           ┆   ┆        ┆        ┆           ┆ de…        │\n│ 2019-11-01  ┆ view       ┆ 1004775    ┆ 205301355 ┆ … ┆ xiaomi ┆ 183.27 ┆ 558856683 ┆ 313628f1-6 │\n│ 00:00:01    ┆            ┆            ┆ 563188265 ┆   ┆        ┆        ┆           ┆ 8b8-460d-8 │\n│ UTC         ┆            ┆            ┆ 5         ┆   ┆        ┆        ┆           ┆ 4f6-cec7a8 │\n│             ┆            ┆            ┆           ┆   ┆        ┆        ┆           ┆ 79…        │\n└─────────────┴────────────┴────────────┴───────────┴───┴────────┴────────┴───────────┴────────────┘",
      "text/html": "<div><style>\n.dataframe > thead > tr > th,\n.dataframe > tbody > tr > td {\n  text-align: right;\n}\n</style>\n<small>shape: (5, 9)</small><table border=\"1\" class=\"dataframe\"><thead><tr><th>event_time</th><th>event_type</th><th>product_id</th><th>category_id</th><th>category_code</th><th>brand</th><th>price</th><th>user_id</th><th>user_session</th></tr><tr><td>str</td><td>str</td><td>i64</td><td>i64</td><td>str</td><td>str</td><td>f64</td><td>i64</td><td>str</td></tr></thead><tbody><tr><td>&quot;2019-11-01 00:…</td><td>&quot;view&quot;</td><td>1003461</td><td>2053013555631882655</td><td>&quot;electronics.sm…</td><td>&quot;xiaomi&quot;</td><td>489.07</td><td>520088904</td><td>&quot;4d3b30da-a5e4-…</td></tr><tr><td>&quot;2019-11-01 00:…</td><td>&quot;view&quot;</td><td>5000088</td><td>2053013566100866035</td><td>&quot;appliances.sew…</td><td>&quot;janome&quot;</td><td>293.65</td><td>530496790</td><td>&quot;8e5f4f83-366c-…</td></tr><tr><td>&quot;2019-11-01 00:…</td><td>&quot;view&quot;</td><td>17302664</td><td>2053013553853497655</td><td>null</td><td>&quot;creed&quot;</td><td>28.31</td><td>561587266</td><td>&quot;755422e7-9040-…</td></tr><tr><td>&quot;2019-11-01 00:…</td><td>&quot;view&quot;</td><td>3601530</td><td>2053013563810775923</td><td>&quot;appliances.kit…</td><td>&quot;lg&quot;</td><td>712.87</td><td>518085591</td><td>&quot;3bfb58cd-7892-…</td></tr><tr><td>&quot;2019-11-01 00:…</td><td>&quot;view&quot;</td><td>1004775</td><td>2053013555631882655</td><td>&quot;electronics.sm…</td><td>&quot;xiaomi&quot;</td><td>183.27</td><td>558856683</td><td>&quot;313628f1-68b8-…</td></tr></tbody></table></div>"
     },
     "execution_count": 19,
     "metadata": {},
     "output_type": "execute_result"
    }
   ],
   "source": [
    "df.head()\n",
    "\n",
    "print(f\"Total number of rows: {df.shape[0]}\")"
   ],
   "metadata": {
    "collapsed": false,
    "ExecuteTime": {
     "end_time": "2023-06-29T20:19:19.741831600Z",
     "start_time": "2023-06-29T20:19:19.728831300Z"
    }
   }
  },
  {
   "cell_type": "code",
   "execution_count": 20,
   "outputs": [],
   "source": [
    "# df_top = df.head(10)"
   ],
   "metadata": {
    "collapsed": false,
    "ExecuteTime": {
     "end_time": "2023-06-29T20:19:19.769848600Z",
     "start_time": "2023-06-29T20:19:19.741831600Z"
    }
   }
  },
  {
   "cell_type": "code",
   "execution_count": 21,
   "outputs": [
    {
     "name": "stdout",
     "output_type": "stream",
     "text": [
      "CPU times: total: 0 ns\n",
      "Wall time: 2 ms\n"
     ]
    },
    {
     "data": {
      "text/plain": "shape: (10, 2)\n┌──────────┬────────────────┐\n│ brand    ┆ brand2         │\n│ ---      ┆ ---            │\n│ str      ┆ str            │\n╞══════════╪════════════════╡\n│ xiaomi   ┆ brand-xiaomi   │\n│ janome   ┆ brand-janome   │\n│ creed    ┆ brand-creed    │\n│ lg       ┆ brand-lg       │\n│ …        ┆ …              │\n│ hp       ┆ brand-hp       │\n│ rondell  ┆ brand-rondell  │\n│ michelin ┆ brand-michelin │\n│ apple    ┆ brand-apple    │\n└──────────┴────────────────┘",
      "text/html": "<div><style>\n.dataframe > thead > tr > th,\n.dataframe > tbody > tr > td {\n  text-align: right;\n}\n</style>\n<small>shape: (10, 2)</small><table border=\"1\" class=\"dataframe\"><thead><tr><th>brand</th><th>brand2</th></tr><tr><td>str</td><td>str</td></tr></thead><tbody><tr><td>&quot;xiaomi&quot;</td><td>&quot;brand-xiaomi&quot;</td></tr><tr><td>&quot;janome&quot;</td><td>&quot;brand-janome&quot;</td></tr><tr><td>&quot;creed&quot;</td><td>&quot;brand-creed&quot;</td></tr><tr><td>&quot;lg&quot;</td><td>&quot;brand-lg&quot;</td></tr><tr><td>&quot;xiaomi&quot;</td><td>&quot;brand-xiaomi&quot;</td></tr><tr><td>&quot;hp&quot;</td><td>&quot;brand-hp&quot;</td></tr><tr><td>&quot;hp&quot;</td><td>&quot;brand-hp&quot;</td></tr><tr><td>&quot;rondell&quot;</td><td>&quot;brand-rondell&quot;</td></tr><tr><td>&quot;michelin&quot;</td><td>&quot;brand-michelin…</td></tr><tr><td>&quot;apple&quot;</td><td>&quot;brand-apple&quot;</td></tr></tbody></table></div>"
     },
     "execution_count": 21,
     "metadata": {},
     "output_type": "execute_result"
    }
   ],
   "source": [
    "%%time\n",
    "#Operation on columns\n",
    "\n",
    "df.with_columns((\n",
    "    \"brand-\" + pl.col(\"brand\")\n",
    ").alias(\"brand2\")).select(pl.col([\"brand\", \"brand2\"])).head(10)"
   ],
   "metadata": {
    "collapsed": false,
    "ExecuteTime": {
     "end_time": "2023-06-29T20:19:19.812671400Z",
     "start_time": "2023-06-29T20:19:19.757831600Z"
    }
   }
  },
  {
   "cell_type": "code",
   "execution_count": 22,
   "outputs": [
    {
     "name": "stdout",
     "output_type": "stream",
     "text": [
      "Total execution time 0.0s\n"
     ]
    }
   ],
   "source": [
    "%%time\n",
    "#Multiple operation on columns\n",
    "# start = time()\n",
    "\n",
    "df.with_columns([\n",
    "    (\"brand-\" + pl.col(\"brand\")).alias(\"brand2\"),\n",
    "    (pl.col(\"price\") * 100).alias(\"price2\")\n",
    "]).select(pl.col([\"brand\", \"brand2\", \"price\", \"price2\"]))\n",
    "# print(f\"Total execution time {round(time() - start, 2)}s\")"
   ],
   "metadata": {
    "collapsed": false
   }
  },
  {
   "cell_type": "code",
   "execution_count": 28,
   "outputs": [
    {
     "name": "stdout",
     "output_type": "stream",
     "text": [
      "CPU times: total: 0 ns\n",
      "Wall time: 1.01 ms\n"
     ]
    },
    {
     "data": {
      "text/plain": "shape: (1, 1)\n┌────────────┐\n│ price_avg  │\n│ ---        │\n│ f64        │\n╞════════════╡\n│ 292.181443 │\n└────────────┘",
      "text/html": "<div><style>\n.dataframe > thead > tr > th,\n.dataframe > tbody > tr > td {\n  text-align: right;\n}\n</style>\n<small>shape: (1, 1)</small><table border=\"1\" class=\"dataframe\"><thead><tr><th>price_avg</th></tr><tr><td>f64</td></tr></thead><tbody><tr><td>292.181443</td></tr></tbody></table></div>"
     },
     "execution_count": 28,
     "metadata": {},
     "output_type": "execute_result"
    }
   ],
   "source": [
    "# Aggregation using mean function on a column\n",
    "\n",
    "%%time\n",
    "\n",
    "df.select([\n",
    "    pl.col(\"price\").mean().alias(\"price_avg\")\n",
    "])"
   ],
   "metadata": {
    "collapsed": false,
    "ExecuteTime": {
     "end_time": "2023-06-29T20:29:30.594451800Z",
     "start_time": "2023-06-29T20:29:30.553767500Z"
    }
   }
  },
  {
   "cell_type": "code",
   "execution_count": 34,
   "outputs": [
    {
     "name": "stderr",
     "output_type": "stream",
     "text": [
      "UsageError: Line magic function `%%time` not found.\n"
     ]
    }
   ],
   "source": [
    "# Aggregation using mean function reporting the value on all the rows by selecting explicitly all the columns\n",
    "\n",
    "%%time\n",
    "\n",
    "df.select([pl.all(),\n",
    "           pl.col(\"price\").mean().alias(\"price_avg\")]).head(10)"
   ],
   "metadata": {
    "collapsed": false,
    "ExecuteTime": {
     "end_time": "2023-07-01T22:06:56.146152200Z",
     "start_time": "2023-07-01T22:06:56.126564300Z"
    }
   }
  },
  {
   "cell_type": "code",
   "execution_count": 37,
   "outputs": [
    {
     "name": "stdout",
     "output_type": "stream",
     "text": [
      "CPU times: total: 31.2 ms\n",
      "Wall time: 44.3 ms\n"
     ]
    },
    {
     "data": {
      "text/plain": "shape: (5, 10)\n┌──────────┬──────────┬─────────────┬───────────┬───┬────────┬───────────┬────────────┬────────────┐\n│ event_ti ┆ event_ty ┆ product_id  ┆ category_ ┆ … ┆ price  ┆ user_id   ┆ user_sessi ┆ price_by_c │\n│ me       ┆ pe       ┆ ---         ┆ id        ┆   ┆ ---    ┆ ---       ┆ on         ┆ ategory_co │\n│ ---      ┆ ---      ┆ i64         ┆ ---       ┆   ┆ f64    ┆ i64       ┆ ---        ┆ de         │\n│ str      ┆ str      ┆             ┆ i64       ┆   ┆        ┆           ┆ str        ┆ ---        │\n│          ┆          ┆             ┆           ┆   ┆        ┆           ┆            ┆ f64        │\n╞══════════╪══════════╪═════════════╪═══════════╪═══╪════════╪═══════════╪════════════╪════════════╡\n│ 2019-11- ┆ view     ┆ 1003461     ┆ 205301355 ┆ … ┆ 489.07 ┆ 520088904 ┆ 4d3b30da-a ┆ 464.752563 │\n│ 01       ┆          ┆             ┆ 563188265 ┆   ┆        ┆           ┆ 5e4-49df-b ┆            │\n│ 00:00:00 ┆          ┆             ┆ 5         ┆   ┆        ┆           ┆ 1a8-ba5943 ┆            │\n│ UTC      ┆          ┆             ┆           ┆   ┆        ┆           ┆ f1…        ┆            │\n│ 2019-11- ┆ view     ┆ 5000088     ┆ 205301356 ┆ … ┆ 293.65 ┆ 530496790 ┆ 8e5f4f83-3 ┆ 247.668254 │\n│ 01       ┆          ┆             ┆ 610086603 ┆   ┆        ┆           ┆ 66c-4f70-8 ┆            │\n│ 00:00:00 ┆          ┆             ┆ 5         ┆   ┆        ┆           ┆ 60e-ca7417 ┆            │\n│ UTC      ┆          ┆             ┆           ┆   ┆        ┆           ┆ 41…        ┆            │\n│ 2019-11- ┆ view     ┆ 17302664    ┆ 205301355 ┆ … ┆ 28.31  ┆ 561587266 ┆ 755422e7-9 ┆ 176.442267 │\n│ 01       ┆          ┆             ┆ 385349765 ┆   ┆        ┆           ┆ 040-477b-9 ┆            │\n│ 00:00:01 ┆          ┆             ┆ 5         ┆   ┆        ┆           ┆ bd2-6a6e8f ┆            │\n│ UTC      ┆          ┆             ┆           ┆   ┆        ┆           ┆ d9…        ┆            │\n│ 2019-11- ┆ view     ┆ 3601530     ┆ 205301356 ┆ … ┆ 712.87 ┆ 518085591 ┆ 3bfb58cd-7 ┆ 330.713442 │\n│ 01       ┆          ┆             ┆ 381077592 ┆   ┆        ┆           ┆ 892-48cc-8 ┆            │\n│ 00:00:01 ┆          ┆             ┆ 3         ┆   ┆        ┆           ┆ 020-2f17e6 ┆            │\n│ UTC      ┆          ┆             ┆           ┆   ┆        ┆           ┆ de…        ┆            │\n│ 2019-11- ┆ view     ┆ 1004775     ┆ 205301355 ┆ … ┆ 183.27 ┆ 558856683 ┆ 313628f1-6 ┆ 464.752563 │\n│ 01       ┆          ┆             ┆ 563188265 ┆   ┆        ┆           ┆ 8b8-460d-8 ┆            │\n│ 00:00:01 ┆          ┆             ┆ 5         ┆   ┆        ┆           ┆ 4f6-cec7a8 ┆            │\n│ UTC      ┆          ┆             ┆           ┆   ┆        ┆           ┆ 79…        ┆            │\n└──────────┴──────────┴─────────────┴───────────┴───┴────────┴───────────┴────────────┴────────────┘",
      "text/html": "<div><style>\n.dataframe > thead > tr > th,\n.dataframe > tbody > tr > td {\n  text-align: right;\n}\n</style>\n<small>shape: (5, 10)</small><table border=\"1\" class=\"dataframe\"><thead><tr><th>event_time</th><th>event_type</th><th>product_id</th><th>category_id</th><th>category_code</th><th>brand</th><th>price</th><th>user_id</th><th>user_session</th><th>price_by_category_code</th></tr><tr><td>str</td><td>str</td><td>i64</td><td>i64</td><td>str</td><td>str</td><td>f64</td><td>i64</td><td>str</td><td>f64</td></tr></thead><tbody><tr><td>&quot;2019-11-01 00:…</td><td>&quot;view&quot;</td><td>1003461</td><td>2053013555631882655</td><td>&quot;electronics.sm…</td><td>&quot;xiaomi&quot;</td><td>489.07</td><td>520088904</td><td>&quot;4d3b30da-a5e4-…</td><td>464.752563</td></tr><tr><td>&quot;2019-11-01 00:…</td><td>&quot;view&quot;</td><td>5000088</td><td>2053013566100866035</td><td>&quot;appliances.sew…</td><td>&quot;janome&quot;</td><td>293.65</td><td>530496790</td><td>&quot;8e5f4f83-366c-…</td><td>247.668254</td></tr><tr><td>&quot;2019-11-01 00:…</td><td>&quot;view&quot;</td><td>17302664</td><td>2053013553853497655</td><td>null</td><td>&quot;creed&quot;</td><td>28.31</td><td>561587266</td><td>&quot;755422e7-9040-…</td><td>176.442267</td></tr><tr><td>&quot;2019-11-01 00:…</td><td>&quot;view&quot;</td><td>3601530</td><td>2053013563810775923</td><td>&quot;appliances.kit…</td><td>&quot;lg&quot;</td><td>712.87</td><td>518085591</td><td>&quot;3bfb58cd-7892-…</td><td>330.713442</td></tr><tr><td>&quot;2019-11-01 00:…</td><td>&quot;view&quot;</td><td>1004775</td><td>2053013555631882655</td><td>&quot;electronics.sm…</td><td>&quot;xiaomi&quot;</td><td>183.27</td><td>558856683</td><td>&quot;313628f1-68b8-…</td><td>464.752563</td></tr></tbody></table></div>"
     },
     "execution_count": 37,
     "metadata": {},
     "output_type": "execute_result"
    }
   ],
   "source": [
    "%%time\n",
    "\n",
    "# Update values based on window function\n",
    "# Using window function make possible to apply the operation over a target group\n",
    "\n",
    "df.with_columns([\n",
    "    pl.col(\"price\").mean().over(\"category_code\").alias(\"price_by_category_code\")\n",
    "]).head()"
   ],
   "metadata": {
    "collapsed": false,
    "ExecuteTime": {
     "end_time": "2023-07-01T22:11:45.687221Z",
     "start_time": "2023-07-01T22:11:45.560274300Z"
    }
   }
  },
  {
   "cell_type": "code",
   "execution_count": 38,
   "outputs": [
    {
     "name": "stdout",
     "output_type": "stream",
     "text": [
      "CPU times: total: 0 ns\n",
      "Wall time: 53.3 ms\n"
     ]
    },
    {
     "data": {
      "text/plain": "shape: (5, 4)\n┌───────────────────────────┬────────┬───────────────────┬───────────────────────┐\n│ category_code             ┆ price  ┆ price_by_category ┆ price_div_cat_average │\n│ ---                       ┆ ---    ┆ ---               ┆ ---                   │\n│ str                       ┆ f64    ┆ f64               ┆ f64                   │\n╞═══════════════════════════╪════════╪═══════════════════╪═══════════════════════╡\n│ electronics.smartphone    ┆ 489.07 ┆ 464.752563        ┆ 0.052323              │\n│ appliances.sewing_machine ┆ 293.65 ┆ 247.668254        ┆ 0.185659              │\n│ null                      ┆ 28.31  ┆ 176.442267        ┆ -0.839551             │\n│ appliances.kitchen.washer ┆ 712.87 ┆ 330.713442        ┆ 1.155552              │\n│ electronics.smartphone    ┆ 183.27 ┆ 464.752563        ┆ -0.605661             │\n└───────────────────────────┴────────┴───────────────────┴───────────────────────┘",
      "text/html": "<div><style>\n.dataframe > thead > tr > th,\n.dataframe > tbody > tr > td {\n  text-align: right;\n}\n</style>\n<small>shape: (5, 4)</small><table border=\"1\" class=\"dataframe\"><thead><tr><th>category_code</th><th>price</th><th>price_by_category</th><th>price_div_cat_average</th></tr><tr><td>str</td><td>f64</td><td>f64</td><td>f64</td></tr></thead><tbody><tr><td>&quot;electronics.sm…</td><td>489.07</td><td>464.752563</td><td>0.052323</td></tr><tr><td>&quot;appliances.sew…</td><td>293.65</td><td>247.668254</td><td>0.185659</td></tr><tr><td>null</td><td>28.31</td><td>176.442267</td><td>-0.839551</td></tr><tr><td>&quot;appliances.kit…</td><td>712.87</td><td>330.713442</td><td>1.155552</td></tr><tr><td>&quot;electronics.sm…</td><td>183.27</td><td>464.752563</td><td>-0.605661</td></tr></tbody></table></div>"
     },
     "execution_count": 38,
     "metadata": {},
     "output_type": "execute_result"
    }
   ],
   "source": [
    "%%time\n",
    "\n",
    "# Here we can use the over function to be able to perform operation on an entire new column.\n",
    "# In this case we have both the mean price by category code and the percentage of the price in comparison with the average price for its\n",
    "# category\n",
    "\n",
    "df_cat_window = df.select([\n",
    "    pl.col(\"category_code\"),\n",
    "    pl.col(\"price\"),\n",
    "    pl.col(\"price\").mean().over(\"category_code\").alias(\"price_by_category\"),\n",
    "    (pl.col(\"price\") / pl.col(\"price\").mean().over(\"category_code\") -1).alias(\"price_div_cat_average\")\n",
    "])\n",
    "\n",
    "df_cat_window.head()"
   ],
   "metadata": {
    "collapsed": false,
    "ExecuteTime": {
     "end_time": "2023-07-01T22:13:54.437716700Z",
     "start_time": "2023-07-01T22:13:54.369640200Z"
    }
   }
  },
  {
   "cell_type": "code",
   "execution_count": 39,
   "outputs": [
    {
     "name": "stdout",
     "output_type": "stream",
     "text": [
      "CPU times: total: 46.9 ms\n",
      "Wall time: 274 ms\n"
     ]
    },
    {
     "data": {
      "text/plain": "<Axes: >"
     },
     "execution_count": 39,
     "metadata": {},
     "output_type": "execute_result"
    },
    {
     "data": {
      "text/plain": "<Figure size 640x480 with 1 Axes>",
      "image/png": "[encoded data removed]"
     },
     "metadata": {},
     "output_type": "display_data"
    }
   ],
   "source": [
    "%%time\n",
    "\n",
    "# Now we can use Pandas to represent the values elaborated by Polars\n",
    "\n",
    "df_cat_window_pd = df_cat_window.to_pandas()\n",
    "\n",
    "df_cat_window_pd[\"price_div_cat_average\"].hist(bins=30, range=[0,5])"
   ],
   "metadata": {
    "collapsed": false,
    "ExecuteTime": {
     "end_time": "2023-07-01T22:18:00.661623300Z",
     "start_time": "2023-07-01T22:18:00.232652700Z"
    }
   }
  },
  {
   "cell_type": "code",
   "execution_count": 42,
   "outputs": [
    {
     "data": {
      "text/plain": "0.0    -1.000000\n0.1    -0.796844\n0.2    -0.700642\n0.3    -0.595165\n0.4    -0.478260\n0.5    -0.337222\n0.6    -0.135777\n0.7     0.111752\n0.8     0.520685\n0.9     1.119741\n1.0    28.339981\nName: price_div_cat_average, dtype: float64"
     },
     "execution_count": 42,
     "metadata": {},
     "output_type": "execute_result"
    }
   ],
   "source": [
    "df_cat_window_pd[\"price_div_cat_average\"].quantile(np.arange(0, 1.1, 0.1))"
   ],
   "metadata": {
    "collapsed": false,
    "ExecuteTime": {
     "end_time": "2023-07-01T22:20:26.117553800Z",
     "start_time": "2023-07-01T22:20:26.076808900Z"
    }
   }
  },
  {
   "cell_type": "code",
   "execution_count": 44,
   "outputs": [
    {
     "data": {
      "text/plain": "                         category_code    price  price_by_category  \\\n847809  construction.components.faucet  2065.17          70.387571   \n849208  construction.components.faucet  2065.17          70.387571   \n806209                 accessories.bag  1717.16          63.658580   \n417496                 accessories.bag  1717.16          63.658580   \n825524                 accessories.bag  1717.16          63.658580   \n...                                ...      ...                ...   \n468364                   apparel.dress   913.79          82.736525   \n456431                   apparel.dress   913.79          82.736525   \n535503                   apparel.dress   913.79          82.736525   \n20821                             None  1942.75         176.442267   \n361768                            None  1942.74         176.442267   \n\n        price_div_cat_average  \n847809              28.339981  \n849208              28.339981  \n806209              25.974526  \n417496              25.974526  \n825524              25.974526  \n...                       ...  \n468364              10.044578  \n456431              10.044578  \n535503              10.044578  \n20821               10.010684  \n361768              10.010627  \n\n[965 rows x 4 columns]",
      "text/html": "<div>\n<style scoped>\n    .dataframe tbody tr th:only-of-type {\n        vertical-align: middle;\n    }\n\n    .dataframe tbody tr th {\n        vertical-align: top;\n    }\n\n    .dataframe thead th {\n        text-align: right;\n    }\n</style>\n<table border=\"1\" class=\"dataframe\">\n  <thead>\n    <tr style=\"text-align: right;\">\n      <th></th>\n      <th>category_code</th>\n      <th>price</th>\n      <th>price_by_category</th>\n      <th>price_div_cat_average</th>\n    </tr>\n  </thead>\n  <tbody>\n    <tr>\n      <th>847809</th>\n      <td>construction.components.faucet</td>\n      <td>2065.17</td>\n      <td>70.387571</td>\n      <td>28.339981</td>\n    </tr>\n    <tr>\n      <th>849208</th>\n      <td>construction.components.faucet</td>\n      <td>2065.17</td>\n      <td>70.387571</td>\n      <td>28.339981</td>\n    </tr>\n    <tr>\n      <th>806209</th>\n      <td>accessories.bag</td>\n      <td>1717.16</td>\n      <td>63.658580</td>\n      <td>25.974526</td>\n    </tr>\n    <tr>\n      <th>417496</th>\n      <td>accessories.bag</td>\n      <td>1717.16</td>\n      <td>63.658580</td>\n      <td>25.974526</td>\n    </tr>\n    <tr>\n      <th>825524</th>\n      <td>accessories.bag</td>\n      <td>1717.16</td>\n      <td>63.658580</td>\n      <td>25.974526</td>\n    </tr>\n    <tr>\n      <th>...</th>\n      <td>...</td>\n      <td>...</td>\n      <td>...</td>\n      <td>...</td>\n    </tr>\n    <tr>\n      <th>468364</th>\n      <td>apparel.dress</td>\n      <td>913.79</td>\n      <td>82.736525</td>\n      <td>10.044578</td>\n    </tr>\n    <tr>\n      <th>456431</th>\n      <td>apparel.dress</td>\n      <td>913.79</td>\n      <td>82.736525</td>\n      <td>10.044578</td>\n    </tr>\n    <tr>\n      <th>535503</th>\n      <td>apparel.dress</td>\n      <td>913.79</td>\n      <td>82.736525</td>\n      <td>10.044578</td>\n    </tr>\n    <tr>\n      <th>20821</th>\n      <td>None</td>\n      <td>1942.75</td>\n      <td>176.442267</td>\n      <td>10.010684</td>\n    </tr>\n    <tr>\n      <th>361768</th>\n      <td>None</td>\n      <td>1942.74</td>\n      <td>176.442267</td>\n      <td>10.010627</td>\n    </tr>\n  </tbody>\n</table>\n<p>965 rows × 4 columns</p>\n</div>"
     },
     "execution_count": 44,
     "metadata": {},
     "output_type": "execute_result"
    }
   ],
   "source": [
    "df_cat_window_pd[df_cat_window_pd[\"price_div_cat_average\"]>10].sort_values(\"price_div_cat_average\", ascending=False)"
   ],
   "metadata": {
    "collapsed": false,
    "ExecuteTime": {
     "end_time": "2023-07-01T22:22:19.338644800Z",
     "start_time": "2023-07-01T22:22:19.315402300Z"
    }
   }
  }
 ],
 "metadata": {
  "kernelspec": {
   "display_name": "Python 3",
   "language": "python",
   "name": "python3"
  },
  "language_info": {
   "codemirror_mode": {
    "name": "ipython",
    "version": 2
   },
   "file_extension": ".py",
   "mimetype": "text/x-python",
   "name": "python",
   "nbconvert_exporter": "python",
   "pygments_lexer": "ipython2",
   "version": "2.7.6"
  }
 },
 "nbformat": 4,
 "nbformat_minor": 0
}
