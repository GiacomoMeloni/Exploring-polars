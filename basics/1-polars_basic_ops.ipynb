{
 "cells": [
  {
   "cell_type": "code",
   "execution_count": 1,
   "outputs": [
    {
     "name": "stdout",
     "output_type": "stream",
     "text": [
      "Requirement already satisfied: polars in c:\\users\\giacomo\\projects\\exploring-polars\\venv\\lib\\site-packages (0.18.3)\n"
     ]
    },
    {
     "name": "stderr",
     "output_type": "stream",
     "text": [
      "\n",
      "[notice] A new release of pip available: 22.3.1 -> 23.1.2\n",
      "[notice] To update, run: python.exe -m pip install --upgrade pip\n"
     ]
    },
    {
     "name": "stdout",
     "output_type": "stream",
     "text": [
      "Requirement already satisfied: pandas in c:\\users\\giacomo\\projects\\exploring-polars\\venv\\lib\\site-packages (2.0.2)\n",
      "Requirement already satisfied: numpy>=1.21.0 in c:\\users\\giacomo\\projects\\exploring-polars\\venv\\lib\\site-packages (from pandas) (1.25.0)\n",
      "Requirement already satisfied: python-dateutil>=2.8.2 in c:\\users\\giacomo\\projects\\exploring-polars\\venv\\lib\\site-packages (from pandas) (2.8.2)\n",
      "Requirement already satisfied: pytz>=2020.1 in c:\\users\\giacomo\\projects\\exploring-polars\\venv\\lib\\site-packages (from pandas) (2023.3)\n",
      "Requirement already satisfied: tzdata>=2022.1 in c:\\users\\giacomo\\projects\\exploring-polars\\venv\\lib\\site-packages (from pandas) (2023.3)\n",
      "Requirement already satisfied: six>=1.5 in c:\\users\\giacomo\\projects\\exploring-polars\\venv\\lib\\site-packages (from python-dateutil>=2.8.2->pandas) (1.16.0)\n"
     ]
    },
    {
     "name": "stderr",
     "output_type": "stream",
     "text": [
      "\n",
      "[notice] A new release of pip available: 22.3.1 -> 23.1.2\n",
      "[notice] To update, run: python.exe -m pip install --upgrade pip\n"
     ]
    },
    {
     "name": "stdout",
     "output_type": "stream",
     "text": [
      "Requirement already satisfied: numpy in c:\\users\\giacomo\\projects\\exploring-polars\\venv\\lib\\site-packages (1.25.0)\n"
     ]
    },
    {
     "name": "stderr",
     "output_type": "stream",
     "text": [
      "\n",
      "[notice] A new release of pip available: 22.3.1 -> 23.1.2\n",
      "[notice] To update, run: python.exe -m pip install --upgrade pip\n"
     ]
    },
    {
     "name": "stdout",
     "output_type": "stream",
     "text": [
      "Requirement already satisfied: pyarrow in c:\\users\\giacomo\\projects\\exploring-polars\\venv\\lib\\site-packages (12.0.1)\n",
      "Requirement already satisfied: numpy>=1.16.6 in c:\\users\\giacomo\\projects\\exploring-polars\\venv\\lib\\site-packages (from pyarrow) (1.25.0)\n"
     ]
    },
    {
     "name": "stderr",
     "output_type": "stream",
     "text": [
      "\n",
      "[notice] A new release of pip available: 22.3.1 -> 23.1.2\n",
      "[notice] To update, run: python.exe -m pip install --upgrade pip\n",
      "\n",
      "[notice] A new release of pip available: 22.3.1 -> 23.1.2\n",
      "[notice] To update, run: python.exe -m pip install --upgrade pip\n"
     ]
    },
    {
     "name": "stdout",
     "output_type": "stream",
     "text": [
      "Requirement already satisfied: matplotlib in c:\\users\\giacomo\\projects\\exploring-polars\\venv\\lib\\site-packages (3.7.1)\n",
      "Requirement already satisfied: pillow>=6.2.0 in c:\\users\\giacomo\\projects\\exploring-polars\\venv\\lib\\site-packages (from matplotlib) (9.5.0)\n",
      "Requirement already satisfied: numpy>=1.20 in c:\\users\\giacomo\\projects\\exploring-polars\\venv\\lib\\site-packages (from matplotlib) (1.25.0)\n",
      "Requirement already satisfied: pyparsing>=2.3.1 in c:\\users\\giacomo\\projects\\exploring-polars\\venv\\lib\\site-packages (from matplotlib) (3.1.0)\n",
      "Requirement already satisfied: fonttools>=4.22.0 in c:\\users\\giacomo\\projects\\exploring-polars\\venv\\lib\\site-packages (from matplotlib) (4.40.0)\n",
      "Requirement already satisfied: python-dateutil>=2.7 in c:\\users\\giacomo\\projects\\exploring-polars\\venv\\lib\\site-packages (from matplotlib) (2.8.2)\n",
      "Requirement already satisfied: contourpy>=1.0.1 in c:\\users\\giacomo\\projects\\exploring-polars\\venv\\lib\\site-packages (from matplotlib) (1.1.0)\n",
      "Requirement already satisfied: kiwisolver>=1.0.1 in c:\\users\\giacomo\\projects\\exploring-polars\\venv\\lib\\site-packages (from matplotlib) (1.4.4)\n",
      "Requirement already satisfied: cycler>=0.10 in c:\\users\\giacomo\\projects\\exploring-polars\\venv\\lib\\site-packages (from matplotlib) (0.11.0)\n",
      "Requirement already satisfied: packaging>=20.0 in c:\\users\\giacomo\\projects\\exploring-polars\\venv\\lib\\site-packages (from matplotlib) (23.1)\n",
      "Requirement already satisfied: six>=1.5 in c:\\users\\giacomo\\projects\\exploring-polars\\venv\\lib\\site-packages (from python-dateutil>=2.7->matplotlib) (1.16.0)\n",
      "Requirement already satisfied: seaborn in c:\\users\\giacomo\\projects\\exploring-polars\\venv\\lib\\site-packages (0.12.2)\n",
      "Requirement already satisfied: pandas>=0.25 in c:\\users\\giacomo\\projects\\exploring-polars\\venv\\lib\\site-packages (from seaborn) (2.0.2)\n",
      "Requirement already satisfied: matplotlib!=3.6.1,>=3.1 in c:\\users\\giacomo\\projects\\exploring-polars\\venv\\lib\\site-packages (from seaborn) (3.7.1)\n",
      "Requirement already satisfied: numpy!=1.24.0,>=1.17 in c:\\users\\giacomo\\projects\\exploring-polars\\venv\\lib\\site-packages (from seaborn) (1.25.0)\n",
      "Requirement already satisfied: fonttools>=4.22.0 in c:\\users\\giacomo\\projects\\exploring-polars\\venv\\lib\\site-packages (from matplotlib!=3.6.1,>=3.1->seaborn) (4.40.0)\n",
      "Requirement already satisfied: packaging>=20.0 in c:\\users\\giacomo\\projects\\exploring-polars\\venv\\lib\\site-packages (from matplotlib!=3.6.1,>=3.1->seaborn) (23.1)\n",
      "Requirement already satisfied: kiwisolver>=1.0.1 in c:\\users\\giacomo\\projects\\exploring-polars\\venv\\lib\\site-packages (from matplotlib!=3.6.1,>=3.1->seaborn) (1.4.4)\n",
      "Requirement already satisfied: contourpy>=1.0.1 in c:\\users\\giacomo\\projects\\exploring-polars\\venv\\lib\\site-packages (from matplotlib!=3.6.1,>=3.1->seaborn) (1.1.0)\n",
      "Requirement already satisfied: cycler>=0.10 in c:\\users\\giacomo\\projects\\exploring-polars\\venv\\lib\\site-packages (from matplotlib!=3.6.1,>=3.1->seaborn) (0.11.0)\n",
      "Requirement already satisfied: pyparsing>=2.3.1 in c:\\users\\giacomo\\projects\\exploring-polars\\venv\\lib\\site-packages (from matplotlib!=3.6.1,>=3.1->seaborn) (3.1.0)\n",
      "Requirement already satisfied: python-dateutil>=2.7 in c:\\users\\giacomo\\projects\\exploring-polars\\venv\\lib\\site-packages (from matplotlib!=3.6.1,>=3.1->seaborn) (2.8.2)\n",
      "Requirement already satisfied: pillow>=6.2.0 in c:\\users\\giacomo\\projects\\exploring-polars\\venv\\lib\\site-packages (from matplotlib!=3.6.1,>=3.1->seaborn) (9.5.0)\n",
      "Requirement already satisfied: pytz>=2020.1 in c:\\users\\giacomo\\projects\\exploring-polars\\venv\\lib\\site-packages (from pandas>=0.25->seaborn) (2023.3)\n",
      "Requirement already satisfied: tzdata>=2022.1 in c:\\users\\giacomo\\projects\\exploring-polars\\venv\\lib\\site-packages (from pandas>=0.25->seaborn) (2023.3)\n",
      "Requirement already satisfied: six>=1.5 in c:\\users\\giacomo\\projects\\exploring-polars\\venv\\lib\\site-packages (from python-dateutil>=2.7->matplotlib!=3.6.1,>=3.1->seaborn) (1.16.0)\n"
     ]
    },
    {
     "name": "stderr",
     "output_type": "stream",
     "text": [
      "\n",
      "[notice] A new release of pip available: 22.3.1 -> 23.1.2\n",
      "[notice] To update, run: python.exe -m pip install --upgrade pip\n"
     ]
    }
   ],
   "source": [
    "!pip install polars\n",
    "!pip install pandas\n",
    "!pip install numpy\n",
    "!pip install pyarrow\n",
    "!pip install matplotlib\n",
    "!pip install seaborn"
   ],
   "metadata": {
    "collapsed": false,
    "ExecuteTime": {
     "end_time": "2023-06-24T16:51:10.978939800Z",
     "start_time": "2023-06-24T16:51:01.523528500Z"
    }
   }
  },
  {
   "cell_type": "code",
   "execution_count": 19,
   "metadata": {
    "collapsed": true,
    "ExecuteTime": {
     "end_time": "2023-06-24T17:20:05.445463800Z",
     "start_time": "2023-06-24T17:20:05.432808900Z"
    }
   },
   "outputs": [],
   "source": [
    "from time import time\n",
    "import polars as pl\n",
    "import pandas as pd\n"
   ]
  },
  {
   "cell_type": "code",
   "execution_count": 3,
   "outputs": [],
   "source": [
    "from kaggle.api.kaggle_api_extended import KaggleApi\n",
    "\n",
    "kg_api = KaggleApi()\n",
    "kg_api.authenticate()"
   ],
   "metadata": {
    "collapsed": false,
    "ExecuteTime": {
     "end_time": "2023-06-24T16:51:11.293313300Z",
     "start_time": "2023-06-24T16:51:11.089039600Z"
    }
   }
  },
  {
   "cell_type": "code",
   "execution_count": 4,
   "outputs": [],
   "source": [
    "# ⬇️ Download Dataset from Kaggle\n",
    "# kg_api.dataset_download_cli('mkechinov/ecommerce-behavior-data-from-multi-category-store')"
   ],
   "metadata": {
    "collapsed": false,
    "ExecuteTime": {
     "end_time": "2023-06-24T16:51:11.309403300Z",
     "start_time": "2023-06-24T16:51:11.295312700Z"
    }
   }
  },
  {
   "cell_type": "code",
   "execution_count": 5,
   "outputs": [],
   "source": [
    "# from zipfile import ZipFile\n",
    "#\n",
    "# with ZipFile(r'.\\datasets\\ecommerce-behavior-data-from-multi-category-store.zip', 'r') as zipref:\n",
    "#     zipref.extractall()"
   ],
   "metadata": {
    "collapsed": false,
    "ExecuteTime": {
     "end_time": "2023-06-24T16:51:11.332125200Z",
     "start_time": "2023-06-24T16:51:11.310405400Z"
    }
   }
  },
  {
   "cell_type": "markdown",
   "source": [],
   "metadata": {
    "collapsed": false
   }
  },
  {
   "cell_type": "code",
   "execution_count": 27,
   "outputs": [
    {
     "name": "stdout",
     "output_type": "stream",
     "text": [
      "Reading a 1000000 Dataframe with Polars took: 0.9461s\n",
      "CPU times: total: 344 ms\n",
      "Wall time: 946 ms\n"
     ]
    }
   ],
   "source": [
    "%%time\n",
    "start = time()\n",
    "dfp = pd.read_csv(r\".\\datasets\\2019-Nov-1M.csv\", )\n",
    "pandas_read_time = time() - start\n",
    "print(f\"Reading a {len(dfp)} Dataframe with Polars took: {round(pandas_read_time,4)}s\")"
   ],
   "metadata": {
    "collapsed": false,
    "ExecuteTime": {
     "end_time": "2023-06-24T17:21:24.858840200Z",
     "start_time": "2023-06-24T17:21:23.896861100Z"
    }
   }
  },
  {
   "cell_type": "code",
   "execution_count": 28,
   "outputs": [
    {
     "name": "stdout",
     "output_type": "stream",
     "text": [
      "Reading a 1000000 Dataframe with Polars took: 0.1075s\n"
     ]
    }
   ],
   "source": [
    "# %%time\n",
    "start = time()\n",
    "df = pl.read_csv(r\".\\datasets\\2019-Nov-1M.csv\")\n",
    "polars_read_time = time() - start\n",
    "print(f\"Reading a {len(df)} Dataframe with Polars took: {round(polars_read_time,4)}s\")"
   ],
   "metadata": {
    "collapsed": false,
    "ExecuteTime": {
     "end_time": "2023-06-24T17:21:29.287649900Z",
     "start_time": "2023-06-24T17:21:29.159074500Z"
    }
   }
  },
  {
   "cell_type": "code",
   "execution_count": 29,
   "outputs": [
    {
     "name": "stdout",
     "output_type": "stream",
     "text": [
      "Polars has been x8.8 times faster than Pandas\n"
     ]
    }
   ],
   "source": [
    "# Reading Time comparison between Pandas and Polars with a 1M CSV File with 9 columns\n",
    "\n",
    "if pandas_read_time > polars_read_time:\n",
    "    print (f\"Polars has been x{round(pandas_read_time/polars_read_time,2)} times faster than Pandas\")\n",
    "else:\n",
    "    print (f\"Pandas has been x{round(polars_read_time/pandas_read_time,2)} times faster than Polars\")"
   ],
   "metadata": {
    "collapsed": false,
    "ExecuteTime": {
     "end_time": "2023-06-24T17:23:32.812255Z",
     "start_time": "2023-06-24T17:23:32.791254800Z"
    }
   }
  },
  {
   "cell_type": "code",
   "execution_count": 23,
   "outputs": [
    {
     "data": {
      "text/plain": "(1000000, 9)"
     },
     "execution_count": 23,
     "metadata": {},
     "output_type": "execute_result"
    }
   ],
   "source": [
    "df.shape"
   ],
   "metadata": {
    "collapsed": false,
    "ExecuteTime": {
     "end_time": "2023-06-24T17:20:33.410408100Z",
     "start_time": "2023-06-24T17:20:33.398156Z"
    }
   }
  },
  {
   "cell_type": "code",
   "execution_count": 12,
   "outputs": [
    {
     "data": {
      "text/plain": "shape: (5, 9)\n┌─────────────┬────────────┬────────────┬───────────┬───┬────────┬────────┬───────────┬────────────┐\n│ event_time  ┆ event_type ┆ product_id ┆ category_ ┆ … ┆ brand  ┆ price  ┆ user_id   ┆ user_sessi │\n│ ---         ┆ ---        ┆ ---        ┆ id        ┆   ┆ ---    ┆ ---    ┆ ---       ┆ on         │\n│ str         ┆ str        ┆ i64        ┆ ---       ┆   ┆ str    ┆ f64    ┆ i64       ┆ ---        │\n│             ┆            ┆            ┆ i64       ┆   ┆        ┆        ┆           ┆ str        │\n╞═════════════╪════════════╪════════════╪═══════════╪═══╪════════╪════════╪═══════════╪════════════╡\n│ 2019-11-01  ┆ view       ┆ 1003461    ┆ 205301355 ┆ … ┆ xiaomi ┆ 489.07 ┆ 520088904 ┆ 4d3b30da-a │\n│ 00:00:00    ┆            ┆            ┆ 563188265 ┆   ┆        ┆        ┆           ┆ 5e4-49df-b │\n│ UTC         ┆            ┆            ┆ 5         ┆   ┆        ┆        ┆           ┆ 1a8-ba5943 │\n│             ┆            ┆            ┆           ┆   ┆        ┆        ┆           ┆ f1…        │\n│ 2019-11-01  ┆ view       ┆ 5000088    ┆ 205301356 ┆ … ┆ janome ┆ 293.65 ┆ 530496790 ┆ 8e5f4f83-3 │\n│ 00:00:00    ┆            ┆            ┆ 610086603 ┆   ┆        ┆        ┆           ┆ 66c-4f70-8 │\n│ UTC         ┆            ┆            ┆ 5         ┆   ┆        ┆        ┆           ┆ 60e-ca7417 │\n│             ┆            ┆            ┆           ┆   ┆        ┆        ┆           ┆ 41…        │\n│ 2019-11-01  ┆ view       ┆ 17302664   ┆ 205301355 ┆ … ┆ creed  ┆ 28.31  ┆ 561587266 ┆ 755422e7-9 │\n│ 00:00:01    ┆            ┆            ┆ 385349765 ┆   ┆        ┆        ┆           ┆ 040-477b-9 │\n│ UTC         ┆            ┆            ┆ 5         ┆   ┆        ┆        ┆           ┆ bd2-6a6e8f │\n│             ┆            ┆            ┆           ┆   ┆        ┆        ┆           ┆ d9…        │\n│ 2019-11-01  ┆ view       ┆ 3601530    ┆ 205301356 ┆ … ┆ lg     ┆ 712.87 ┆ 518085591 ┆ 3bfb58cd-7 │\n│ 00:00:01    ┆            ┆            ┆ 381077592 ┆   ┆        ┆        ┆           ┆ 892-48cc-8 │\n│ UTC         ┆            ┆            ┆ 3         ┆   ┆        ┆        ┆           ┆ 020-2f17e6 │\n│             ┆            ┆            ┆           ┆   ┆        ┆        ┆           ┆ de…        │\n│ 2019-11-01  ┆ view       ┆ 1004775    ┆ 205301355 ┆ … ┆ xiaomi ┆ 183.27 ┆ 558856683 ┆ 313628f1-6 │\n│ 00:00:01    ┆            ┆            ┆ 563188265 ┆   ┆        ┆        ┆           ┆ 8b8-460d-8 │\n│ UTC         ┆            ┆            ┆ 5         ┆   ┆        ┆        ┆           ┆ 4f6-cec7a8 │\n│             ┆            ┆            ┆           ┆   ┆        ┆        ┆           ┆ 79…        │\n└─────────────┴────────────┴────────────┴───────────┴───┴────────┴────────┴───────────┴────────────┘",
      "text/html": "<div><style>\n.dataframe > thead > tr > th,\n.dataframe > tbody > tr > td {\n  text-align: right;\n}\n</style>\n<small>shape: (5, 9)</small><table border=\"1\" class=\"dataframe\"><thead><tr><th>event_time</th><th>event_type</th><th>product_id</th><th>category_id</th><th>category_code</th><th>brand</th><th>price</th><th>user_id</th><th>user_session</th></tr><tr><td>str</td><td>str</td><td>i64</td><td>i64</td><td>str</td><td>str</td><td>f64</td><td>i64</td><td>str</td></tr></thead><tbody><tr><td>&quot;2019-11-01 00:…</td><td>&quot;view&quot;</td><td>1003461</td><td>2053013555631882655</td><td>&quot;electronics.sm…</td><td>&quot;xiaomi&quot;</td><td>489.07</td><td>520088904</td><td>&quot;4d3b30da-a5e4-…</td></tr><tr><td>&quot;2019-11-01 00:…</td><td>&quot;view&quot;</td><td>5000088</td><td>2053013566100866035</td><td>&quot;appliances.sew…</td><td>&quot;janome&quot;</td><td>293.65</td><td>530496790</td><td>&quot;8e5f4f83-366c-…</td></tr><tr><td>&quot;2019-11-01 00:…</td><td>&quot;view&quot;</td><td>17302664</td><td>2053013553853497655</td><td>null</td><td>&quot;creed&quot;</td><td>28.31</td><td>561587266</td><td>&quot;755422e7-9040-…</td></tr><tr><td>&quot;2019-11-01 00:…</td><td>&quot;view&quot;</td><td>3601530</td><td>2053013563810775923</td><td>&quot;appliances.kit…</td><td>&quot;lg&quot;</td><td>712.87</td><td>518085591</td><td>&quot;3bfb58cd-7892-…</td></tr><tr><td>&quot;2019-11-01 00:…</td><td>&quot;view&quot;</td><td>1004775</td><td>2053013555631882655</td><td>&quot;electronics.sm…</td><td>&quot;xiaomi&quot;</td><td>183.27</td><td>558856683</td><td>&quot;313628f1-68b8-…</td></tr></tbody></table></div>"
     },
     "execution_count": 12,
     "metadata": {},
     "output_type": "execute_result"
    }
   ],
   "source": [
    "df.head()"
   ],
   "metadata": {
    "collapsed": false,
    "ExecuteTime": {
     "end_time": "2023-06-24T17:12:05.360284600Z",
     "start_time": "2023-06-24T17:12:05.354946900Z"
    }
   }
  },
  {
   "cell_type": "code",
   "execution_count": 13,
   "outputs": [
    {
     "data": {
      "text/plain": "[Utf8, Utf8, Int64, Int64, Utf8, Utf8, Float64, Int64, Utf8]"
     },
     "execution_count": 13,
     "metadata": {},
     "output_type": "execute_result"
    }
   ],
   "source": [
    "df.dtypes"
   ],
   "metadata": {
    "collapsed": false,
    "ExecuteTime": {
     "end_time": "2023-06-24T17:12:27.827385100Z",
     "start_time": "2023-06-24T17:12:27.805347400Z"
    }
   }
  },
  {
   "cell_type": "markdown",
   "source": [
    "To select specific rows using index numbers, you can use\n",
    "\n",
    "For example, through this syntax you can select the first row with all the columns of the DataFrame\n",
    "```\n",
    "df[0,:]\n",
    "```\n",
    "If you need to specify a range of rows, you can use the following command:\n",
    "```\n",
    "df[0:10,:]\n",
    "```\n",
    "In this way you are able to select the DataFrame's first 10 rows"
   ],
   "metadata": {
    "collapsed": false
   }
  },
  {
   "cell_type": "code",
   "execution_count": 47,
   "outputs": [
    {
     "data": {
      "text/plain": "shape: (10, 2)\n┌────────────┬───────────────────────────┐\n│ product_id ┆ category_code             │\n│ ---        ┆ ---                       │\n│ i64        ┆ str                       │\n╞════════════╪═══════════════════════════╡\n│ 1003461    ┆ electronics.smartphone    │\n│ 5000088    ┆ appliances.sewing_machine │\n│ 17302664   ┆ null                      │\n│ 3601530    ┆ appliances.kitchen.washer │\n│ …          ┆ …                         │\n│ 1306421    ┆ computers.notebook        │\n│ 15900065   ┆ null                      │\n│ 12708937   ┆ null                      │\n│ 1004258    ┆ electronics.smartphone    │\n└────────────┴───────────────────────────┘",
      "text/html": "<div><style>\n.dataframe > thead > tr > th,\n.dataframe > tbody > tr > td {\n  text-align: right;\n}\n</style>\n<small>shape: (10, 2)</small><table border=\"1\" class=\"dataframe\"><thead><tr><th>product_id</th><th>category_code</th></tr><tr><td>i64</td><td>str</td></tr></thead><tbody><tr><td>1003461</td><td>&quot;electronics.sm…</td></tr><tr><td>5000088</td><td>&quot;appliances.sew…</td></tr><tr><td>17302664</td><td>null</td></tr><tr><td>3601530</td><td>&quot;appliances.kit…</td></tr><tr><td>1004775</td><td>&quot;electronics.sm…</td></tr><tr><td>1306894</td><td>&quot;computers.note…</td></tr><tr><td>1306421</td><td>&quot;computers.note…</td></tr><tr><td>15900065</td><td>null</td></tr><tr><td>12708937</td><td>null</td></tr><tr><td>1004258</td><td>&quot;electronics.sm…</td></tr></tbody></table></div>"
     },
     "execution_count": 47,
     "metadata": {},
     "output_type": "execute_result"
    }
   ],
   "source": [
    "df[0:10,[2,4]]"
   ],
   "metadata": {
    "collapsed": false,
    "ExecuteTime": {
     "end_time": "2023-06-24T17:35:18.625341200Z",
     "start_time": "2023-06-24T17:35:18.618343800Z"
    }
   }
  },
  {
   "cell_type": "code",
   "execution_count": 49,
   "outputs": [
    {
     "name": "stdout",
     "output_type": "stream",
     "text": [
      "shape: (10, 2)\n",
      "┌─────────────────────────┬────────┐\n",
      "│ event_time              ┆ price  │\n",
      "│ ---                     ┆ ---    │\n",
      "│ str                     ┆ f64    │\n",
      "╞═════════════════════════╪════════╡\n",
      "│ 2019-11-01 00:00:00 UTC ┆ 489.07 │\n",
      "│ 2019-11-01 00:00:00 UTC ┆ 293.65 │\n",
      "│ 2019-11-01 00:00:01 UTC ┆ 28.31  │\n",
      "│ 2019-11-01 00:00:01 UTC ┆ 712.87 │\n",
      "│ …                       ┆ …      │\n",
      "│ 2019-11-01 00:00:01 UTC ┆ 514.56 │\n",
      "│ 2019-11-01 00:00:02 UTC ┆ 30.86  │\n",
      "│ 2019-11-01 00:00:02 UTC ┆ 72.72  │\n",
      "│ 2019-11-01 00:00:02 UTC ┆ 732.07 │\n",
      "└─────────────────────────┴────────┘\n",
      "shape: (10, 2)\n",
      "┌─────────────────────────┬────────┐\n",
      "│ event_time              ┆ price  │\n",
      "│ ---                     ┆ ---    │\n",
      "│ str                     ┆ f64    │\n",
      "╞═════════════════════════╪════════╡\n",
      "│ 2019-11-01 00:00:00 UTC ┆ 489.07 │\n",
      "│ 2019-11-01 00:00:00 UTC ┆ 293.65 │\n",
      "│ 2019-11-01 00:00:01 UTC ┆ 28.31  │\n",
      "│ 2019-11-01 00:00:01 UTC ┆ 712.87 │\n",
      "│ …                       ┆ …      │\n",
      "│ 2019-11-01 00:00:01 UTC ┆ 514.56 │\n",
      "│ 2019-11-01 00:00:02 UTC ┆ 30.86  │\n",
      "│ 2019-11-01 00:00:02 UTC ┆ 72.72  │\n",
      "│ 2019-11-01 00:00:02 UTC ┆ 732.07 │\n",
      "└─────────────────────────┴────────┘\n"
     ]
    }
   ],
   "source": [
    "# You can specify column selection by columns' number or by columns' name\n",
    "\n",
    "# Selection by name\n",
    "print(df[:10, [\"event_time\",\"price\"]])\n",
    "\n",
    "# Selection by number\n",
    "print(df[:10, [0,6]])"
   ],
   "metadata": {
    "collapsed": false,
    "ExecuteTime": {
     "end_time": "2023-06-24T17:40:29.051215400Z",
     "start_time": "2023-06-24T17:40:28.992171Z"
    }
   }
  },
  {
   "cell_type": "code",
   "execution_count": 51,
   "outputs": [
    {
     "name": "stdout",
     "output_type": "stream",
     "text": [
      "First filtering method: 0.06715798377990723\n",
      "Second filtering method: 0.05351567268371582\n"
     ]
    }
   ],
   "source": [
    "# Filtering similar to Pandas syntax\n",
    "start = time()\n",
    "df.filter(df['price'] > 100)\n",
    "filtering_exec_time = time() - start\n",
    "\n",
    "\n",
    "start = time()\n",
    "df.filter(pl.col(\"price\") > 100)\n",
    "filtering_exec_time_ = time() - start\n",
    "\n",
    "print(f\"First filtering method: {filtering_exec_time}\")\n",
    "print(f\"Second filtering method: {filtering_exec_time_}\")"
   ],
   "metadata": {
    "collapsed": false,
    "ExecuteTime": {
     "end_time": "2023-06-24T17:42:59.964163700Z",
     "start_time": "2023-06-24T17:42:59.835473800Z"
    }
   }
  },
  {
   "cell_type": "code",
   "execution_count": 54,
   "outputs": [
    {
     "name": "stdout",
     "output_type": "stream",
     "text": [
      "CPU times: total: 0 ns\n",
      "Wall time: 3 ms\n"
     ]
    },
    {
     "data": {
      "text/plain": "shape: (5, 10)\n┌──────────┬──────────┬──────────────┬───────────┬───┬────────┬───────────┬────────────┬───────────┐\n│ event_ti ┆ event_ty ┆ product_id   ┆ category_ ┆ … ┆ price  ┆ user_id   ┆ user_sessi ┆ price_x_1 │\n│ me       ┆ pe       ┆ ---          ┆ id        ┆   ┆ ---    ┆ ---       ┆ on         ┆ 00        │\n│ ---      ┆ ---      ┆ i64          ┆ ---       ┆   ┆ f64    ┆ i64       ┆ ---        ┆ ---       │\n│ str      ┆ str      ┆              ┆ i64       ┆   ┆        ┆           ┆ str        ┆ f64       │\n╞══════════╪══════════╪══════════════╪═══════════╪═══╪════════╪═══════════╪════════════╪═══════════╡\n│ 2019-11- ┆ view     ┆ 1003461      ┆ 205301355 ┆ … ┆ 489.07 ┆ 520088904 ┆ 4d3b30da-a ┆ 48907.0   │\n│ 01       ┆          ┆              ┆ 563188265 ┆   ┆        ┆           ┆ 5e4-49df-b ┆           │\n│ 00:00:00 ┆          ┆              ┆ 5         ┆   ┆        ┆           ┆ 1a8-ba5943 ┆           │\n│ UTC      ┆          ┆              ┆           ┆   ┆        ┆           ┆ f1…        ┆           │\n│ 2019-11- ┆ view     ┆ 5000088      ┆ 205301356 ┆ … ┆ 293.65 ┆ 530496790 ┆ 8e5f4f83-3 ┆ 29365.0   │\n│ 01       ┆          ┆              ┆ 610086603 ┆   ┆        ┆           ┆ 66c-4f70-8 ┆           │\n│ 00:00:00 ┆          ┆              ┆ 5         ┆   ┆        ┆           ┆ 60e-ca7417 ┆           │\n│ UTC      ┆          ┆              ┆           ┆   ┆        ┆           ┆ 41…        ┆           │\n│ 2019-11- ┆ view     ┆ 17302664     ┆ 205301355 ┆ … ┆ 28.31  ┆ 561587266 ┆ 755422e7-9 ┆ 2831.0    │\n│ 01       ┆          ┆              ┆ 385349765 ┆   ┆        ┆           ┆ 040-477b-9 ┆           │\n│ 00:00:01 ┆          ┆              ┆ 5         ┆   ┆        ┆           ┆ bd2-6a6e8f ┆           │\n│ UTC      ┆          ┆              ┆           ┆   ┆        ┆           ┆ d9…        ┆           │\n│ 2019-11- ┆ view     ┆ 3601530      ┆ 205301356 ┆ … ┆ 712.87 ┆ 518085591 ┆ 3bfb58cd-7 ┆ 71287.0   │\n│ 01       ┆          ┆              ┆ 381077592 ┆   ┆        ┆           ┆ 892-48cc-8 ┆           │\n│ 00:00:01 ┆          ┆              ┆ 3         ┆   ┆        ┆           ┆ 020-2f17e6 ┆           │\n│ UTC      ┆          ┆              ┆           ┆   ┆        ┆           ┆ de…        ┆           │\n│ 2019-11- ┆ view     ┆ 1004775      ┆ 205301355 ┆ … ┆ 183.27 ┆ 558856683 ┆ 313628f1-6 ┆ 18327.0   │\n│ 01       ┆          ┆              ┆ 563188265 ┆   ┆        ┆           ┆ 8b8-460d-8 ┆           │\n│ 00:00:01 ┆          ┆              ┆ 5         ┆   ┆        ┆           ┆ 4f6-cec7a8 ┆           │\n│ UTC      ┆          ┆              ┆           ┆   ┆        ┆           ┆ 79…        ┆           │\n└──────────┴──────────┴──────────────┴───────────┴───┴────────┴───────────┴────────────┴───────────┘",
      "text/html": "<div><style>\n.dataframe > thead > tr > th,\n.dataframe > tbody > tr > td {\n  text-align: right;\n}\n</style>\n<small>shape: (5, 10)</small><table border=\"1\" class=\"dataframe\"><thead><tr><th>event_time</th><th>event_type</th><th>product_id</th><th>category_id</th><th>category_code</th><th>brand</th><th>price</th><th>user_id</th><th>user_session</th><th>price_x_100</th></tr><tr><td>str</td><td>str</td><td>i64</td><td>i64</td><td>str</td><td>str</td><td>f64</td><td>i64</td><td>str</td><td>f64</td></tr></thead><tbody><tr><td>&quot;2019-11-01 00:…</td><td>&quot;view&quot;</td><td>1003461</td><td>2053013555631882655</td><td>&quot;electronics.sm…</td><td>&quot;xiaomi&quot;</td><td>489.07</td><td>520088904</td><td>&quot;4d3b30da-a5e4-…</td><td>48907.0</td></tr><tr><td>&quot;2019-11-01 00:…</td><td>&quot;view&quot;</td><td>5000088</td><td>2053013566100866035</td><td>&quot;appliances.sew…</td><td>&quot;janome&quot;</td><td>293.65</td><td>530496790</td><td>&quot;8e5f4f83-366c-…</td><td>29365.0</td></tr><tr><td>&quot;2019-11-01 00:…</td><td>&quot;view&quot;</td><td>17302664</td><td>2053013553853497655</td><td>null</td><td>&quot;creed&quot;</td><td>28.31</td><td>561587266</td><td>&quot;755422e7-9040-…</td><td>2831.0</td></tr><tr><td>&quot;2019-11-01 00:…</td><td>&quot;view&quot;</td><td>3601530</td><td>2053013563810775923</td><td>&quot;appliances.kit…</td><td>&quot;lg&quot;</td><td>712.87</td><td>518085591</td><td>&quot;3bfb58cd-7892-…</td><td>71287.0</td></tr><tr><td>&quot;2019-11-01 00:…</td><td>&quot;view&quot;</td><td>1004775</td><td>2053013555631882655</td><td>&quot;electronics.sm…</td><td>&quot;xiaomi&quot;</td><td>183.27</td><td>558856683</td><td>&quot;313628f1-68b8-…</td><td>18327.0</td></tr></tbody></table></div>"
     },
     "execution_count": 54,
     "metadata": {},
     "output_type": "execute_result"
    }
   ],
   "source": [
    "%%time\n",
    "df.with_columns(\n",
    "    [(pl.col(\"price\") * 100).alias(\"price_x_100\")]\n",
    ").head()"
   ],
   "metadata": {
    "collapsed": false,
    "ExecuteTime": {
     "end_time": "2023-06-25T22:55:05.677253200Z",
     "start_time": "2023-06-25T22:55:05.653715200Z"
    }
   }
  },
  {
   "cell_type": "code",
   "execution_count": 57,
   "outputs": [
    {
     "name": "stdout",
     "output_type": "stream",
     "text": [
      "CPU times: total: 15.6 ms\n",
      "Wall time: 10.1 ms\n"
     ]
    },
    {
     "data": {
      "text/plain": "shape: (50_154, 9)\n┌─────────────┬────────────┬────────────┬───────────┬───┬───────┬─────────┬───────────┬────────────┐\n│ event_time  ┆ event_type ┆ product_id ┆ category_ ┆ … ┆ brand ┆ price   ┆ user_id   ┆ user_sessi │\n│ ---         ┆ ---        ┆ ---        ┆ id        ┆   ┆ ---   ┆ ---     ┆ ---       ┆ on         │\n│ str         ┆ str        ┆ i64        ┆ ---       ┆   ┆ str   ┆ f64     ┆ i64       ┆ ---        │\n│             ┆            ┆            ┆ i64       ┆   ┆       ┆         ┆           ┆ str        │\n╞═════════════╪════════════╪════════════╪═══════════╪═══╪═══════╪═════════╪═══════════╪════════════╡\n│ 2019-11-01  ┆ view       ┆ 1004237    ┆ 205301355 ┆ … ┆ apple ┆ 1091.33 ┆ 565404816 ┆ d9cf0ac4-c │\n│ 00:00:27    ┆            ┆            ┆ 563188265 ┆   ┆       ┆         ┆           ┆ 3ec-4e1f-8 │\n│ UTC         ┆            ┆            ┆ 5         ┆   ┆       ┆         ┆           ┆ 3aa-326b1e │\n│             ┆            ┆            ┆           ┆   ┆       ┆         ┆           ┆ 7b…        │\n│ 2019-11-01  ┆ view       ┆ 1005116    ┆ 205301355 ┆ … ┆ apple ┆ 1013.86 ┆ 532647354 ┆ d2d3d2c6-6 │\n│ 00:00:40    ┆            ┆            ┆ 563188265 ┆   ┆       ┆         ┆           ┆ 31d-489e-9 │\n│ UTC         ┆            ┆            ┆ 5         ┆   ┆       ┆         ┆           ┆ fb5-06f340 │\n│             ┆            ┆            ┆           ┆   ┆       ┆         ┆           ┆ b8…        │\n│ 2019-11-01  ┆ view       ┆ 1004241    ┆ 205301355 ┆ … ┆ apple ┆ 1173.6  ┆ 565404816 ┆ d9cf0ac4-c │\n│ 00:00:41    ┆            ┆            ┆ 563188265 ┆   ┆       ┆         ┆           ┆ 3ec-4e1f-8 │\n│ UTC         ┆            ┆            ┆ 5         ┆   ┆       ┆         ┆           ┆ 3aa-326b1e │\n│             ┆            ┆            ┆           ┆   ┆       ┆         ┆           ┆ 7b…        │\n│ 2019-11-01  ┆ view       ┆ 1004237    ┆ 205301355 ┆ … ┆ apple ┆ 1091.33 ┆ 519277091 ┆ 62fadce6-a │\n│ 00:00:41    ┆            ┆            ┆ 563188265 ┆   ┆       ┆         ┆           ┆ a4a-4dde-9 │\n│ UTC         ┆            ┆            ┆ 5         ┆   ┆       ┆         ┆           ┆ 2fc-c04c22 │\n│             ┆            ┆            ┆           ┆   ┆       ┆         ┆           ┆ 98…        │\n│ …           ┆ …          ┆ …          ┆ …         ┆ … ┆ …     ┆ …       ┆ …         ┆ …          │\n│ 2019-11-01  ┆ view       ┆ 1005105    ┆ 205301355 ┆ … ┆ apple ┆ 1348.34 ┆ 513240017 ┆ 7cc490ea-6 │\n│ 15:32:07    ┆            ┆            ┆ 563188265 ┆   ┆       ┆         ┆           ┆ 373-4051-b │\n│ UTC         ┆            ┆            ┆ 5         ┆   ┆       ┆         ┆           ┆ ba9-a75242 │\n│             ┆            ┆            ┆           ┆   ┆       ┆         ┆           ┆ 54…        │\n│ 2019-11-01  ┆ view       ┆ 1005105    ┆ 205301355 ┆ … ┆ apple ┆ 1348.34 ┆ 516071168 ┆ 82db0575-f │\n│ 15:32:08    ┆            ┆            ┆ 563188265 ┆   ┆       ┆         ┆           ┆ a96-46be-8 │\n│ UTC         ┆            ┆            ┆ 5         ┆   ┆       ┆         ┆           ┆ 573-a0e183 │\n│             ┆            ┆            ┆           ┆   ┆       ┆         ┆           ┆ 73…        │\n│ 2019-11-01  ┆ view       ┆ 1005113    ┆ 205301355 ┆ … ┆ apple ┆ 1090.89 ┆ 566503793 ┆ 7581c87b-2 │\n│ 15:32:08    ┆            ┆            ┆ 563188265 ┆   ┆       ┆         ┆           ┆ 69a-4973-b │\n│ UTC         ┆            ┆            ┆ 5         ┆   ┆       ┆         ┆           ┆ c65-ab0c29 │\n│             ┆            ┆            ┆           ┆   ┆       ┆         ┆           ┆ e2…        │\n│ 2019-11-01  ┆ view       ┆ 21408160   ┆ 205301356 ┆ … ┆ null  ┆ 2574.07 ┆ 561180446 ┆ f9858873-a │\n│ 15:32:09    ┆            ┆            ┆ 157940607 ┆   ┆       ┆         ┆           ┆ 601-42c9-8 │\n│ UTC         ┆            ┆            ┆ 3         ┆   ┆       ┆         ┆           ┆ 0ca-e3f710 │\n│             ┆            ┆            ┆           ┆   ┆       ┆         ┆           ┆ 74…        │\n└─────────────┴────────────┴────────────┴───────────┴───┴───────┴─────────┴───────────┴────────────┘",
      "text/html": "<div><style>\n.dataframe > thead > tr > th,\n.dataframe > tbody > tr > td {\n  text-align: right;\n}\n</style>\n<small>shape: (50_154, 9)</small><table border=\"1\" class=\"dataframe\"><thead><tr><th>event_time</th><th>event_type</th><th>product_id</th><th>category_id</th><th>category_code</th><th>brand</th><th>price</th><th>user_id</th><th>user_session</th></tr><tr><td>str</td><td>str</td><td>i64</td><td>i64</td><td>str</td><td>str</td><td>f64</td><td>i64</td><td>str</td></tr></thead><tbody><tr><td>&quot;2019-11-01 00:…</td><td>&quot;view&quot;</td><td>1004237</td><td>2053013555631882655</td><td>&quot;electronics.sm…</td><td>&quot;apple&quot;</td><td>1091.33</td><td>565404816</td><td>&quot;d9cf0ac4-c3ec-…</td></tr><tr><td>&quot;2019-11-01 00:…</td><td>&quot;view&quot;</td><td>1005116</td><td>2053013555631882655</td><td>&quot;electronics.sm…</td><td>&quot;apple&quot;</td><td>1013.86</td><td>532647354</td><td>&quot;d2d3d2c6-631d-…</td></tr><tr><td>&quot;2019-11-01 00:…</td><td>&quot;view&quot;</td><td>1004241</td><td>2053013555631882655</td><td>&quot;electronics.sm…</td><td>&quot;apple&quot;</td><td>1173.6</td><td>565404816</td><td>&quot;d9cf0ac4-c3ec-…</td></tr><tr><td>&quot;2019-11-01 00:…</td><td>&quot;view&quot;</td><td>1004237</td><td>2053013555631882655</td><td>&quot;electronics.sm…</td><td>&quot;apple&quot;</td><td>1091.33</td><td>519277091</td><td>&quot;62fadce6-aa4a-…</td></tr><tr><td>&quot;2019-11-01 00:…</td><td>&quot;view&quot;</td><td>1307012</td><td>2053013558920217191</td><td>&quot;computers.note…</td><td>&quot;apple&quot;</td><td>2342.15</td><td>530857208</td><td>&quot;c69f9c63-7098-…</td></tr><tr><td>&quot;2019-11-01 00:…</td><td>&quot;view&quot;</td><td>1307519</td><td>2053013558920217191</td><td>&quot;computers.note…</td><td>&quot;acer&quot;</td><td>1209.55</td><td>536638900</td><td>&quot;e1e8125d-da26-…</td></tr><tr><td>&quot;2019-11-01 00:…</td><td>&quot;view&quot;</td><td>1005116</td><td>2053013555631882655</td><td>&quot;electronics.sm…</td><td>&quot;apple&quot;</td><td>1013.86</td><td>544896141</td><td>&quot;80a43be5-1e98-…</td></tr><tr><td>&quot;2019-11-01 00:…</td><td>&quot;view&quot;</td><td>1306571</td><td>2053013558920217191</td><td>&quot;computers.note…</td><td>&quot;acer&quot;</td><td>2312.8</td><td>530857208</td><td>&quot;c69f9c63-7098-…</td></tr><tr><td>&quot;2019-11-01 00:…</td><td>&quot;view&quot;</td><td>5100797</td><td>2053013553341792533</td><td>&quot;electronics.cl…</td><td>&quot;garmin&quot;</td><td>2239.44</td><td>521368162</td><td>&quot;375da15e-023b-…</td></tr><tr><td>&quot;2019-11-01 00:…</td><td>&quot;view&quot;</td><td>1305977</td><td>2053013558920217191</td><td>&quot;computers.note…</td><td>&quot;apple&quot;</td><td>2496.59</td><td>530857208</td><td>&quot;c69f9c63-7098-…</td></tr><tr><td>&quot;2019-11-01 00:…</td><td>&quot;view&quot;</td><td>15100252</td><td>2053013557024391671</td><td>null</td><td>null</td><td>1335.43</td><td>518001730</td><td>&quot;2a0ecdca-256f-…</td></tr><tr><td>&quot;2019-11-01 00:…</td><td>&quot;view&quot;</td><td>1304315</td><td>2053013558920217191</td><td>&quot;computers.note…</td><td>&quot;apple&quot;</td><td>2311.49</td><td>530857208</td><td>&quot;c69f9c63-7098-…</td></tr><tr><td>&hellip;</td><td>&hellip;</td><td>&hellip;</td><td>&hellip;</td><td>&hellip;</td><td>&hellip;</td><td>&hellip;</td><td>&hellip;</td><td>&hellip;</td></tr><tr><td>&quot;2019-11-01 15:…</td><td>&quot;view&quot;</td><td>1005182</td><td>2053013555631882655</td><td>&quot;electronics.sm…</td><td>&quot;samsung&quot;</td><td>1029.34</td><td>558605551</td><td>&quot;9b19e335-8de4-…</td></tr><tr><td>&quot;2019-11-01 15:…</td><td>&quot;view&quot;</td><td>1005122</td><td>2053013555631882655</td><td>&quot;electronics.sm…</td><td>&quot;apple&quot;</td><td>1025.48</td><td>512451892</td><td>&quot;c60bea38-b660-…</td></tr><tr><td>&quot;2019-11-01 15:…</td><td>&quot;purchase&quot;</td><td>1004237</td><td>2053013555631882655</td><td>&quot;electronics.sm…</td><td>&quot;apple&quot;</td><td>1080.72</td><td>513401108</td><td>&quot;3e36b611-ca84-…</td></tr><tr><td>&quot;2019-11-01 15:…</td><td>&quot;view&quot;</td><td>1005105</td><td>2053013555631882655</td><td>&quot;electronics.sm…</td><td>&quot;apple&quot;</td><td>1348.34</td><td>518677060</td><td>&quot;d4d5689b-e2f1-…</td></tr><tr><td>&quot;2019-11-01 15:…</td><td>&quot;view&quot;</td><td>1480492</td><td>2053013561092866779</td><td>&quot;computers.desk…</td><td>&quot;acer&quot;</td><td>2571.24</td><td>552370382</td><td>&quot;0dbbc2c0-0084-…</td></tr><tr><td>&quot;2019-11-01 15:…</td><td>&quot;view&quot;</td><td>1005144</td><td>2053013555631882655</td><td>&quot;electronics.sm…</td><td>&quot;apple&quot;</td><td>1654.34</td><td>518052282</td><td>&quot;11a2d962-94f1-…</td></tr><tr><td>&quot;2019-11-01 15:…</td><td>&quot;view&quot;</td><td>1307526</td><td>2053013558920217191</td><td>&quot;computers.note…</td><td>&quot;asus&quot;</td><td>1003.63</td><td>519570510</td><td>&quot;50c82560-5cb3-…</td></tr><tr><td>&quot;2019-11-01 15:…</td><td>&quot;view&quot;</td><td>5000487</td><td>2053013566100866035</td><td>&quot;appliances.sew…</td><td>&quot;janome&quot;</td><td>1258.46</td><td>564514155</td><td>&quot;0ed1ad3f-8737-…</td></tr><tr><td>&quot;2019-11-01 15:…</td><td>&quot;view&quot;</td><td>1005105</td><td>2053013555631882655</td><td>&quot;electronics.sm…</td><td>&quot;apple&quot;</td><td>1348.34</td><td>513240017</td><td>&quot;7cc490ea-6373-…</td></tr><tr><td>&quot;2019-11-01 15:…</td><td>&quot;view&quot;</td><td>1005105</td><td>2053013555631882655</td><td>&quot;electronics.sm…</td><td>&quot;apple&quot;</td><td>1348.34</td><td>516071168</td><td>&quot;82db0575-fa96-…</td></tr><tr><td>&quot;2019-11-01 15:…</td><td>&quot;view&quot;</td><td>1005113</td><td>2053013555631882655</td><td>&quot;electronics.sm…</td><td>&quot;apple&quot;</td><td>1090.89</td><td>566503793</td><td>&quot;7581c87b-269a-…</td></tr><tr><td>&quot;2019-11-01 15:…</td><td>&quot;view&quot;</td><td>21408160</td><td>2053013561579406073</td><td>&quot;electronics.cl…</td><td>null</td><td>2574.07</td><td>561180446</td><td>&quot;f9858873-a601-…</td></tr></tbody></table></div>"
     },
     "execution_count": 57,
     "metadata": {},
     "output_type": "execute_result"
    }
   ],
   "source": [
    "%%time\n",
    "df.filter(pl.col(\"price\") > 1000)"
   ],
   "metadata": {
    "collapsed": false,
    "ExecuteTime": {
     "end_time": "2023-06-25T22:55:52.569855800Z",
     "start_time": "2023-06-25T22:55:52.547834500Z"
    }
   }
  },
  {
   "cell_type": "code",
   "execution_count": 59,
   "outputs": [
    {
     "name": "stdout",
     "output_type": "stream",
     "text": [
      "CPU times: total: 31.2 ms\n",
      "Wall time: 40 ms\n"
     ]
    },
    {
     "data": {
      "text/plain": "shape: (5, 9)\n┌──────────┬─────────────┬─────────────┬───────────┬───┬─────────┬────────┬───────────┬────────────┐\n│ event_ti ┆ event_type  ┆ product_id  ┆ category_ ┆ … ┆ brand   ┆ price  ┆ user_id   ┆ user_sessi │\n│ me       ┆ ---         ┆ ---         ┆ id        ┆   ┆ ---     ┆ ---    ┆ ---       ┆ on         │\n│ ---      ┆ str         ┆ i64         ┆ ---       ┆   ┆ str     ┆ f64    ┆ i64       ┆ ---        │\n│ str      ┆             ┆             ┆ i64       ┆   ┆         ┆        ┆           ┆ str        │\n╞══════════╪═════════════╪═════════════╪═══════════╪═══╪═════════╪════════╪═══════════╪════════════╡\n│ 2019-11- ┆ view        ┆ 1004258     ┆ 205301355 ┆ … ┆ apple   ┆ 732.07 ┆ 532647354 ┆ d2d3d2c6-6 │\n│ 01       ┆             ┆             ┆ 563188265 ┆   ┆         ┆        ┆           ┆ 31d-489e-9 │\n│ 00:00:02 ┆             ┆             ┆ 5         ┆   ┆         ┆        ┆           ┆ fb5-06f340 │\n│ UTC      ┆             ┆             ┆           ┆   ┆         ┆        ┆           ┆ b8…        │\n│ 2019-11- ┆ view        ┆ 4600658     ┆ 205301356 ┆ … ┆ samsung ┆ 411.83 ┆ 526595547 ┆ aab33a9a-2 │\n│ 01       ┆             ┆             ┆ 394499365 ┆   ┆         ┆        ┆           ┆ 9c3-4d50-8 │\n│ 00:00:05 ┆             ┆             ┆ 9         ┆   ┆         ┆        ┆           ┆ 4c1-8a2bc9 │\n│ UTC      ┆             ┆             ┆           ┆   ┆         ┆        ┆           ┆ 25…        │\n│ 2019-11- ┆ view        ┆ 1005115     ┆ 205301355 ┆ … ┆ apple   ┆ 949.47 ┆ 562079864 ┆ 0fe64462-8 │\n│ 01       ┆             ┆             ┆ 563188265 ┆   ┆         ┆        ┆           ┆ 3eb-4131-a │\n│ 00:00:10 ┆             ┆             ┆ 5         ┆   ┆         ┆        ┆           ┆ b00-8e764d │\n│ UTC      ┆             ┆             ┆           ┆   ┆         ┆        ┆           ┆ d9…        │\n│ 2019-11- ┆ view        ┆ 1002544     ┆ 205301355 ┆ … ┆ apple   ┆ 458.28 ┆ 549256216 ┆ dcbdc6e4-c │\n│ 01       ┆             ┆             ┆ 563188265 ┆   ┆         ┆        ┆           ┆ d49-4ee8-9 │\n│ 00:00:14 ┆             ┆             ┆ 5         ┆   ┆         ┆        ┆           ┆ 5c5-e85f3c │\n│ UTC      ┆             ┆             ┆           ┆   ┆         ┆        ┆           ┆ 61…        │\n│ 2019-11- ┆ cart        ┆ 1005014     ┆ 205301355 ┆ … ┆ samsung ┆ 503.09 ┆ 533326659 ┆ 6b928be2-2 │\n│ 01       ┆             ┆             ┆ 563188265 ┆   ┆         ┆        ┆           ┆ bce-4640-8 │\n│ 00:00:14 ┆             ┆             ┆ 5         ┆   ┆         ┆        ┆           ┆ 296-0efdf2 │\n│ UTC      ┆             ┆             ┆           ┆   ┆         ┆        ┆           ┆ fd…        │\n└──────────┴─────────────┴─────────────┴───────────┴───┴─────────┴────────┴───────────┴────────────┘",
      "text/html": "<div><style>\n.dataframe > thead > tr > th,\n.dataframe > tbody > tr > td {\n  text-align: right;\n}\n</style>\n<small>shape: (5, 9)</small><table border=\"1\" class=\"dataframe\"><thead><tr><th>event_time</th><th>event_type</th><th>product_id</th><th>category_id</th><th>category_code</th><th>brand</th><th>price</th><th>user_id</th><th>user_session</th></tr><tr><td>str</td><td>str</td><td>i64</td><td>i64</td><td>str</td><td>str</td><td>f64</td><td>i64</td><td>str</td></tr></thead><tbody><tr><td>&quot;2019-11-01 00:…</td><td>&quot;view&quot;</td><td>1004258</td><td>2053013555631882655</td><td>&quot;electronics.sm…</td><td>&quot;apple&quot;</td><td>732.07</td><td>532647354</td><td>&quot;d2d3d2c6-631d-…</td></tr><tr><td>&quot;2019-11-01 00:…</td><td>&quot;view&quot;</td><td>4600658</td><td>2053013563944993659</td><td>&quot;appliances.kit…</td><td>&quot;samsung&quot;</td><td>411.83</td><td>526595547</td><td>&quot;aab33a9a-29c3-…</td></tr><tr><td>&quot;2019-11-01 00:…</td><td>&quot;view&quot;</td><td>1005115</td><td>2053013555631882655</td><td>&quot;electronics.sm…</td><td>&quot;apple&quot;</td><td>949.47</td><td>562079864</td><td>&quot;0fe64462-83eb-…</td></tr><tr><td>&quot;2019-11-01 00:…</td><td>&quot;view&quot;</td><td>1002544</td><td>2053013555631882655</td><td>&quot;electronics.sm…</td><td>&quot;apple&quot;</td><td>458.28</td><td>549256216</td><td>&quot;dcbdc6e4-cd49-…</td></tr><tr><td>&quot;2019-11-01 00:…</td><td>&quot;cart&quot;</td><td>1005014</td><td>2053013555631882655</td><td>&quot;electronics.sm…</td><td>&quot;samsung&quot;</td><td>503.09</td><td>533326659</td><td>&quot;6b928be2-2bce-…</td></tr></tbody></table></div>"
     },
     "execution_count": 59,
     "metadata": {},
     "output_type": "execute_result"
    }
   ],
   "source": [
    "%%time\n",
    "df.filter(pl.col('brand').is_in(['apple', 'samsung', 'motorola'])).head()"
   ],
   "metadata": {
    "collapsed": false,
    "ExecuteTime": {
     "end_time": "2023-06-25T22:56:47.734601500Z",
     "start_time": "2023-06-25T22:56:47.688600400Z"
    }
   }
  },
  {
   "cell_type": "code",
   "execution_count": 67,
   "outputs": [
    {
     "name": "stdout",
     "output_type": "stream",
     "text": [
      "Time for extracting 5 random samples 0.01s\n",
      "Time for extracting 5 random samples and convert into pandas 0.01s\n"
     ]
    }
   ],
   "source": [
    "start = time()\n",
    "df.sample(5)\n",
    "print(f\"Time for extracting 5 random samples {round(time()-start, 2)}s\")\n",
    "\n",
    "start = time()\n",
    "df.sample(5).to_pandas()\n",
    "print(f\"Time for extracting 5 random samples and convert into pandas {round(time()-start, 2)}s\")"
   ],
   "metadata": {
    "collapsed": false,
    "ExecuteTime": {
     "end_time": "2023-06-27T19:42:20.844306400Z",
     "start_time": "2023-06-27T19:42:20.819036900Z"
    }
   }
  },
  {
   "cell_type": "code",
   "execution_count": 70,
   "outputs": [
    {
     "name": "stdout",
     "output_type": "stream",
     "text": [
      "Time to get the number of unique values 0.01s\n"
     ]
    }
   ],
   "source": [
    "#Operations\n",
    "start = time()\n",
    "df.select([\n",
    "    pl.col('product_id').n_unique()\n",
    "])\n",
    "print(f\"Time to get the number of unique values {round(time()-start, 2)}s\")"
   ],
   "metadata": {
    "collapsed": false,
    "ExecuteTime": {
     "end_time": "2023-06-27T19:45:01.227360300Z",
     "start_time": "2023-06-27T19:45:01.189106100Z"
    }
   }
  },
  {
   "cell_type": "code",
   "execution_count": 77,
   "outputs": [
    {
     "name": "stdout",
     "output_type": "stream",
     "text": [
      "Time to execute a series of operations 0.01s\n"
     ]
    }
   ],
   "source": [
    "start = time()\n",
    "df.select([\n",
    "    pl.col('price').min().alias('min'),\n",
    "    pl.col('price').mean().alias('mean'),\n",
    "    pl.col('price').median().alias('median'),\n",
    "    pl.col('price').max().alias('max'),\n",
    "    pl.col('price').std().alias('std')\n",
    "])\n",
    "print(f\"Time to execute a series of operations {round(time() - start, 2)}s\")"
   ],
   "metadata": {
    "collapsed": false,
    "ExecuteTime": {
     "end_time": "2023-06-27T19:47:01.113964900Z",
     "start_time": "2023-06-27T19:47:01.086647500Z"
    }
   }
  },
  {
   "cell_type": "code",
   "execution_count": 81,
   "outputs": [
    {
     "data": {
      "text/plain": "shape: (9, 2)\n┌────────────┬────────────┐\n│ describe   ┆ price      │\n│ ---        ┆ ---        │\n│ str        ┆ f64        │\n╞════════════╪════════════╡\n│ count      ┆ 1e6        │\n│ null_count ┆ 0.0        │\n│ mean       ┆ 292.181443 │\n│ std        ┆ 347.585961 │\n│ min        ┆ 0.0        │\n│ max        ┆ 2574.07    │\n│ median     ┆ 172.18     │\n│ 25%        ┆ 69.72      │\n│ 75%        ┆ 361.97     │\n└────────────┴────────────┘",
      "text/html": "<div><style>\n.dataframe > thead > tr > th,\n.dataframe > tbody > tr > td {\n  text-align: right;\n}\n</style>\n<small>shape: (9, 2)</small><table border=\"1\" class=\"dataframe\"><thead><tr><th>describe</th><th>price</th></tr><tr><td>str</td><td>f64</td></tr></thead><tbody><tr><td>&quot;count&quot;</td><td>1e6</td></tr><tr><td>&quot;null_count&quot;</td><td>0.0</td></tr><tr><td>&quot;mean&quot;</td><td>292.181443</td></tr><tr><td>&quot;std&quot;</td><td>347.585961</td></tr><tr><td>&quot;min&quot;</td><td>0.0</td></tr><tr><td>&quot;max&quot;</td><td>2574.07</td></tr><tr><td>&quot;median&quot;</td><td>172.18</td></tr><tr><td>&quot;25%&quot;</td><td>69.72</td></tr><tr><td>&quot;75%&quot;</td><td>361.97</td></tr></tbody></table></div>"
     },
     "execution_count": 81,
     "metadata": {},
     "output_type": "execute_result"
    }
   ],
   "source": [
    "df.select([\n",
    "    pl.col('price')\n",
    "]).describe()"
   ],
   "metadata": {
    "collapsed": false,
    "ExecuteTime": {
     "end_time": "2023-06-27T19:49:27.649413600Z",
     "start_time": "2023-06-27T19:49:27.613245800Z"
    }
   }
  },
  {
   "cell_type": "code",
   "execution_count": 84,
   "outputs": [
    {
     "name": "stdout",
     "output_type": "stream",
     "text": [
      "Time to execute a select on the polars Dataframe 0.0s\n",
      "Time to show an histogram of the previous selected series 0.11s\n"
     ]
    },
    {
     "data": {
      "text/plain": "<Figure size 640x480 with 1 Axes>",
      "image/png": "[encoded data removed]"
     },
     "metadata": {},
     "output_type": "display_data"
    }
   ],
   "source": [
    "start = time()\n",
    "price = df.select([\n",
    "    pl.col('price')\n",
    "])\n",
    "print(f\"Time to execute a select on the polars Dataframe {round(time()-start, 2)}s\")\n",
    "\n",
    "start = time()\n",
    "price.to_pandas().hist(bins=30)\n",
    "print(f\"Time to show an histogram of the previous selected series {round(time()-start, 2)}s\")"
   ],
   "metadata": {
    "collapsed": false,
    "ExecuteTime": {
     "end_time": "2023-06-27T19:55:21.030011700Z",
     "start_time": "2023-06-27T19:55:20.760320500Z"
    }
   }
  },
  {
   "cell_type": "markdown",
   "source": [],
   "metadata": {
    "collapsed": false
   }
  }
 ],
 "metadata": {
  "kernelspec": {
   "display_name": "Python 3",
   "language": "python",
   "name": "python3"
  },
  "language_info": {
   "codemirror_mode": {
    "name": "ipython",
    "version": 2
   },
   "file_extension": ".py",
   "mimetype": "text/x-python",
   "name": "python",
   "nbconvert_exporter": "python",
   "pygments_lexer": "ipython2",
   "version": "2.7.6"
  }
 },
 "nbformat": 4,
 "nbformat_minor": 0
}
