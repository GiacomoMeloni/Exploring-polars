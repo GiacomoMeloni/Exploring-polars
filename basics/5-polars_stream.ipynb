{
 "cells": [
  {
   "cell_type": "code",
   "execution_count": 2,
   "metadata": {
    "collapsed": true,
    "ExecuteTime": {
     "end_time": "2023-07-13T22:03:08.959683Z",
     "start_time": "2023-07-13T22:03:08.934403200Z"
    }
   },
   "outputs": [],
   "source": [
    "from time import time\n",
    "import polars as pl\n",
    "import pandas as pd\n",
    "import numpy as np\n",
    "import pyarrow\n",
    "\n",
    "import matplotlib.pyplot as plt\n",
    "import seaborn as sns\n",
    "\n",
    "df = pl.scan_csv(r\"../datasets/2019-Nov.csv\")"
   ]
  },
  {
   "cell_type": "code",
   "execution_count": 5,
   "outputs": [
    {
     "data": {
      "text/plain": "shape: (5, 9)\n┌─────────────┬────────────┬────────────┬───────────┬───┬────────┬────────┬───────────┬────────────┐\n│ event_time  ┆ event_type ┆ product_id ┆ category_ ┆ … ┆ brand  ┆ price  ┆ user_id   ┆ user_sessi │\n│ ---         ┆ ---        ┆ ---        ┆ id        ┆   ┆ ---    ┆ ---    ┆ ---       ┆ on         │\n│ str         ┆ str        ┆ i64        ┆ ---       ┆   ┆ str    ┆ f64    ┆ i64       ┆ ---        │\n│             ┆            ┆            ┆ i64       ┆   ┆        ┆        ┆           ┆ str        │\n╞═════════════╪════════════╪════════════╪═══════════╪═══╪════════╪════════╪═══════════╪════════════╡\n│ 2019-11-01  ┆ view       ┆ 1003461    ┆ 205301355 ┆ … ┆ xiaomi ┆ 489.07 ┆ 520088904 ┆ 4d3b30da-a │\n│ 00:00:00    ┆            ┆            ┆ 563188265 ┆   ┆        ┆        ┆           ┆ 5e4-49df-b │\n│ UTC         ┆            ┆            ┆ 5         ┆   ┆        ┆        ┆           ┆ 1a8-ba5943 │\n│             ┆            ┆            ┆           ┆   ┆        ┆        ┆           ┆ f1…        │\n│ 2019-11-01  ┆ view       ┆ 5000088    ┆ 205301356 ┆ … ┆ janome ┆ 293.65 ┆ 530496790 ┆ 8e5f4f83-3 │\n│ 00:00:00    ┆            ┆            ┆ 610086603 ┆   ┆        ┆        ┆           ┆ 66c-4f70-8 │\n│ UTC         ┆            ┆            ┆ 5         ┆   ┆        ┆        ┆           ┆ 60e-ca7417 │\n│             ┆            ┆            ┆           ┆   ┆        ┆        ┆           ┆ 41…        │\n│ 2019-11-01  ┆ view       ┆ 17302664   ┆ 205301355 ┆ … ┆ creed  ┆ 28.31  ┆ 561587266 ┆ 755422e7-9 │\n│ 00:00:01    ┆            ┆            ┆ 385349765 ┆   ┆        ┆        ┆           ┆ 040-477b-9 │\n│ UTC         ┆            ┆            ┆ 5         ┆   ┆        ┆        ┆           ┆ bd2-6a6e8f │\n│             ┆            ┆            ┆           ┆   ┆        ┆        ┆           ┆ d9…        │\n│ 2019-11-01  ┆ view       ┆ 3601530    ┆ 205301356 ┆ … ┆ lg     ┆ 712.87 ┆ 518085591 ┆ 3bfb58cd-7 │\n│ 00:00:01    ┆            ┆            ┆ 381077592 ┆   ┆        ┆        ┆           ┆ 892-48cc-8 │\n│ UTC         ┆            ┆            ┆ 3         ┆   ┆        ┆        ┆           ┆ 020-2f17e6 │\n│             ┆            ┆            ┆           ┆   ┆        ┆        ┆           ┆ de…        │\n│ 2019-11-01  ┆ view       ┆ 1004775    ┆ 205301355 ┆ … ┆ xiaomi ┆ 183.27 ┆ 558856683 ┆ 313628f1-6 │\n│ 00:00:01    ┆            ┆            ┆ 563188265 ┆   ┆        ┆        ┆           ┆ 8b8-460d-8 │\n│ UTC         ┆            ┆            ┆ 5         ┆   ┆        ┆        ┆           ┆ 4f6-cec7a8 │\n│             ┆            ┆            ┆           ┆   ┆        ┆        ┆           ┆ 79…        │\n└─────────────┴────────────┴────────────┴───────────┴───┴────────┴────────┴───────────┴────────────┘",
      "text/html": "<div><style>\n.dataframe > thead > tr > th,\n.dataframe > tbody > tr > td {\n  text-align: right;\n}\n</style>\n<small>shape: (5, 9)</small><table border=\"1\" class=\"dataframe\"><thead><tr><th>event_time</th><th>event_type</th><th>product_id</th><th>category_id</th><th>category_code</th><th>brand</th><th>price</th><th>user_id</th><th>user_session</th></tr><tr><td>str</td><td>str</td><td>i64</td><td>i64</td><td>str</td><td>str</td><td>f64</td><td>i64</td><td>str</td></tr></thead><tbody><tr><td>&quot;2019-11-01 00:…</td><td>&quot;view&quot;</td><td>1003461</td><td>2053013555631882655</td><td>&quot;electronics.sm…</td><td>&quot;xiaomi&quot;</td><td>489.07</td><td>520088904</td><td>&quot;4d3b30da-a5e4-…</td></tr><tr><td>&quot;2019-11-01 00:…</td><td>&quot;view&quot;</td><td>5000088</td><td>2053013566100866035</td><td>&quot;appliances.sew…</td><td>&quot;janome&quot;</td><td>293.65</td><td>530496790</td><td>&quot;8e5f4f83-366c-…</td></tr><tr><td>&quot;2019-11-01 00:…</td><td>&quot;view&quot;</td><td>17302664</td><td>2053013553853497655</td><td>null</td><td>&quot;creed&quot;</td><td>28.31</td><td>561587266</td><td>&quot;755422e7-9040-…</td></tr><tr><td>&quot;2019-11-01 00:…</td><td>&quot;view&quot;</td><td>3601530</td><td>2053013563810775923</td><td>&quot;appliances.kit…</td><td>&quot;lg&quot;</td><td>712.87</td><td>518085591</td><td>&quot;3bfb58cd-7892-…</td></tr><tr><td>&quot;2019-11-01 00:…</td><td>&quot;view&quot;</td><td>1004775</td><td>2053013555631882655</td><td>&quot;electronics.sm…</td><td>&quot;xiaomi&quot;</td><td>183.27</td><td>558856683</td><td>&quot;313628f1-68b8-…</td></tr></tbody></table></div>"
     },
     "execution_count": 5,
     "metadata": {},
     "output_type": "execute_result"
    }
   ],
   "source": [
    "df.head().collect(streaming=True)"
   ],
   "metadata": {
    "collapsed": false,
    "ExecuteTime": {
     "end_time": "2023-07-13T22:06:31.536821500Z",
     "start_time": "2023-07-13T22:06:31.495413400Z"
    }
   }
  },
  {
   "cell_type": "code",
   "execution_count": 18,
   "outputs": [
    {
     "data": {
      "text/plain": "shape: (67_501_979, 9)\n┌──────────┬─────────────┬────────────┬───────────┬───┬─────────┬─────────┬───────────┬────────────┐\n│ event_ti ┆ event_type  ┆ product_id ┆ category_ ┆ … ┆ brand   ┆ price   ┆ user_id   ┆ user_sessi │\n│ me       ┆ ---         ┆ ---        ┆ id        ┆   ┆ ---     ┆ ---     ┆ ---       ┆ on         │\n│ ---      ┆ str         ┆ i64        ┆ ---       ┆   ┆ str     ┆ f64     ┆ i64       ┆ ---        │\n│ str      ┆             ┆            ┆ i64       ┆   ┆         ┆         ┆           ┆ str        │\n╞══════════╪═════════════╪════════════╪═══════════╪═══╪═════════╪═════════╪═══════════╪════════════╡\n│ 2019-11- ┆ view        ┆ 1003461    ┆ 205301355 ┆ … ┆ xiaomi  ┆ 489.07  ┆ 520088904 ┆ 4d3b30da-a │\n│ 01       ┆             ┆            ┆ 563188265 ┆   ┆         ┆         ┆           ┆ 5e4-49df-b │\n│ 00:00:00 ┆             ┆            ┆ 5         ┆   ┆         ┆         ┆           ┆ 1a8-ba5943 │\n│ UTC      ┆             ┆            ┆           ┆   ┆         ┆         ┆           ┆ f1…        │\n│ 2019-11- ┆ view        ┆ 5000088    ┆ 205301356 ┆ … ┆ janome  ┆ 293.65  ┆ 530496790 ┆ 8e5f4f83-3 │\n│ 01       ┆             ┆            ┆ 610086603 ┆   ┆         ┆         ┆           ┆ 66c-4f70-8 │\n│ 00:00:00 ┆             ┆            ┆ 5         ┆   ┆         ┆         ┆           ┆ 60e-ca7417 │\n│ UTC      ┆             ┆            ┆           ┆   ┆         ┆         ┆           ┆ 41…        │\n│ 2019-11- ┆ view        ┆ 17302664   ┆ 205301355 ┆ … ┆ creed   ┆ 28.31   ┆ 561587266 ┆ 755422e7-9 │\n│ 01       ┆             ┆            ┆ 385349765 ┆   ┆         ┆         ┆           ┆ 040-477b-9 │\n│ 00:00:01 ┆             ┆            ┆ 5         ┆   ┆         ┆         ┆           ┆ bd2-6a6e8f │\n│ UTC      ┆             ┆            ┆           ┆   ┆         ┆         ┆           ┆ d9…        │\n│ 2019-11- ┆ view        ┆ 3601530    ┆ 205301356 ┆ … ┆ lg      ┆ 712.87  ┆ 518085591 ┆ 3bfb58cd-7 │\n│ 01       ┆             ┆            ┆ 381077592 ┆   ┆         ┆         ┆           ┆ 892-48cc-8 │\n│ 00:00:01 ┆             ┆            ┆ 3         ┆   ┆         ┆         ┆           ┆ 020-2f17e6 │\n│ UTC      ┆             ┆            ┆           ┆   ┆         ┆         ┆           ┆ de…        │\n│ …        ┆ …           ┆ …          ┆ …         ┆ … ┆ …       ┆ …       ┆ …         ┆ …          │\n│ 2019-11- ┆ view        ┆ 28719425   ┆ 205301356 ┆ … ┆ baden   ┆ 62.81   ┆ 545223467 ┆ 734c5eef-0 │\n│ 30       ┆             ┆            ┆ 563949256 ┆   ┆         ┆         ┆           ┆ 742-4f8b-9 │\n│ 23:59:58 ┆             ┆            ┆ 9         ┆   ┆         ┆         ┆           ┆ d22-48f75b │\n│ UTC      ┆             ┆            ┆           ┆   ┆         ┆         ┆           ┆ 0b…        │\n│ 2019-11- ┆ view        ┆ 1004833    ┆ 205301355 ┆ … ┆ samsung ┆ 167.03  ┆ 557794415 ┆ 6fecf566-e │\n│ 30       ┆             ┆            ┆ 563188265 ┆   ┆         ┆         ┆           ┆ bb0-4e70-a │\n│ 23:59:59 ┆             ┆            ┆ 5         ┆   ┆         ┆         ┆           ┆ 243-cdc13c │\n│ UTC      ┆             ┆            ┆           ┆   ┆         ┆         ┆           ┆ e0…        │\n│ 2019-11- ┆ view        ┆ 2701706    ┆ 205301356 ┆ … ┆ samsung ┆ 566.27  ┆ 531607492 ┆ 368ddc8b-5 │\n│ 30       ┆             ┆            ┆ 391143922 ┆   ┆         ┆         ┆           ┆ db9-40fb-b │\n│ 23:59:59 ┆             ┆            ┆ 5         ┆   ┆         ┆         ┆           ┆ 7ff-b6582a │\n│ UTC      ┆             ┆            ┆           ┆   ┆         ┆         ┆           ┆ 11…        │\n│ 2019-11- ┆ view        ┆ 1004233    ┆ 205301355 ┆ … ┆ apple   ┆ 1312.52 ┆ 579969851 ┆ 90aca71c-e │\n│ 30       ┆             ┆            ┆ 563188265 ┆   ┆         ┆         ┆           ┆ d8a-4670-8 │\n│ 23:59:59 ┆             ┆            ┆ 5         ┆   ┆         ┆         ┆           ┆ 66a-761eba │\n│ UTC      ┆             ┆            ┆           ┆   ┆         ┆         ┆           ┆ cb…        │\n└──────────┴─────────────┴────────────┴───────────┴───┴─────────┴─────────┴───────────┴────────────┘",
      "text/html": "<div><style>\n.dataframe > thead > tr > th,\n.dataframe > tbody > tr > td {\n  text-align: right;\n}\n</style>\n<small>shape: (67_501_979, 9)</small><table border=\"1\" class=\"dataframe\"><thead><tr><th>event_time</th><th>event_type</th><th>product_id</th><th>category_id</th><th>category_code</th><th>brand</th><th>price</th><th>user_id</th><th>user_session</th></tr><tr><td>str</td><td>str</td><td>i64</td><td>i64</td><td>str</td><td>str</td><td>f64</td><td>i64</td><td>str</td></tr></thead><tbody><tr><td>&quot;2019-11-01 00:…</td><td>&quot;view&quot;</td><td>1003461</td><td>2053013555631882655</td><td>&quot;electronics.sm…</td><td>&quot;xiaomi&quot;</td><td>489.07</td><td>520088904</td><td>&quot;4d3b30da-a5e4-…</td></tr><tr><td>&quot;2019-11-01 00:…</td><td>&quot;view&quot;</td><td>5000088</td><td>2053013566100866035</td><td>&quot;appliances.sew…</td><td>&quot;janome&quot;</td><td>293.65</td><td>530496790</td><td>&quot;8e5f4f83-366c-…</td></tr><tr><td>&quot;2019-11-01 00:…</td><td>&quot;view&quot;</td><td>17302664</td><td>2053013553853497655</td><td>null</td><td>&quot;creed&quot;</td><td>28.31</td><td>561587266</td><td>&quot;755422e7-9040-…</td></tr><tr><td>&quot;2019-11-01 00:…</td><td>&quot;view&quot;</td><td>3601530</td><td>2053013563810775923</td><td>&quot;appliances.kit…</td><td>&quot;lg&quot;</td><td>712.87</td><td>518085591</td><td>&quot;3bfb58cd-7892-…</td></tr><tr><td>&quot;2019-11-01 00:…</td><td>&quot;view&quot;</td><td>1004775</td><td>2053013555631882655</td><td>&quot;electronics.sm…</td><td>&quot;xiaomi&quot;</td><td>183.27</td><td>558856683</td><td>&quot;313628f1-68b8-…</td></tr><tr><td>&quot;2019-11-01 00:…</td><td>&quot;view&quot;</td><td>1306894</td><td>2053013558920217191</td><td>&quot;computers.note…</td><td>&quot;hp&quot;</td><td>360.09</td><td>520772685</td><td>&quot;816a59f3-f5ae-…</td></tr><tr><td>&quot;2019-11-01 00:…</td><td>&quot;view&quot;</td><td>1306421</td><td>2053013558920217191</td><td>&quot;computers.note…</td><td>&quot;hp&quot;</td><td>514.56</td><td>514028527</td><td>&quot;df8184cc-3694-…</td></tr><tr><td>&quot;2019-11-01 00:…</td><td>&quot;view&quot;</td><td>15900065</td><td>2053013558190408249</td><td>null</td><td>&quot;rondell&quot;</td><td>30.86</td><td>518574284</td><td>&quot;5e6ef132-4d7c-…</td></tr><tr><td>&quot;2019-11-01 00:…</td><td>&quot;view&quot;</td><td>12708937</td><td>2053013553559896355</td><td>null</td><td>&quot;michelin&quot;</td><td>72.72</td><td>532364121</td><td>&quot;0a899268-31eb-…</td></tr><tr><td>&quot;2019-11-01 00:…</td><td>&quot;view&quot;</td><td>1004258</td><td>2053013555631882655</td><td>&quot;electronics.sm…</td><td>&quot;apple&quot;</td><td>732.07</td><td>532647354</td><td>&quot;d2d3d2c6-631d-…</td></tr><tr><td>&quot;2019-11-01 00:…</td><td>&quot;view&quot;</td><td>17200570</td><td>2053013559792632471</td><td>&quot;furniture.livi…</td><td>null</td><td>437.33</td><td>518780843</td><td>&quot;aa806835-b14c-…</td></tr><tr><td>&quot;2019-11-01 00:…</td><td>&quot;view&quot;</td><td>2701517</td><td>2053013563911439225</td><td>&quot;appliances.kit…</td><td>null</td><td>155.11</td><td>518427361</td><td>&quot;c89b0d96-247f-…</td></tr><tr><td>&hellip;</td><td>&hellip;</td><td>&hellip;</td><td>&hellip;</td><td>&hellip;</td><td>&hellip;</td><td>&hellip;</td><td>&hellip;</td><td>&hellip;</td></tr><tr><td>&quot;2019-11-30 23:…</td><td>&quot;view&quot;</td><td>1005118</td><td>2053013555631882655</td><td>&quot;electronics.sm…</td><td>&quot;apple&quot;</td><td>925.47</td><td>579969045</td><td>&quot;ee246970-62cb-…</td></tr><tr><td>&quot;2019-11-30 23:…</td><td>&quot;view&quot;</td><td>3300318</td><td>2053013555355058573</td><td>null</td><td>&quot;tefal&quot;</td><td>128.68</td><td>523508285</td><td>&quot;acb4def3-fcc9-…</td></tr><tr><td>&quot;2019-11-30 23:…</td><td>&quot;view&quot;</td><td>1500447</td><td>2053013552955916539</td><td>&quot;computers.peri…</td><td>&quot;hp&quot;</td><td>136.14</td><td>525386563</td><td>&quot;a7836fb7-1dfd-…</td></tr><tr><td>&quot;2019-11-30 23:…</td><td>&quot;view&quot;</td><td>16800304</td><td>2053013558316237377</td><td>&quot;furniture.kitc…</td><td>&quot;aero&quot;</td><td>1106.85</td><td>579175262</td><td>&quot;b8ff34a9-41be-…</td></tr><tr><td>&quot;2019-11-30 23:…</td><td>&quot;view&quot;</td><td>8800713</td><td>2053013555573162395</td><td>&quot;electronics.te…</td><td>&quot;prestigio&quot;</td><td>8.37</td><td>579968742</td><td>&quot;e4bfecbc-8a99-…</td></tr><tr><td>&quot;2019-11-30 23:…</td><td>&quot;view&quot;</td><td>12301059</td><td>2053013556311359947</td><td>&quot;construction.t…</td><td>&quot;bosch&quot;</td><td>266.16</td><td>562661595</td><td>&quot;7165dc28-9cba-…</td></tr><tr><td>&quot;2019-11-30 23:…</td><td>&quot;view&quot;</td><td>10502879</td><td>2053013553199186187</td><td>null</td><td>null</td><td>29.6</td><td>514007176</td><td>&quot;941ff09f-c5da-…</td></tr><tr><td>&quot;2019-11-30 23:…</td><td>&quot;view&quot;</td><td>15700137</td><td>2053013559733912211</td><td>null</td><td>null</td><td>277.74</td><td>532714000</td><td>&quot;02b4131c-0112-…</td></tr><tr><td>&quot;2019-11-30 23:…</td><td>&quot;view&quot;</td><td>28719425</td><td>2053013565639492569</td><td>&quot;apparel.shoes&quot;</td><td>&quot;baden&quot;</td><td>62.81</td><td>545223467</td><td>&quot;734c5eef-0742-…</td></tr><tr><td>&quot;2019-11-30 23:…</td><td>&quot;view&quot;</td><td>1004833</td><td>2053013555631882655</td><td>&quot;electronics.sm…</td><td>&quot;samsung&quot;</td><td>167.03</td><td>557794415</td><td>&quot;6fecf566-ebb0-…</td></tr><tr><td>&quot;2019-11-30 23:…</td><td>&quot;view&quot;</td><td>2701706</td><td>2053013563911439225</td><td>&quot;appliances.kit…</td><td>&quot;samsung&quot;</td><td>566.27</td><td>531607492</td><td>&quot;368ddc8b-5db9-…</td></tr><tr><td>&quot;2019-11-30 23:…</td><td>&quot;view&quot;</td><td>1004233</td><td>2053013555631882655</td><td>&quot;electronics.sm…</td><td>&quot;apple&quot;</td><td>1312.52</td><td>579969851</td><td>&quot;90aca71c-ed8a-…</td></tr></tbody></table></div>"
     },
     "execution_count": 18,
     "metadata": {},
     "output_type": "execute_result"
    }
   ],
   "source": [
    "df.collect(streaming=True)"
   ],
   "metadata": {
    "collapsed": false,
    "ExecuteTime": {
     "end_time": "2023-07-13T22:08:33.431164200Z",
     "start_time": "2023-07-13T22:08:15.372376500Z"
    }
   }
  }
 ],
 "metadata": {
  "kernelspec": {
   "display_name": "Python 3",
   "language": "python",
   "name": "python3"
  },
  "language_info": {
   "codemirror_mode": {
    "name": "ipython",
    "version": 2
   },
   "file_extension": ".py",
   "mimetype": "text/x-python",
   "name": "python",
   "nbconvert_exporter": "python",
   "pygments_lexer": "ipython2",
   "version": "2.7.6"
  }
 },
 "nbformat": 4,
 "nbformat_minor": 0
}
