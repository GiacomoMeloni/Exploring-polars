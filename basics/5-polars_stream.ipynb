{
 "cells": [
  {
   "cell_type": "code",
   "execution_count": 2,
   "metadata": {
    "collapsed": true,
    "ExecuteTime": {
     "end_time": "2023-07-24T20:45:22.648581600Z",
     "start_time": "2023-07-24T20:45:22.498014100Z"
    }
   },
   "outputs": [],
   "source": [
    "from time import time\n",
    "import polars as pl\n",
    "import pandas as pd\n",
    "import numpy as np\n",
    "import pyarrow\n",
    "\n",
    "import matplotlib.pyplot as plt\n",
    "import seaborn as sns\n",
    "\n",
    "df = pl.scan_csv(r\"../datasets/2019-Nov.csv\")"
   ]
  },
  {
   "cell_type": "code",
   "execution_count": 23,
   "outputs": [
    {
     "name": "stdout",
     "output_type": "stream",
     "text": [
      "CPU times: total: 6.72 s\n",
      "Wall time: 6.71 s\n"
     ]
    },
    {
     "data": {
      "text/plain": "67501979"
     },
     "execution_count": 23,
     "metadata": {},
     "output_type": "execute_result"
    }
   ],
   "source": [
    "%%time\n",
    "\n",
    "# Counting all the element of the Lazy Dataframe\n",
    "\n",
    "df.select(pl.count()).collect().item()"
   ],
   "metadata": {
    "collapsed": false,
    "ExecuteTime": {
     "end_time": "2023-07-17T10:51:41.513290100Z",
     "start_time": "2023-07-17T10:51:34.789431800Z"
    }
   }
  },
  {
   "cell_type": "code",
   "execution_count": 27,
   "outputs": [
    {
     "name": "stdout",
     "output_type": "stream",
     "text": [
      "CPU times: total: 13 s\n",
      "Wall time: 7.18 s\n"
     ]
    },
    {
     "data": {
      "text/plain": "shape: (1, 1)\n┌────────────┐\n│ product_id │\n│ ---        │\n│ u32        │\n╞════════════╡\n│ 190662     │\n└────────────┘",
      "text/html": "<div><style>\n.dataframe > thead > tr > th,\n.dataframe > tbody > tr > td {\n  text-align: right;\n}\n</style>\n<small>shape: (1, 1)</small><table border=\"1\" class=\"dataframe\"><thead><tr><th>product_id</th></tr><tr><td>u32</td></tr></thead><tbody><tr><td>190662</td></tr></tbody></table></div>"
     },
     "execution_count": 27,
     "metadata": {},
     "output_type": "execute_result"
    }
   ],
   "source": [
    "%%time\n",
    "\n",
    "# Counting the unique numbers of products into the DataFrame\n",
    "\n",
    "df.select([\n",
    "    pl.col('product_id').n_unique()\n",
    "]).collect(streaming=True)"
   ],
   "metadata": {
    "collapsed": false,
    "ExecuteTime": {
     "end_time": "2023-07-18T23:21:24.132248700Z",
     "start_time": "2023-07-18T23:21:16.929362900Z"
    }
   }
  },
  {
   "cell_type": "code",
   "execution_count": 30,
   "outputs": [
    {
     "name": "stdout",
     "output_type": "stream",
     "text": [
      "CPU times: total: 3.44 s\n",
      "Wall time: 5.94 s\n"
     ]
    },
    {
     "data": {
      "text/plain": "shape: (5, 2)\n┌──────────┬───────────┐\n│ brand    ┆ num_items │\n│ ---      ┆ ---       │\n│ str      ┆ u32       │\n╞══════════╪═══════════╡\n│ pioneer  ┆ 201799    │\n│ moony    ┆ 1183      │\n│ kipocket ┆ 1376      │\n│ niio     ┆ 1136      │\n│ master   ┆ 1864      │\n└──────────┴───────────┘",
      "text/html": "<div><style>\n.dataframe > thead > tr > th,\n.dataframe > tbody > tr > td {\n  text-align: right;\n}\n</style>\n<small>shape: (5, 2)</small><table border=\"1\" class=\"dataframe\"><thead><tr><th>brand</th><th>num_items</th></tr><tr><td>str</td><td>u32</td></tr></thead><tbody><tr><td>&quot;pioneer&quot;</td><td>201799</td></tr><tr><td>&quot;moony&quot;</td><td>1183</td></tr><tr><td>&quot;kipocket&quot;</td><td>1376</td></tr><tr><td>&quot;niio&quot;</td><td>1136</td></tr><tr><td>&quot;master&quot;</td><td>1864</td></tr></tbody></table></div>"
     },
     "execution_count": 30,
     "metadata": {},
     "output_type": "execute_result"
    }
   ],
   "source": [
    "%%time\n",
    "\n",
    "# With groupby we can group elements by columns' values and perform some aggregation operations with lazy dataframe\n",
    "\n",
    "df.groupby(\"brand\").agg(\n",
    "    pl.count().alias(\"num_items\")\n",
    ").collect(streaming=True).head()"
   ],
   "metadata": {
    "collapsed": false,
    "ExecuteTime": {
     "end_time": "2023-07-18T23:21:59.466903700Z",
     "start_time": "2023-07-18T23:21:53.491344300Z"
    }
   }
  },
  {
   "cell_type": "code",
   "execution_count": 5,
   "outputs": [
    {
     "name": "stdout",
     "output_type": "stream",
     "text": [
      "CPU times: total: 6.36 s\n",
      "Wall time: 6.85 s\n"
     ]
    },
    {
     "data": {
      "text/plain": "shape: (5, 2)\n┌─────────┬─────────────────────┐\n│ brand   ┆ num_items_per_brand │\n│ ---     ┆ ---                 │\n│ str     ┆ u32                 │\n╞═════════╪═════════════════════╡\n│ null    ┆ 9218235             │\n│ samsung ┆ 7889245             │\n│ apple   ┆ 6259379             │\n│ xiaomi  ┆ 4638062             │\n│ huawei  ┆ 1410126             │\n└─────────┴─────────────────────┘",
      "text/html": "<div><style>\n.dataframe > thead > tr > th,\n.dataframe > tbody > tr > td {\n  text-align: right;\n}\n</style>\n<small>shape: (5, 2)</small><table border=\"1\" class=\"dataframe\"><thead><tr><th>brand</th><th>num_items_per_brand</th></tr><tr><td>str</td><td>u32</td></tr></thead><tbody><tr><td>null</td><td>9218235</td></tr><tr><td>&quot;samsung&quot;</td><td>7889245</td></tr><tr><td>&quot;apple&quot;</td><td>6259379</td></tr><tr><td>&quot;xiaomi&quot;</td><td>4638062</td></tr><tr><td>&quot;huawei&quot;</td><td>1410126</td></tr></tbody></table></div>"
     },
     "execution_count": 5,
     "metadata": {},
     "output_type": "execute_result"
    }
   ],
   "source": [
    "%%time\n",
    "\n",
    "# Aggregation with sorting\n",
    "\n",
    "df.groupby(\"brand\").agg([\n",
    "    pl.count().alias(\"num_items_per_brand\")\n",
    "]).sort(\"num_items_per_brand\", descending=True).collect(streaming=True).head()"
   ],
   "metadata": {
    "collapsed": false,
    "ExecuteTime": {
     "end_time": "2023-07-24T20:45:41.910919700Z",
     "start_time": "2023-07-24T20:45:35.046849300Z"
    }
   }
  }
 ],
 "metadata": {
  "kernelspec": {
   "display_name": "Python 3",
   "language": "python",
   "name": "python3"
  },
  "language_info": {
   "codemirror_mode": {
    "name": "ipython",
    "version": 2
   },
   "file_extension": ".py",
   "mimetype": "text/x-python",
   "name": "python",
   "nbconvert_exporter": "python",
   "pygments_lexer": "ipython2",
   "version": "2.7.6"
  }
 },
 "nbformat": 4,
 "nbformat_minor": 0
}
