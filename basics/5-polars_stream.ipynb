{
 "cells": [
  {
   "cell_type": "code",
   "execution_count": 2,
   "metadata": {
    "collapsed": true,
    "ExecuteTime": {
     "end_time": "2023-07-24T20:45:22.648581600Z",
     "start_time": "2023-07-24T20:45:22.498014100Z"
    }
   },
   "outputs": [],
   "source": [
    "from time import time\n",
    "import polars as pl\n",
    "import pandas as pd\n",
    "import numpy as np\n",
    "import pyarrow\n",
    "\n",
    "import matplotlib.pyplot as plt\n",
    "import seaborn as sns\n",
    "\n",
    "df = pl.scan_csv(r\"../datasets/2019-Nov.csv\")"
   ]
  },
  {
   "cell_type": "code",
   "execution_count": 3,
   "outputs": [
    {
     "data": {
      "text/plain": "shape: (5, 9)\n┌─────────────┬────────────┬────────────┬───────────┬───┬────────┬────────┬───────────┬────────────┐\n│ event_time  ┆ event_type ┆ product_id ┆ category_ ┆ … ┆ brand  ┆ price  ┆ user_id   ┆ user_sessi │\n│ ---         ┆ ---        ┆ ---        ┆ id        ┆   ┆ ---    ┆ ---    ┆ ---       ┆ on         │\n│ str         ┆ str        ┆ i64        ┆ ---       ┆   ┆ str    ┆ f64    ┆ i64       ┆ ---        │\n│             ┆            ┆            ┆ i64       ┆   ┆        ┆        ┆           ┆ str        │\n╞═════════════╪════════════╪════════════╪═══════════╪═══╪════════╪════════╪═══════════╪════════════╡\n│ 2019-11-01  ┆ view       ┆ 1003461    ┆ 205301355 ┆ … ┆ xiaomi ┆ 489.07 ┆ 520088904 ┆ 4d3b30da-a │\n│ 00:00:00    ┆            ┆            ┆ 563188265 ┆   ┆        ┆        ┆           ┆ 5e4-49df-b │\n│ UTC         ┆            ┆            ┆ 5         ┆   ┆        ┆        ┆           ┆ 1a8-ba5943 │\n│             ┆            ┆            ┆           ┆   ┆        ┆        ┆           ┆ f1…        │\n│ 2019-11-01  ┆ view       ┆ 5000088    ┆ 205301356 ┆ … ┆ janome ┆ 293.65 ┆ 530496790 ┆ 8e5f4f83-3 │\n│ 00:00:00    ┆            ┆            ┆ 610086603 ┆   ┆        ┆        ┆           ┆ 66c-4f70-8 │\n│ UTC         ┆            ┆            ┆ 5         ┆   ┆        ┆        ┆           ┆ 60e-ca7417 │\n│             ┆            ┆            ┆           ┆   ┆        ┆        ┆           ┆ 41…        │\n│ 2019-11-01  ┆ view       ┆ 17302664   ┆ 205301355 ┆ … ┆ creed  ┆ 28.31  ┆ 561587266 ┆ 755422e7-9 │\n│ 00:00:01    ┆            ┆            ┆ 385349765 ┆   ┆        ┆        ┆           ┆ 040-477b-9 │\n│ UTC         ┆            ┆            ┆ 5         ┆   ┆        ┆        ┆           ┆ bd2-6a6e8f │\n│             ┆            ┆            ┆           ┆   ┆        ┆        ┆           ┆ d9…        │\n│ 2019-11-01  ┆ view       ┆ 3601530    ┆ 205301356 ┆ … ┆ lg     ┆ 712.87 ┆ 518085591 ┆ 3bfb58cd-7 │\n│ 00:00:01    ┆            ┆            ┆ 381077592 ┆   ┆        ┆        ┆           ┆ 892-48cc-8 │\n│ UTC         ┆            ┆            ┆ 3         ┆   ┆        ┆        ┆           ┆ 020-2f17e6 │\n│             ┆            ┆            ┆           ┆   ┆        ┆        ┆           ┆ de…        │\n│ 2019-11-01  ┆ view       ┆ 1004775    ┆ 205301355 ┆ … ┆ xiaomi ┆ 183.27 ┆ 558856683 ┆ 313628f1-6 │\n│ 00:00:01    ┆            ┆            ┆ 563188265 ┆   ┆        ┆        ┆           ┆ 8b8-460d-8 │\n│ UTC         ┆            ┆            ┆ 5         ┆   ┆        ┆        ┆           ┆ 4f6-cec7a8 │\n│             ┆            ┆            ┆           ┆   ┆        ┆        ┆           ┆ 79…        │\n└─────────────┴────────────┴────────────┴───────────┴───┴────────┴────────┴───────────┴────────────┘",
      "text/html": "<div><style>\n.dataframe > thead > tr > th,\n.dataframe > tbody > tr > td {\n  text-align: right;\n}\n</style>\n<small>shape: (5, 9)</small><table border=\"1\" class=\"dataframe\"><thead><tr><th>event_time</th><th>event_type</th><th>product_id</th><th>category_id</th><th>category_code</th><th>brand</th><th>price</th><th>user_id</th><th>user_session</th></tr><tr><td>str</td><td>str</td><td>i64</td><td>i64</td><td>str</td><td>str</td><td>f64</td><td>i64</td><td>str</td></tr></thead><tbody><tr><td>&quot;2019-11-01 00:…</td><td>&quot;view&quot;</td><td>1003461</td><td>2053013555631882655</td><td>&quot;electronics.sm…</td><td>&quot;xiaomi&quot;</td><td>489.07</td><td>520088904</td><td>&quot;4d3b30da-a5e4-…</td></tr><tr><td>&quot;2019-11-01 00:…</td><td>&quot;view&quot;</td><td>5000088</td><td>2053013566100866035</td><td>&quot;appliances.sew…</td><td>&quot;janome&quot;</td><td>293.65</td><td>530496790</td><td>&quot;8e5f4f83-366c-…</td></tr><tr><td>&quot;2019-11-01 00:…</td><td>&quot;view&quot;</td><td>17302664</td><td>2053013553853497655</td><td>null</td><td>&quot;creed&quot;</td><td>28.31</td><td>561587266</td><td>&quot;755422e7-9040-…</td></tr><tr><td>&quot;2019-11-01 00:…</td><td>&quot;view&quot;</td><td>3601530</td><td>2053013563810775923</td><td>&quot;appliances.kit…</td><td>&quot;lg&quot;</td><td>712.87</td><td>518085591</td><td>&quot;3bfb58cd-7892-…</td></tr><tr><td>&quot;2019-11-01 00:…</td><td>&quot;view&quot;</td><td>1004775</td><td>2053013555631882655</td><td>&quot;electronics.sm…</td><td>&quot;xiaomi&quot;</td><td>183.27</td><td>558856683</td><td>&quot;313628f1-68b8-…</td></tr></tbody></table></div>"
     },
     "execution_count": 3,
     "metadata": {},
     "output_type": "execute_result"
    }
   ],
   "source": [
    "df.head().collect(streaming=True)"
   ],
   "metadata": {
    "collapsed": false
   }
  },
  {
   "cell_type": "code",
   "execution_count": 23,
   "outputs": [
    {
     "name": "stdout",
     "output_type": "stream",
     "text": [
      "CPU times: total: 6.72 s\n",
      "Wall time: 6.71 s\n"
     ]
    },
    {
     "data": {
      "text/plain": "67501979"
     },
     "execution_count": 23,
     "metadata": {},
     "output_type": "execute_result"
    }
   ],
   "source": [
    "%%time\n",
    "\n",
    "# Counting all the element of the Lazy Dataframe\n",
    "\n",
    "df.select(pl.count()).collect().item()"
   ],
   "metadata": {
    "collapsed": false,
    "ExecuteTime": {
     "end_time": "2023-07-17T10:51:41.513290100Z",
     "start_time": "2023-07-17T10:51:34.789431800Z"
    }
   }
  },
  {
   "cell_type": "code",
   "execution_count": 27,
   "outputs": [
    {
     "name": "stdout",
     "output_type": "stream",
     "text": [
      "CPU times: total: 13 s\n",
      "Wall time: 7.18 s\n"
     ]
    },
    {
     "data": {
      "text/plain": "shape: (1, 1)\n┌────────────┐\n│ product_id │\n│ ---        │\n│ u32        │\n╞════════════╡\n│ 190662     │\n└────────────┘",
      "text/html": "<div><style>\n.dataframe > thead > tr > th,\n.dataframe > tbody > tr > td {\n  text-align: right;\n}\n</style>\n<small>shape: (1, 1)</small><table border=\"1\" class=\"dataframe\"><thead><tr><th>product_id</th></tr><tr><td>u32</td></tr></thead><tbody><tr><td>190662</td></tr></tbody></table></div>"
     },
     "execution_count": 27,
     "metadata": {},
     "output_type": "execute_result"
    }
   ],
   "source": [
    "%%time\n",
    "\n",
    "# Counting the unique numbers of products into the DataFrame\n",
    "\n",
    "df.select([\n",
    "    pl.col('product_id').n_unique()\n",
    "]).collect(streaming=True)"
   ],
   "metadata": {
    "collapsed": false,
    "ExecuteTime": {
     "end_time": "2023-07-18T23:21:24.132248700Z",
     "start_time": "2023-07-18T23:21:16.929362900Z"
    }
   }
  },
  {
   "cell_type": "code",
   "execution_count": 30,
   "outputs": [
    {
     "name": "stdout",
     "output_type": "stream",
     "text": [
      "CPU times: total: 3.44 s\n",
      "Wall time: 5.94 s\n"
     ]
    },
    {
     "data": {
      "text/plain": "shape: (5, 2)\n┌──────────┬───────────┐\n│ brand    ┆ num_items │\n│ ---      ┆ ---       │\n│ str      ┆ u32       │\n╞══════════╪═══════════╡\n│ pioneer  ┆ 201799    │\n│ moony    ┆ 1183      │\n│ kipocket ┆ 1376      │\n│ niio     ┆ 1136      │\n│ master   ┆ 1864      │\n└──────────┴───────────┘",
      "text/html": "<div><style>\n.dataframe > thead > tr > th,\n.dataframe > tbody > tr > td {\n  text-align: right;\n}\n</style>\n<small>shape: (5, 2)</small><table border=\"1\" class=\"dataframe\"><thead><tr><th>brand</th><th>num_items</th></tr><tr><td>str</td><td>u32</td></tr></thead><tbody><tr><td>&quot;pioneer&quot;</td><td>201799</td></tr><tr><td>&quot;moony&quot;</td><td>1183</td></tr><tr><td>&quot;kipocket&quot;</td><td>1376</td></tr><tr><td>&quot;niio&quot;</td><td>1136</td></tr><tr><td>&quot;master&quot;</td><td>1864</td></tr></tbody></table></div>"
     },
     "execution_count": 30,
     "metadata": {},
     "output_type": "execute_result"
    }
   ],
   "source": [
    "%%time\n",
    "\n",
    "# With groupby we can group elements by columns' values and perform some aggregation operations with lazy dataframe\n",
    "\n",
    "df.groupby(\"brand\").agg(\n",
    "    pl.count().alias(\"num_items\")\n",
    ").collect(streaming=True).head()"
   ],
   "metadata": {
    "collapsed": false,
    "ExecuteTime": {
     "end_time": "2023-07-18T23:21:59.466903700Z",
     "start_time": "2023-07-18T23:21:53.491344300Z"
    }
   }
  },
  {
   "cell_type": "code",
   "execution_count": 5,
   "outputs": [
    {
     "name": "stdout",
     "output_type": "stream",
     "text": [
      "CPU times: total: 6.36 s\n",
      "Wall time: 6.85 s\n"
     ]
    },
    {
     "data": {
      "text/plain": "shape: (5, 2)\n┌─────────┬─────────────────────┐\n│ brand   ┆ num_items_per_brand │\n│ ---     ┆ ---                 │\n│ str     ┆ u32                 │\n╞═════════╪═════════════════════╡\n│ null    ┆ 9218235             │\n│ samsung ┆ 7889245             │\n│ apple   ┆ 6259379             │\n│ xiaomi  ┆ 4638062             │\n│ huawei  ┆ 1410126             │\n└─────────┴─────────────────────┘",
      "text/html": "<div><style>\n.dataframe > thead > tr > th,\n.dataframe > tbody > tr > td {\n  text-align: right;\n}\n</style>\n<small>shape: (5, 2)</small><table border=\"1\" class=\"dataframe\"><thead><tr><th>brand</th><th>num_items_per_brand</th></tr><tr><td>str</td><td>u32</td></tr></thead><tbody><tr><td>null</td><td>9218235</td></tr><tr><td>&quot;samsung&quot;</td><td>7889245</td></tr><tr><td>&quot;apple&quot;</td><td>6259379</td></tr><tr><td>&quot;xiaomi&quot;</td><td>4638062</td></tr><tr><td>&quot;huawei&quot;</td><td>1410126</td></tr></tbody></table></div>"
     },
     "execution_count": 5,
     "metadata": {},
     "output_type": "execute_result"
    }
   ],
   "source": [
    "%%time\n",
    "\n",
    "# Aggregation with sorting\n",
    "\n",
    "df.groupby(\"brand\").agg([\n",
    "    pl.count().alias(\"num_items_per_brand\")\n",
    "]).sort(\"num_items_per_brand\", descending=True).collect(streaming=True).head()"
   ],
   "metadata": {
    "collapsed": false,
    "ExecuteTime": {
     "end_time": "2023-07-24T20:45:41.910919700Z",
     "start_time": "2023-07-24T20:45:35.046849300Z"
    }
   }
  },
  {
   "cell_type": "code",
   "execution_count": 1,
   "outputs": [
    {
     "ename": "NameError",
     "evalue": "name 'df' is not defined",
     "output_type": "error",
     "traceback": [
      "\u001B[1;31m---------------------------------------------------------------------------\u001B[0m",
      "\u001B[1;31mNameError\u001B[0m                                 Traceback (most recent call last)",
      "File \u001B[1;32m<timed exec>:2\u001B[0m\n",
      "\u001B[1;31mNameError\u001B[0m: name 'df' is not defined"
     ]
    }
   ],
   "source": [
    "%%time\n",
    "\n",
    "#Groupby on two columns and sorting\n",
    "df_brand_event = df.groupby([\"brand\", \"event_type\"]).agg(pl.count()).sort([\"count\"], descending=True)\n",
    "\n",
    "df_brand_event.collect(streaming=True).head()"
   ],
   "metadata": {
    "collapsed": false,
    "ExecuteTime": {
     "end_time": "2023-07-25T22:00:22.355494200Z",
     "start_time": "2023-07-25T22:00:22.141596600Z"
    }
   }
  }
 ],
 "metadata": {
  "kernelspec": {
   "display_name": "Python 3",
   "language": "python",
   "name": "python3"
  },
  "language_info": {
   "codemirror_mode": {
    "name": "ipython",
    "version": 2
   },
   "file_extension": ".py",
   "mimetype": "text/x-python",
   "name": "python",
   "nbconvert_exporter": "python",
   "pygments_lexer": "ipython2",
   "version": "2.7.6"
  }
 },
 "nbformat": 4,
 "nbformat_minor": 0
}
