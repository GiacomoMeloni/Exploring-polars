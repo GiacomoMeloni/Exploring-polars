{
 "cells": [
  {
   "cell_type": "code",
   "execution_count": 11,
   "metadata": {
    "collapsed": true,
    "ExecuteTime": {
     "end_time": "2023-07-01T22:32:48.082777100Z",
     "start_time": "2023-07-01T22:32:47.883657700Z"
    }
   },
   "outputs": [],
   "source": [
    "from time import time\n",
    "import polars as pl\n",
    "import pandas as pd\n",
    "import numpy as np\n",
    "import pyarrow\n",
    "\n",
    "import matplotlib.pyplot as plt\n",
    "import seaborn as sns\n",
    "\n",
    "df = pl.read_csv(r\"./datasets/2019-Nov-1M.csv\")"
   ]
  },
  {
   "cell_type": "code",
   "execution_count": 12,
   "outputs": [
    {
     "name": "stdout",
     "output_type": "stream",
     "text": [
      "CPU times: total: 15.6 ms\n",
      "Wall time: 18 ms\n"
     ]
    },
    {
     "data": {
      "text/plain": "shape: (2_650, 2)\n┌──────────┬───────────┐\n│ brand    ┆ num_items │\n│ ---      ┆ ---       │\n│ str      ┆ u32       │\n╞══════════╪═══════════╡\n│ madcat   ┆ 4         │\n│ tunga    ┆ 2004      │\n│ mebberi  ┆ 6         │\n│ nz       ┆ 32        │\n│ …        ┆ …         │\n│ wibtek   ┆ 6         │\n│ ride     ┆ 12        │\n│ zanussi  ┆ 48        │\n│ kisswill ┆ 13        │\n└──────────┴───────────┘",
      "text/html": "<div><style>\n.dataframe > thead > tr > th,\n.dataframe > tbody > tr > td {\n  text-align: right;\n}\n</style>\n<small>shape: (2_650, 2)</small><table border=\"1\" class=\"dataframe\"><thead><tr><th>brand</th><th>num_items</th></tr><tr><td>str</td><td>u32</td></tr></thead><tbody><tr><td>&quot;madcat&quot;</td><td>4</td></tr><tr><td>&quot;tunga&quot;</td><td>2004</td></tr><tr><td>&quot;mebberi&quot;</td><td>6</td></tr><tr><td>&quot;nz&quot;</td><td>32</td></tr><tr><td>&quot;swat&quot;</td><td>250</td></tr><tr><td>&quot;maribel&quot;</td><td>7</td></tr><tr><td>&quot;luxell&quot;</td><td>89</td></tr><tr><td>&quot;barer&quot;</td><td>28</td></tr><tr><td>&quot;maunfeld&quot;</td><td>80</td></tr><tr><td>&quot;groundzero&quot;</td><td>1</td></tr><tr><td>&quot;recaro&quot;</td><td>1</td></tr><tr><td>&quot;king&quot;</td><td>280</td></tr><tr><td>&hellip;</td><td>&hellip;</td></tr><tr><td>&quot;merrylock&quot;</td><td>14</td></tr><tr><td>&quot;fostex&quot;</td><td>6</td></tr><tr><td>&quot;varta&quot;</td><td>183</td></tr><tr><td>&quot;gamemax&quot;</td><td>102</td></tr><tr><td>&quot;krk&quot;</td><td>7</td></tr><tr><td>&quot;gt&quot;</td><td>15</td></tr><tr><td>&quot;erkaplan&quot;</td><td>93</td></tr><tr><td>&quot;joyor&quot;</td><td>16</td></tr><tr><td>&quot;wibtek&quot;</td><td>6</td></tr><tr><td>&quot;ride&quot;</td><td>12</td></tr><tr><td>&quot;zanussi&quot;</td><td>48</td></tr><tr><td>&quot;kisswill&quot;</td><td>13</td></tr></tbody></table></div>"
     },
     "execution_count": 12,
     "metadata": {},
     "output_type": "execute_result"
    }
   ],
   "source": [
    "%%time\n",
    "\n",
    "# With groupby we can group elements by columns' values and perform some aggregation operations\n",
    "\n",
    "df.groupby(\"brand\").agg(\n",
    "    pl.count().alias(\"num_items\")\n",
    ")"
   ],
   "metadata": {
    "collapsed": false,
    "ExecuteTime": {
     "end_time": "2023-07-01T22:32:48.083778700Z",
     "start_time": "2023-07-01T22:32:48.020239800Z"
    }
   }
  },
  {
   "cell_type": "code",
   "execution_count": 13,
   "outputs": [
    {
     "data": {
      "text/plain": "shape: (1, 1)\n┌─────────┐\n│ count   │\n│ ---     │\n│ u32     │\n╞═════════╡\n│ 1000000 │\n└─────────┘",
      "text/html": "<div><style>\n.dataframe > thead > tr > th,\n.dataframe > tbody > tr > td {\n  text-align: right;\n}\n</style>\n<small>shape: (1, 1)</small><table border=\"1\" class=\"dataframe\"><thead><tr><th>count</th></tr><tr><td>u32</td></tr></thead><tbody><tr><td>1000000</td></tr></tbody></table></div>"
     },
     "execution_count": 13,
     "metadata": {},
     "output_type": "execute_result"
    }
   ],
   "source": [
    "df.select([pl.count()])"
   ],
   "metadata": {
    "collapsed": false,
    "ExecuteTime": {
     "end_time": "2023-07-01T22:32:48.083778700Z",
     "start_time": "2023-07-01T22:32:48.050775900Z"
    }
   }
  },
  {
   "cell_type": "code",
   "execution_count": 18,
   "outputs": [
    {
     "name": "stdout",
     "output_type": "stream",
     "text": [
      "CPU times: total: 15.6 ms\n",
      "Wall time: 18 ms\n"
     ]
    },
    {
     "data": {
      "text/plain": "shape: (2_650, 2)\n┌─────────┬─────────────────────┐\n│ brand   ┆ num_items_per_brand │\n│ ---     ┆ ---                 │\n│ str     ┆ u32                 │\n╞═════════╪═════════════════════╡\n│ null    ┆ 147043              │\n│ samsung ┆ 126248              │\n│ apple   ┆ 99213               │\n│ xiaomi  ┆ 72601               │\n│ …       ┆ …                   │\n│ skylor  ┆ 1                   │\n│ mammie  ┆ 1                   │\n│ lessar  ┆ 1                   │\n│ alex    ┆ 1                   │\n└─────────┴─────────────────────┘",
      "text/html": "<div><style>\n.dataframe > thead > tr > th,\n.dataframe > tbody > tr > td {\n  text-align: right;\n}\n</style>\n<small>shape: (2_650, 2)</small><table border=\"1\" class=\"dataframe\"><thead><tr><th>brand</th><th>num_items_per_brand</th></tr><tr><td>str</td><td>u32</td></tr></thead><tbody><tr><td>null</td><td>147043</td></tr><tr><td>&quot;samsung&quot;</td><td>126248</td></tr><tr><td>&quot;apple&quot;</td><td>99213</td></tr><tr><td>&quot;xiaomi&quot;</td><td>72601</td></tr><tr><td>&quot;huawei&quot;</td><td>23976</td></tr><tr><td>&quot;lucente&quot;</td><td>15625</td></tr><tr><td>&quot;oppo&quot;</td><td>13833</td></tr><tr><td>&quot;lg&quot;</td><td>13254</td></tr><tr><td>&quot;bosch&quot;</td><td>12282</td></tr><tr><td>&quot;cordiant&quot;</td><td>11548</td></tr><tr><td>&quot;sony&quot;</td><td>11308</td></tr><tr><td>&quot;acer&quot;</td><td>10456</td></tr><tr><td>&hellip;</td><td>&hellip;</td></tr><tr><td>&quot;vargame&quot;</td><td>1</td></tr><tr><td>&quot;ditreex&quot;</td><td>1</td></tr><tr><td>&quot;stelz&quot;</td><td>1</td></tr><tr><td>&quot;mozgamebel&quot;</td><td>1</td></tr><tr><td>&quot;stahlberg&quot;</td><td>1</td></tr><tr><td>&quot;murager&quot;</td><td>1</td></tr><tr><td>&quot;cressi&quot;</td><td>1</td></tr><tr><td>&quot;edelman&quot;</td><td>1</td></tr><tr><td>&quot;skylor&quot;</td><td>1</td></tr><tr><td>&quot;mammie&quot;</td><td>1</td></tr><tr><td>&quot;lessar&quot;</td><td>1</td></tr><tr><td>&quot;alex&quot;</td><td>1</td></tr></tbody></table></div>"
     },
     "execution_count": 18,
     "metadata": {},
     "output_type": "execute_result"
    }
   ],
   "source": [
    "%%time\n",
    "\n",
    "# The same result could be sorted as follows\n",
    "\n",
    "df.groupby(\"brand\").agg([\n",
    "    pl.count().alias(\"num_items_per_brand\")\n",
    "]).sort(\"num_items_per_brand\", descending=True)"
   ],
   "metadata": {
    "collapsed": false,
    "ExecuteTime": {
     "end_time": "2023-07-01T22:33:55.017794700Z",
     "start_time": "2023-07-01T22:33:54.981795100Z"
    }
   }
  },
  {
   "cell_type": "code",
   "execution_count": 14,
   "outputs": [],
   "source": [],
   "metadata": {
    "collapsed": false,
    "ExecuteTime": {
     "end_time": "2023-07-01T22:32:48.188284900Z",
     "start_time": "2023-07-01T22:32:48.113491Z"
    }
   }
  }
 ],
 "metadata": {
  "kernelspec": {
   "display_name": "Python 3",
   "language": "python",
   "name": "python3"
  },
  "language_info": {
   "codemirror_mode": {
    "name": "ipython",
    "version": 2
   },
   "file_extension": ".py",
   "mimetype": "text/x-python",
   "name": "python",
   "nbconvert_exporter": "python",
   "pygments_lexer": "ipython2",
   "version": "2.7.6"
  }
 },
 "nbformat": 4,
 "nbformat_minor": 0
}
