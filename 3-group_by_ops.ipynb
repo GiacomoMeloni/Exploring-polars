{
 "cells": [
  {
   "cell_type": "code",
   "execution_count": 11,
   "metadata": {
    "collapsed": true,
    "ExecuteTime": {
     "end_time": "2023-07-03T20:32:41.615831Z",
     "start_time": "2023-07-03T20:32:41.469500500Z"
    }
   },
   "outputs": [],
   "source": [
    "from time import time\n",
    "import polars as pl\n",
    "import pandas as pd\n",
    "import numpy as np\n",
    "import pyarrow\n",
    "\n",
    "import matplotlib.pyplot as plt\n",
    "import seaborn as sns\n",
    "\n",
    "df = pl.read_csv(r\"./datasets/2019-Nov-1M.csv\")"
   ]
  },
  {
   "cell_type": "code",
   "execution_count": 12,
   "outputs": [
    {
     "name": "stdout",
     "output_type": "stream",
     "text": [
      "CPU times: total: 0 ns\n",
      "Wall time: 15 ms\n"
     ]
    },
    {
     "data": {
      "text/plain": "shape: (2_650, 2)\n┌──────────────┬───────────┐\n│ brand        ┆ num_items │\n│ ---          ┆ ---       │\n│ str          ┆ u32       │\n╞══════════════╪═══════════╡\n│ baldessarini ┆ 18        │\n│ adile        ┆ 174       │\n│ canon        ┆ 1653      │\n│ prestigio    ┆ 1191      │\n│ …            ┆ …         │\n│ t-rex        ┆ 37        │\n│ gelflex      ┆ 11        │\n│ rotor        ┆ 32        │\n│ hercules     ┆ 4         │\n└──────────────┴───────────┘",
      "text/html": "<div><style>\n.dataframe > thead > tr > th,\n.dataframe > tbody > tr > td {\n  text-align: right;\n}\n</style>\n<small>shape: (2_650, 2)</small><table border=\"1\" class=\"dataframe\"><thead><tr><th>brand</th><th>num_items</th></tr><tr><td>str</td><td>u32</td></tr></thead><tbody><tr><td>&quot;baldessarini&quot;</td><td>18</td></tr><tr><td>&quot;adile&quot;</td><td>174</td></tr><tr><td>&quot;canon&quot;</td><td>1653</td></tr><tr><td>&quot;prestigio&quot;</td><td>1191</td></tr><tr><td>&quot;burberry&quot;</td><td>20</td></tr><tr><td>&quot;biema&quot;</td><td>3</td></tr><tr><td>&quot;babyono&quot;</td><td>3</td></tr><tr><td>&quot;unikum&quot;</td><td>2</td></tr><tr><td>&quot;neptun&quot;</td><td>3</td></tr><tr><td>&quot;casio&quot;</td><td>5439</td></tr><tr><td>&quot;slonimmebel&quot;</td><td>3</td></tr><tr><td>&quot;joie&quot;</td><td>469</td></tr><tr><td>&hellip;</td><td>&hellip;</td></tr><tr><td>&quot;airwheel&quot;</td><td>13</td></tr><tr><td>&quot;alpika&quot;</td><td>16</td></tr><tr><td>&quot;lador&quot;</td><td>1</td></tr><tr><td>&quot;cablexpert&quot;</td><td>35</td></tr><tr><td>&quot;galanz&quot;</td><td>46</td></tr><tr><td>&quot;tesma&quot;</td><td>2</td></tr><tr><td>&quot;greenway&quot;</td><td>32</td></tr><tr><td>&quot;edge&quot;</td><td>250</td></tr><tr><td>&quot;t-rex&quot;</td><td>37</td></tr><tr><td>&quot;gelflex&quot;</td><td>11</td></tr><tr><td>&quot;rotor&quot;</td><td>32</td></tr><tr><td>&quot;hercules&quot;</td><td>4</td></tr></tbody></table></div>"
     },
     "execution_count": 12,
     "metadata": {},
     "output_type": "execute_result"
    }
   ],
   "source": [
    "%%time\n",
    "\n",
    "# With groupby we can group elements by columns' values and perform some aggregation operations\n",
    "\n",
    "df.groupby(\"brand\").agg(\n",
    "    pl.count().alias(\"num_items\")\n",
    ")"
   ],
   "metadata": {
    "collapsed": false,
    "ExecuteTime": {
     "end_time": "2023-07-03T20:32:41.662293200Z",
     "start_time": "2023-07-03T20:32:41.616891600Z"
    }
   }
  },
  {
   "cell_type": "code",
   "execution_count": 13,
   "outputs": [
    {
     "data": {
      "text/plain": "shape: (1, 1)\n┌─────────┐\n│ count   │\n│ ---     │\n│ u32     │\n╞═════════╡\n│ 1000000 │\n└─────────┘",
      "text/html": "<div><style>\n.dataframe > thead > tr > th,\n.dataframe > tbody > tr > td {\n  text-align: right;\n}\n</style>\n<small>shape: (1, 1)</small><table border=\"1\" class=\"dataframe\"><thead><tr><th>count</th></tr><tr><td>u32</td></tr></thead><tbody><tr><td>1000000</td></tr></tbody></table></div>"
     },
     "execution_count": 13,
     "metadata": {},
     "output_type": "execute_result"
    }
   ],
   "source": [
    "df.select([pl.count()])"
   ],
   "metadata": {
    "collapsed": false,
    "ExecuteTime": {
     "end_time": "2023-07-03T20:32:41.707510100Z",
     "start_time": "2023-07-03T20:32:41.663216600Z"
    }
   }
  },
  {
   "cell_type": "code",
   "execution_count": 14,
   "outputs": [
    {
     "name": "stdout",
     "output_type": "stream",
     "text": [
      "CPU times: total: 15.6 ms\n",
      "Wall time: 23.8 ms\n"
     ]
    },
    {
     "data": {
      "text/plain": "shape: (2_650, 2)\n┌──────────┬─────────────────────┐\n│ brand    ┆ num_items_per_brand │\n│ ---      ┆ ---                 │\n│ str      ┆ u32                 │\n╞══════════╪═════════════════════╡\n│ null     ┆ 147043              │\n│ samsung  ┆ 126248              │\n│ apple    ┆ 99213               │\n│ xiaomi   ┆ 72601               │\n│ …        ┆ …                   │\n│ a-elita  ┆ 1                   │\n│ normann  ┆ 1                   │\n│ granfest ┆ 1                   │\n│ leven    ┆ 1                   │\n└──────────┴─────────────────────┘",
      "text/html": "<div><style>\n.dataframe > thead > tr > th,\n.dataframe > tbody > tr > td {\n  text-align: right;\n}\n</style>\n<small>shape: (2_650, 2)</small><table border=\"1\" class=\"dataframe\"><thead><tr><th>brand</th><th>num_items_per_brand</th></tr><tr><td>str</td><td>u32</td></tr></thead><tbody><tr><td>null</td><td>147043</td></tr><tr><td>&quot;samsung&quot;</td><td>126248</td></tr><tr><td>&quot;apple&quot;</td><td>99213</td></tr><tr><td>&quot;xiaomi&quot;</td><td>72601</td></tr><tr><td>&quot;huawei&quot;</td><td>23976</td></tr><tr><td>&quot;lucente&quot;</td><td>15625</td></tr><tr><td>&quot;oppo&quot;</td><td>13833</td></tr><tr><td>&quot;lg&quot;</td><td>13254</td></tr><tr><td>&quot;bosch&quot;</td><td>12282</td></tr><tr><td>&quot;cordiant&quot;</td><td>11548</td></tr><tr><td>&quot;sony&quot;</td><td>11308</td></tr><tr><td>&quot;acer&quot;</td><td>10456</td></tr><tr><td>&hellip;</td><td>&hellip;</td></tr><tr><td>&quot;gabriella&quot;</td><td>1</td></tr><tr><td>&quot;bra&quot;</td><td>1</td></tr><tr><td>&quot;marusa&quot;</td><td>1</td></tr><tr><td>&quot;meanlove&quot;</td><td>1</td></tr><tr><td>&quot;wenyi&quot;</td><td>1</td></tr><tr><td>&quot;circle&quot;</td><td>1</td></tr><tr><td>&quot;mutsy&quot;</td><td>1</td></tr><tr><td>&quot;raveltex&quot;</td><td>1</td></tr><tr><td>&quot;a-elita&quot;</td><td>1</td></tr><tr><td>&quot;normann&quot;</td><td>1</td></tr><tr><td>&quot;granfest&quot;</td><td>1</td></tr><tr><td>&quot;leven&quot;</td><td>1</td></tr></tbody></table></div>"
     },
     "execution_count": 14,
     "metadata": {},
     "output_type": "execute_result"
    }
   ],
   "source": [
    "%%time\n",
    "\n",
    "# The same result could be sorted as follows\n",
    "\n",
    "df.groupby(\"brand\").agg([\n",
    "    pl.count().alias(\"num_items_per_brand\")\n",
    "]).sort(\"num_items_per_brand\", descending=True)"
   ],
   "metadata": {
    "collapsed": false,
    "ExecuteTime": {
     "end_time": "2023-07-03T20:32:41.754382900Z",
     "start_time": "2023-07-03T20:32:41.678938100Z"
    }
   }
  },
  {
   "cell_type": "code",
   "execution_count": 15,
   "outputs": [
    {
     "name": "stdout",
     "output_type": "stream",
     "text": [
      "CPU times: total: 0 ns\n",
      "Wall time: 14.6 ms\n"
     ]
    },
    {
     "data": {
      "text/plain": "shape: (2_650, 3)\n┌─────────────┬────────┬────────────┐\n│ brand       ┆ count  ┆ percentage │\n│ ---         ┆ ---    ┆ ---        │\n│ str         ┆ u32    ┆ f64        │\n╞═════════════╪════════╪════════════╡\n│ null        ┆ 147043 ┆ 0.147043   │\n│ samsung     ┆ 126248 ┆ 0.126248   │\n│ apple       ┆ 99213  ┆ 0.099213   │\n│ xiaomi      ┆ 72601  ┆ 0.072601   │\n│ …           ┆ …      ┆ …          │\n│ sluban      ┆ 1      ┆ 0.000001   │\n│ kirovit     ┆ 1      ┆ 0.000001   │\n│ changerobot ┆ 1      ┆ 0.000001   │\n│ sabi        ┆ 1      ┆ 0.000001   │\n└─────────────┴────────┴────────────┘",
      "text/html": "<div><style>\n.dataframe > thead > tr > th,\n.dataframe > tbody > tr > td {\n  text-align: right;\n}\n</style>\n<small>shape: (2_650, 3)</small><table border=\"1\" class=\"dataframe\"><thead><tr><th>brand</th><th>count</th><th>percentage</th></tr><tr><td>str</td><td>u32</td><td>f64</td></tr></thead><tbody><tr><td>null</td><td>147043</td><td>0.147043</td></tr><tr><td>&quot;samsung&quot;</td><td>126248</td><td>0.126248</td></tr><tr><td>&quot;apple&quot;</td><td>99213</td><td>0.099213</td></tr><tr><td>&quot;xiaomi&quot;</td><td>72601</td><td>0.072601</td></tr><tr><td>&quot;huawei&quot;</td><td>23976</td><td>0.023976</td></tr><tr><td>&quot;lucente&quot;</td><td>15625</td><td>0.015625</td></tr><tr><td>&quot;oppo&quot;</td><td>13833</td><td>0.013833</td></tr><tr><td>&quot;lg&quot;</td><td>13254</td><td>0.013254</td></tr><tr><td>&quot;bosch&quot;</td><td>12282</td><td>0.012282</td></tr><tr><td>&quot;cordiant&quot;</td><td>11548</td><td>0.011548</td></tr><tr><td>&quot;sony&quot;</td><td>11308</td><td>0.011308</td></tr><tr><td>&quot;acer&quot;</td><td>10456</td><td>0.010456</td></tr><tr><td>&hellip;</td><td>&hellip;</td><td>&hellip;</td></tr><tr><td>&quot;alex&quot;</td><td>1</td><td>0.000001</td></tr><tr><td>&quot;fitokosmetik&quot;</td><td>1</td><td>0.000001</td></tr><tr><td>&quot;trendy&quot;</td><td>1</td><td>0.000001</td></tr><tr><td>&quot;murager&quot;</td><td>1</td><td>0.000001</td></tr><tr><td>&quot;eurosvet&quot;</td><td>1</td><td>0.000001</td></tr><tr><td>&quot;ultravit&quot;</td><td>1</td><td>0.000001</td></tr><tr><td>&quot;tripplite&quot;</td><td>1</td><td>0.000001</td></tr><tr><td>&quot;eden&quot;</td><td>1</td><td>0.000001</td></tr><tr><td>&quot;sluban&quot;</td><td>1</td><td>0.000001</td></tr><tr><td>&quot;kirovit&quot;</td><td>1</td><td>0.000001</td></tr><tr><td>&quot;changerobot&quot;</td><td>1</td><td>0.000001</td></tr><tr><td>&quot;sabi&quot;</td><td>1</td><td>0.000001</td></tr></tbody></table></div>"
     },
     "execution_count": 15,
     "metadata": {},
     "output_type": "execute_result"
    }
   ],
   "source": [
    "%%time\n",
    "\n",
    "# Perform count and percentage of instances\n",
    "\n",
    "df.groupby(\"brand\").agg([\n",
    "    pl.count()\n",
    "]).sort(\"count\", descending=True).with_columns([\n",
    "    (pl.col(\"count\") / pl.col(\"count\").sum()).alias(\"percentage\")\n",
    "])\n"
   ],
   "metadata": {
    "collapsed": false,
    "ExecuteTime": {
     "end_time": "2023-07-03T20:32:41.827112900Z",
     "start_time": "2023-07-03T20:32:41.710526400Z"
    }
   }
  },
  {
   "cell_type": "code",
   "execution_count": 16,
   "outputs": [
    {
     "name": "stdout",
     "output_type": "stream",
     "text": [
      "CPU times: total: 0 ns\n",
      "Wall time: 13 ms\n"
     ]
    },
    {
     "data": {
      "text/plain": "shape: (3, 2)\n┌────────────┬────────┐\n│ event_type ┆ counts │\n│ ---        ┆ ---    │\n│ str        ┆ u32    │\n╞════════════╪════════╡\n│ view       ┆ 967225 │\n│ cart       ┆ 14958  │\n│ purchase   ┆ 17817  │\n└────────────┴────────┘",
      "text/html": "<div><style>\n.dataframe > thead > tr > th,\n.dataframe > tbody > tr > td {\n  text-align: right;\n}\n</style>\n<small>shape: (3, 2)</small><table border=\"1\" class=\"dataframe\"><thead><tr><th>event_type</th><th>counts</th></tr><tr><td>str</td><td>u32</td></tr></thead><tbody><tr><td>&quot;view&quot;</td><td>967225</td></tr><tr><td>&quot;cart&quot;</td><td>14958</td></tr><tr><td>&quot;purchase&quot;</td><td>17817</td></tr></tbody></table></div>"
     },
     "execution_count": 16,
     "metadata": {},
     "output_type": "execute_result"
    }
   ],
   "source": [
    "%%time\n",
    "df['event_type'].value_counts()"
   ],
   "metadata": {
    "collapsed": false,
    "ExecuteTime": {
     "end_time": "2023-07-03T20:32:41.842469100Z",
     "start_time": "2023-07-03T20:32:41.742369500Z"
    }
   }
  },
  {
   "cell_type": "code",
   "execution_count": 17,
   "outputs": [
    {
     "name": "stdout",
     "output_type": "stream",
     "text": [
      "CPU times: total: 15.6 ms\n",
      "Wall time: 66.1 ms\n"
     ]
    },
    {
     "data": {
      "text/plain": "shape: (3, 2)\n┌────────────┬────────┐\n│ event_type ┆ count  │\n│ ---        ┆ ---    │\n│ str        ┆ u32    │\n╞════════════╪════════╡\n│ purchase   ┆ 17817  │\n│ cart       ┆ 14958  │\n│ view       ┆ 967225 │\n└────────────┴────────┘",
      "text/html": "<div><style>\n.dataframe > thead > tr > th,\n.dataframe > tbody > tr > td {\n  text-align: right;\n}\n</style>\n<small>shape: (3, 2)</small><table border=\"1\" class=\"dataframe\"><thead><tr><th>event_type</th><th>count</th></tr><tr><td>str</td><td>u32</td></tr></thead><tbody><tr><td>&quot;purchase&quot;</td><td>17817</td></tr><tr><td>&quot;cart&quot;</td><td>14958</td></tr><tr><td>&quot;view&quot;</td><td>967225</td></tr></tbody></table></div>"
     },
     "execution_count": 17,
     "metadata": {},
     "output_type": "execute_result"
    }
   ],
   "source": [
    "%%time\n",
    "df.groupby('event_type').agg(pl.count())"
   ],
   "metadata": {
    "collapsed": false,
    "ExecuteTime": {
     "end_time": "2023-07-03T20:32:41.961146800Z",
     "start_time": "2023-07-03T20:32:41.774370600Z"
    }
   }
  },
  {
   "cell_type": "code",
   "execution_count": 23,
   "outputs": [
    {
     "name": "stdout",
     "output_type": "stream",
     "text": [
      "CPU times: total: 15.6 ms\n",
      "Wall time: 19 ms\n"
     ]
    },
    {
     "data": {
      "text/plain": "shape: (5, 3)\n┌─────────┬────────────┬────────┐\n│ brand   ┆ event_type ┆ count  │\n│ ---     ┆ ---        ┆ ---    │\n│ str     ┆ str        ┆ u32    │\n╞═════════╪════════════╪════════╡\n│ null    ┆ view       ┆ 145478 │\n│ samsung ┆ view       ┆ 116794 │\n│ apple   ┆ view       ┆ 91848  │\n│ xiaomi  ┆ view       ┆ 69501  │\n│ huawei  ┆ view       ┆ 22773  │\n└─────────┴────────────┴────────┘",
      "text/html": "<div><style>\n.dataframe > thead > tr > th,\n.dataframe > tbody > tr > td {\n  text-align: right;\n}\n</style>\n<small>shape: (5, 3)</small><table border=\"1\" class=\"dataframe\"><thead><tr><th>brand</th><th>event_type</th><th>count</th></tr><tr><td>str</td><td>str</td><td>u32</td></tr></thead><tbody><tr><td>null</td><td>&quot;view&quot;</td><td>145478</td></tr><tr><td>&quot;samsung&quot;</td><td>&quot;view&quot;</td><td>116794</td></tr><tr><td>&quot;apple&quot;</td><td>&quot;view&quot;</td><td>91848</td></tr><tr><td>&quot;xiaomi&quot;</td><td>&quot;view&quot;</td><td>69501</td></tr><tr><td>&quot;huawei&quot;</td><td>&quot;view&quot;</td><td>22773</td></tr></tbody></table></div>"
     },
     "execution_count": 23,
     "metadata": {},
     "output_type": "execute_result"
    }
   ],
   "source": [
    "%%time\n",
    "\n",
    "#Groupby on two columns and sorting\n",
    "df_brand_event = df.groupby([\"brand\", \"event_type\"]).agg(pl.count()).sort([\"count\"], descending=True)\n",
    "\n",
    "df_brand_event.head()"
   ],
   "metadata": {
    "collapsed": false,
    "ExecuteTime": {
     "end_time": "2023-07-03T20:43:30.439465400Z",
     "start_time": "2023-07-03T20:43:30.404423100Z"
    }
   }
  },
  {
   "cell_type": "code",
   "execution_count": 22,
   "outputs": [
    {
     "name": "stderr",
     "output_type": "stream",
     "text": [
      "C:\\Users\\Giacomo\\AppData\\Local\\Temp\\ipykernel_19620\\3921812555.py:1: DeprecationWarning: In a future version of polars, the default `aggregate_function` will change from `'first'` to `None`. Please pass `'first'` to keep the current behaviour, or `None` to accept the new one.\n",
      "  df_brand_event.pivot(values=\"count\",\n"
     ]
    },
    {
     "data": {
      "text/plain": "shape: (2_650, 4)\n┌─────────┬────────┬──────┬──────────┐\n│ brand   ┆ view   ┆ cart ┆ purchase │\n│ ---     ┆ ---    ┆ ---  ┆ ---      │\n│ str     ┆ u32    ┆ u32  ┆ u32      │\n╞═════════╪════════╪══════╪══════════╡\n│ null    ┆ 145478 ┆ 185  ┆ 1380     │\n│ samsung ┆ 116794 ┆ 5202 ┆ 4252     │\n│ apple   ┆ 91848  ┆ 3916 ┆ 3449     │\n│ xiaomi  ┆ 69501  ┆ 1820 ┆ 1280     │\n│ …       ┆ …      ┆ …    ┆ …        │\n│ enkor   ┆ 1      ┆ null ┆ null     │\n│ mammie  ┆ 1      ┆ null ┆ null     │\n│ ditreex ┆ 1      ┆ null ┆ null     │\n│ fidan   ┆ 1      ┆ null ┆ null     │\n└─────────┴────────┴──────┴──────────┘",
      "text/html": "<div><style>\n.dataframe > thead > tr > th,\n.dataframe > tbody > tr > td {\n  text-align: right;\n}\n</style>\n<small>shape: (2_650, 4)</small><table border=\"1\" class=\"dataframe\"><thead><tr><th>brand</th><th>view</th><th>cart</th><th>purchase</th></tr><tr><td>str</td><td>u32</td><td>u32</td><td>u32</td></tr></thead><tbody><tr><td>null</td><td>145478</td><td>185</td><td>1380</td></tr><tr><td>&quot;samsung&quot;</td><td>116794</td><td>5202</td><td>4252</td></tr><tr><td>&quot;apple&quot;</td><td>91848</td><td>3916</td><td>3449</td></tr><tr><td>&quot;xiaomi&quot;</td><td>69501</td><td>1820</td><td>1280</td></tr><tr><td>&quot;huawei&quot;</td><td>22773</td><td>715</td><td>488</td></tr><tr><td>&quot;lucente&quot;</td><td>15363</td><td>3</td><td>259</td></tr><tr><td>&quot;oppo&quot;</td><td>13164</td><td>373</td><td>296</td></tr><tr><td>&quot;lg&quot;</td><td>12900</td><td>149</td><td>205</td></tr><tr><td>&quot;bosch&quot;</td><td>12109</td><td>61</td><td>112</td></tr><tr><td>&quot;sony&quot;</td><td>10955</td><td>182</td><td>171</td></tr><tr><td>&quot;cordiant&quot;</td><td>10908</td><td>271</td><td>369</td></tr><tr><td>&quot;acer&quot;</td><td>10242</td><td>71</td><td>143</td></tr><tr><td>&hellip;</td><td>&hellip;</td><td>&hellip;</td><td>&hellip;</td></tr><tr><td>&quot;selena&quot;</td><td>1</td><td>null</td><td>null</td></tr><tr><td>&quot;floralis&quot;</td><td>1</td><td>null</td><td>null</td></tr><tr><td>&quot;weber&quot;</td><td>1</td><td>null</td><td>null</td></tr><tr><td>&quot;doff&quot;</td><td>1</td><td>null</td><td>null</td></tr><tr><td>&quot;biol&quot;</td><td>1</td><td>null</td><td>null</td></tr><tr><td>&quot;alondra&quot;</td><td>1</td><td>null</td><td>null</td></tr><tr><td>&quot;mannivanovifer…</td><td>1</td><td>null</td><td>null</td></tr><tr><td>&quot;mastrad&quot;</td><td>1</td><td>null</td><td>null</td></tr><tr><td>&quot;enkor&quot;</td><td>1</td><td>null</td><td>null</td></tr><tr><td>&quot;mammie&quot;</td><td>1</td><td>null</td><td>null</td></tr><tr><td>&quot;ditreex&quot;</td><td>1</td><td>null</td><td>null</td></tr><tr><td>&quot;fidan&quot;</td><td>1</td><td>null</td><td>null</td></tr></tbody></table></div>"
     },
     "execution_count": 22,
     "metadata": {},
     "output_type": "execute_result"
    }
   ],
   "source": [
    "%%time\n",
    "\n",
    "#The pivot method make possible to fix a column as index and to expand the values of a specific column as columns using the values of the target column to fill and distribute across the new pivot columns created\n",
    "\n",
    "df_brand_event.pivot(values=\"count\",\n",
    "                     index=[\"brand\"],\n",
    "                     columns=[\"event_type\"])"
   ],
   "metadata": {
    "collapsed": false,
    "ExecuteTime": {
     "end_time": "2023-07-03T20:42:44.715370500Z",
     "start_time": "2023-07-03T20:42:44.655925Z"
    }
   }
  },
  {
   "cell_type": "code",
   "execution_count": 25,
   "outputs": [
    {
     "name": "stdout",
     "output_type": "stream",
     "text": [
      "CPU times: total: 0 ns\n",
      "Wall time: 5.01 ms\n"
     ]
    },
    {
     "name": "stderr",
     "output_type": "stream",
     "text": [
      "<timed eval>:3: DeprecationWarning: In a future version of polars, the default `aggregate_function` will change from `'first'` to `None`. Please pass `'first'` to keep the current behaviour, or `None` to accept the new one.\n"
     ]
    },
    {
     "data": {
      "text/plain": "shape: (2_650, 4)\n┌─────────┬────────┬──────┬──────────┐\n│ brand   ┆ view   ┆ cart ┆ purchase │\n│ ---     ┆ ---    ┆ ---  ┆ ---      │\n│ str     ┆ u32    ┆ u32  ┆ u32      │\n╞═════════╪════════╪══════╪══════════╡\n│ samsung ┆ 116794 ┆ 5202 ┆ 4252     │\n│ apple   ┆ 91848  ┆ 3916 ┆ 3449     │\n│ null    ┆ 145478 ┆ 185  ┆ 1380     │\n│ xiaomi  ┆ 69501  ┆ 1820 ┆ 1280     │\n│ …       ┆ …      ┆ …    ┆ …        │\n│ leiya   ┆ 1      ┆ null ┆ null     │\n│ ivc     ┆ 1      ┆ null ┆ null     │\n│ belis   ┆ 1      ┆ null ┆ null     │\n│ leven   ┆ 1      ┆ null ┆ null     │\n└─────────┴────────┴──────┴──────────┘",
      "text/html": "<div><style>\n.dataframe > thead > tr > th,\n.dataframe > tbody > tr > td {\n  text-align: right;\n}\n</style>\n<small>shape: (2_650, 4)</small><table border=\"1\" class=\"dataframe\"><thead><tr><th>brand</th><th>view</th><th>cart</th><th>purchase</th></tr><tr><td>str</td><td>u32</td><td>u32</td><td>u32</td></tr></thead><tbody><tr><td>&quot;samsung&quot;</td><td>116794</td><td>5202</td><td>4252</td></tr><tr><td>&quot;apple&quot;</td><td>91848</td><td>3916</td><td>3449</td></tr><tr><td>null</td><td>145478</td><td>185</td><td>1380</td></tr><tr><td>&quot;xiaomi&quot;</td><td>69501</td><td>1820</td><td>1280</td></tr><tr><td>&quot;huawei&quot;</td><td>22773</td><td>715</td><td>488</td></tr><tr><td>&quot;cordiant&quot;</td><td>10908</td><td>271</td><td>369</td></tr><tr><td>&quot;oppo&quot;</td><td>13164</td><td>373</td><td>296</td></tr><tr><td>&quot;lucente&quot;</td><td>15363</td><td>3</td><td>259</td></tr><tr><td>&quot;lg&quot;</td><td>12900</td><td>149</td><td>205</td></tr><tr><td>&quot;nokian&quot;</td><td>4712</td><td>186</td><td>188</td></tr><tr><td>&quot;triangle&quot;</td><td>5354</td><td>3</td><td>175</td></tr><tr><td>&quot;artel&quot;</td><td>8973</td><td>111</td><td>172</td></tr><tr><td>&hellip;</td><td>&hellip;</td><td>&hellip;</td><td>&hellip;</td></tr><tr><td>&quot;torso&quot;</td><td>1</td><td>null</td><td>null</td></tr><tr><td>&quot;hurakan&quot;</td><td>1</td><td>null</td><td>null</td></tr><tr><td>&quot;boss&quot;</td><td>1</td><td>null</td><td>null</td></tr><tr><td>&quot;floralis&quot;</td><td>1</td><td>null</td><td>null</td></tr><tr><td>&quot;meanlove&quot;</td><td>1</td><td>null</td><td>null</td></tr><tr><td>&quot;marusa&quot;</td><td>1</td><td>null</td><td>null</td></tr><tr><td>&quot;stelz&quot;</td><td>1</td><td>null</td><td>null</td></tr><tr><td>&quot;gk&quot;</td><td>1</td><td>null</td><td>null</td></tr><tr><td>&quot;leiya&quot;</td><td>1</td><td>null</td><td>null</td></tr><tr><td>&quot;ivc&quot;</td><td>1</td><td>null</td><td>null</td></tr><tr><td>&quot;belis&quot;</td><td>1</td><td>null</td><td>null</td></tr><tr><td>&quot;leven&quot;</td><td>1</td><td>null</td><td>null</td></tr></tbody></table></div>"
     },
     "execution_count": 25,
     "metadata": {},
     "output_type": "execute_result"
    }
   ],
   "source": [
    "%%time\n",
    "\n",
    "#It is possible to combine sorting with pivot operations\n",
    "\n",
    "df_brand_event.pivot(values=\"count\",\n",
    "                     index=[\"brand\"],\n",
    "                     columns=[\"event_type\"]).sort([\"purchase\", \"cart\"], descending=True)"
   ],
   "metadata": {
    "collapsed": false,
    "ExecuteTime": {
     "end_time": "2023-07-03T20:48:28.987245900Z",
     "start_time": "2023-07-03T20:48:28.933039600Z"
    }
   }
  },
  {
   "cell_type": "code",
   "execution_count": 17,
   "outputs": [],
   "source": [],
   "metadata": {
    "collapsed": false,
    "ExecuteTime": {
     "end_time": "2023-07-03T20:32:42.021143100Z",
     "start_time": "2023-07-03T20:32:41.897571Z"
    }
   }
  }
 ],
 "metadata": {
  "kernelspec": {
   "display_name": "Python 3",
   "language": "python",
   "name": "python3"
  },
  "language_info": {
   "codemirror_mode": {
    "name": "ipython",
    "version": 2
   },
   "file_extension": ".py",
   "mimetype": "text/x-python",
   "name": "python",
   "nbconvert_exporter": "python",
   "pygments_lexer": "ipython2",
   "version": "2.7.6"
  }
 },
 "nbformat": 4,
 "nbformat_minor": 0
}
