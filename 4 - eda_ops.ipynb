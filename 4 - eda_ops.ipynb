{
 "cells": [
  {
   "cell_type": "code",
   "execution_count": 12,
   "metadata": {
    "collapsed": true,
    "ExecuteTime": {
     "end_time": "2023-07-06T21:14:26.090444800Z",
     "start_time": "2023-07-06T21:14:26.079761600Z"
    }
   },
   "outputs": [],
   "source": [
    "from time import time\n",
    "import polars as pl\n",
    "import pandas as pd\n",
    "import numpy as np\n",
    "import pyarrow\n",
    "\n",
    "import matplotlib.pyplot as plt\n",
    "import seaborn as sns\n",
    "\n",
    "df = pl.read_csv(r\"./datasets/2019-Nov-1M.csv\")"
   ]
  },
  {
   "cell_type": "code",
   "execution_count": 13,
   "outputs": [
    {
     "name": "stdout",
     "output_type": "stream",
     "text": [
      "Dataset Shape: (1000000, 9)\n",
      "Dataset rows: 1000000\n",
      "Dataset columns: 9\n",
      "\n",
      "Column Types\n",
      "-----\n",
      "event_time\tType: Utf8\n",
      "event_type\tType: Utf8\n",
      "product_id\tType: Int64\n",
      "category_id\tType: Int64\n",
      "category_code\tType: Utf8\n",
      "brand\tType: Utf8\n",
      "price\tType: Float64\n",
      "user_id\tType: Int64\n",
      "user_session\tType: Utf8\n",
      "CPU times: total: 0 ns\n",
      "Wall time: 0 ns\n"
     ]
    }
   ],
   "source": [
    "%%time\n",
    "\n",
    "print(f\"Dataset Shape: {df.shape}\")\n",
    "print(f\"Dataset rows: {df.height}\")\n",
    "print(f\"Dataset columns: {df.width}\")\n",
    "\n",
    "print(f\"\\nColumn Types\\n-----\")\n",
    "\n",
    "for idx, col in enumerate(df.columns):\n",
    "   print(f\"{col}\\tType: {df.dtypes[idx]}\")"
   ],
   "metadata": {
    "collapsed": false,
    "ExecuteTime": {
     "end_time": "2023-07-06T21:14:26.106451900Z",
     "start_time": "2023-07-06T21:14:26.093440700Z"
    }
   }
  },
  {
   "cell_type": "code",
   "execution_count": 14,
   "outputs": [
    {
     "name": "stdout",
     "output_type": "stream",
     "text": [
      "CPU times: total: 0 ns\n",
      "Wall time: 0 ns\n"
     ]
    },
    {
     "data": {
      "text/plain": "shape: (5, 9)\n┌─────────────┬────────────┬────────────┬───────────┬───┬────────┬────────┬───────────┬────────────┐\n│ event_time  ┆ event_type ┆ product_id ┆ category_ ┆ … ┆ brand  ┆ price  ┆ user_id   ┆ user_sessi │\n│ ---         ┆ ---        ┆ ---        ┆ id        ┆   ┆ ---    ┆ ---    ┆ ---       ┆ on         │\n│ str         ┆ str        ┆ i64        ┆ ---       ┆   ┆ str    ┆ f64    ┆ i64       ┆ ---        │\n│             ┆            ┆            ┆ i64       ┆   ┆        ┆        ┆           ┆ str        │\n╞═════════════╪════════════╪════════════╪═══════════╪═══╪════════╪════════╪═══════════╪════════════╡\n│ 2019-11-01  ┆ view       ┆ 1003461    ┆ 205301355 ┆ … ┆ xiaomi ┆ 489.07 ┆ 520088904 ┆ 4d3b30da-a │\n│ 00:00:00    ┆            ┆            ┆ 563188265 ┆   ┆        ┆        ┆           ┆ 5e4-49df-b │\n│ UTC         ┆            ┆            ┆ 5         ┆   ┆        ┆        ┆           ┆ 1a8-ba5943 │\n│             ┆            ┆            ┆           ┆   ┆        ┆        ┆           ┆ f1…        │\n│ 2019-11-01  ┆ view       ┆ 5000088    ┆ 205301356 ┆ … ┆ janome ┆ 293.65 ┆ 530496790 ┆ 8e5f4f83-3 │\n│ 00:00:00    ┆            ┆            ┆ 610086603 ┆   ┆        ┆        ┆           ┆ 66c-4f70-8 │\n│ UTC         ┆            ┆            ┆ 5         ┆   ┆        ┆        ┆           ┆ 60e-ca7417 │\n│             ┆            ┆            ┆           ┆   ┆        ┆        ┆           ┆ 41…        │\n│ 2019-11-01  ┆ view       ┆ 17302664   ┆ 205301355 ┆ … ┆ creed  ┆ 28.31  ┆ 561587266 ┆ 755422e7-9 │\n│ 00:00:01    ┆            ┆            ┆ 385349765 ┆   ┆        ┆        ┆           ┆ 040-477b-9 │\n│ UTC         ┆            ┆            ┆ 5         ┆   ┆        ┆        ┆           ┆ bd2-6a6e8f │\n│             ┆            ┆            ┆           ┆   ┆        ┆        ┆           ┆ d9…        │\n│ 2019-11-01  ┆ view       ┆ 3601530    ┆ 205301356 ┆ … ┆ lg     ┆ 712.87 ┆ 518085591 ┆ 3bfb58cd-7 │\n│ 00:00:01    ┆            ┆            ┆ 381077592 ┆   ┆        ┆        ┆           ┆ 892-48cc-8 │\n│ UTC         ┆            ┆            ┆ 3         ┆   ┆        ┆        ┆           ┆ 020-2f17e6 │\n│             ┆            ┆            ┆           ┆   ┆        ┆        ┆           ┆ de…        │\n│ 2019-11-01  ┆ view       ┆ 1004775    ┆ 205301355 ┆ … ┆ xiaomi ┆ 183.27 ┆ 558856683 ┆ 313628f1-6 │\n│ 00:00:01    ┆            ┆            ┆ 563188265 ┆   ┆        ┆        ┆           ┆ 8b8-460d-8 │\n│ UTC         ┆            ┆            ┆ 5         ┆   ┆        ┆        ┆           ┆ 4f6-cec7a8 │\n│             ┆            ┆            ┆           ┆   ┆        ┆        ┆           ┆ 79…        │\n└─────────────┴────────────┴────────────┴───────────┴───┴────────┴────────┴───────────┴────────────┘",
      "text/html": "<div><style>\n.dataframe > thead > tr > th,\n.dataframe > tbody > tr > td {\n  text-align: right;\n}\n</style>\n<small>shape: (5, 9)</small><table border=\"1\" class=\"dataframe\"><thead><tr><th>event_time</th><th>event_type</th><th>product_id</th><th>category_id</th><th>category_code</th><th>brand</th><th>price</th><th>user_id</th><th>user_session</th></tr><tr><td>str</td><td>str</td><td>i64</td><td>i64</td><td>str</td><td>str</td><td>f64</td><td>i64</td><td>str</td></tr></thead><tbody><tr><td>&quot;2019-11-01 00:…</td><td>&quot;view&quot;</td><td>1003461</td><td>2053013555631882655</td><td>&quot;electronics.sm…</td><td>&quot;xiaomi&quot;</td><td>489.07</td><td>520088904</td><td>&quot;4d3b30da-a5e4-…</td></tr><tr><td>&quot;2019-11-01 00:…</td><td>&quot;view&quot;</td><td>5000088</td><td>2053013566100866035</td><td>&quot;appliances.sew…</td><td>&quot;janome&quot;</td><td>293.65</td><td>530496790</td><td>&quot;8e5f4f83-366c-…</td></tr><tr><td>&quot;2019-11-01 00:…</td><td>&quot;view&quot;</td><td>17302664</td><td>2053013553853497655</td><td>null</td><td>&quot;creed&quot;</td><td>28.31</td><td>561587266</td><td>&quot;755422e7-9040-…</td></tr><tr><td>&quot;2019-11-01 00:…</td><td>&quot;view&quot;</td><td>3601530</td><td>2053013563810775923</td><td>&quot;appliances.kit…</td><td>&quot;lg&quot;</td><td>712.87</td><td>518085591</td><td>&quot;3bfb58cd-7892-…</td></tr><tr><td>&quot;2019-11-01 00:…</td><td>&quot;view&quot;</td><td>1004775</td><td>2053013555631882655</td><td>&quot;electronics.sm…</td><td>&quot;xiaomi&quot;</td><td>183.27</td><td>558856683</td><td>&quot;313628f1-68b8-…</td></tr></tbody></table></div>"
     },
     "execution_count": 14,
     "metadata": {},
     "output_type": "execute_result"
    }
   ],
   "source": [
    "%%time\n",
    "\n",
    "# Data Inspection\n",
    "\n",
    "df.head(5)"
   ],
   "metadata": {
    "collapsed": false,
    "ExecuteTime": {
     "end_time": "2023-07-06T21:14:26.150368800Z",
     "start_time": "2023-07-06T21:14:26.108461100Z"
    }
   }
  },
  {
   "cell_type": "code",
   "execution_count": 16,
   "outputs": [
    {
     "ename": "SchemaError",
     "evalue": "invalid series dtype: expected `Utf8`, got `datetime[μs]`",
     "output_type": "error",
     "traceback": [
      "\u001B[1;31m---------------------------------------------------------------------------\u001B[0m",
      "\u001B[1;31mSchemaError\u001B[0m                               Traceback (most recent call last)",
      "Cell \u001B[1;32mIn[16], line 1\u001B[0m\n\u001B[1;32m----> 1\u001B[0m df \u001B[38;5;241m=\u001B[39m \u001B[43mdf\u001B[49m\u001B[38;5;241;43m.\u001B[39;49m\u001B[43mwith_columns\u001B[49m\u001B[43m(\u001B[49m\n\u001B[0;32m      2\u001B[0m \u001B[43m    \u001B[49m\u001B[43m(\u001B[49m\u001B[43mpl\u001B[49m\u001B[38;5;241;43m.\u001B[39;49m\u001B[43mcol\u001B[49m\u001B[43m(\u001B[49m\u001B[38;5;124;43m\"\u001B[39;49m\u001B[38;5;124;43mevent_time\u001B[39;49m\u001B[38;5;124;43m\"\u001B[39;49m\u001B[43m)\u001B[49m\u001B[38;5;241;43m.\u001B[39;49m\u001B[43mstr\u001B[49m\u001B[38;5;241;43m.\u001B[39;49m\u001B[43mstrptime\u001B[49m\u001B[43m(\u001B[49m\u001B[43mpl\u001B[49m\u001B[38;5;241;43m.\u001B[39;49m\u001B[43mDatetime\u001B[49m\u001B[43m,\u001B[49m\u001B[43m \u001B[49m\u001B[38;5;28;43mformat\u001B[39;49m\u001B[38;5;241;43m=\u001B[39;49m\u001B[38;5;124;43m\"\u001B[39;49m\u001B[38;5;124;43m%\u001B[39;49m\u001B[38;5;124;43mY-\u001B[39;49m\u001B[38;5;124;43m%\u001B[39;49m\u001B[38;5;124;43mm-\u001B[39;49m\u001B[38;5;132;43;01m%d\u001B[39;49;00m\u001B[38;5;124;43m \u001B[39;49m\u001B[38;5;124;43m%\u001B[39;49m\u001B[38;5;124;43mH:\u001B[39;49m\u001B[38;5;124;43m%\u001B[39;49m\u001B[38;5;124;43mM:\u001B[39;49m\u001B[38;5;124;43m%\u001B[39;49m\u001B[38;5;124;43mS \u001B[39;49m\u001B[38;5;124;43m%\u001B[39;49m\u001B[38;5;124;43mZ\u001B[39;49m\u001B[38;5;124;43m\"\u001B[39;49m\u001B[43m)\u001B[49m\u001B[43m)\u001B[49m\n\u001B[0;32m      3\u001B[0m \u001B[43m)\u001B[49m\n\u001B[0;32m      5\u001B[0m df\u001B[38;5;241m.\u001B[39mhead(\u001B[38;5;241m15\u001B[39m)\u001B[38;5;241m.\u001B[39mselect(\u001B[38;5;124m\"\u001B[39m\u001B[38;5;124mevent_time\u001B[39m\u001B[38;5;124m\"\u001B[39m)\n",
      "File \u001B[1;32m~\\Projects\\Exploring-polars\\venv\\lib\\site-packages\\polars\\dataframe\\frame.py:7311\u001B[0m, in \u001B[0;36mDataFrame.with_columns\u001B[1;34m(self, *exprs, **named_exprs)\u001B[0m\n\u001B[0;32m   7163\u001B[0m \u001B[38;5;28;01mdef\u001B[39;00m \u001B[38;5;21mwith_columns\u001B[39m(\n\u001B[0;32m   7164\u001B[0m     \u001B[38;5;28mself\u001B[39m,\n\u001B[0;32m   7165\u001B[0m     \u001B[38;5;241m*\u001B[39mexprs: IntoExpr \u001B[38;5;241m|\u001B[39m Iterable[IntoExpr],\n\u001B[0;32m   7166\u001B[0m     \u001B[38;5;241m*\u001B[39m\u001B[38;5;241m*\u001B[39mnamed_exprs: IntoExpr,\n\u001B[0;32m   7167\u001B[0m ) \u001B[38;5;241m-\u001B[39m\u001B[38;5;241m>\u001B[39m DataFrame:\n\u001B[0;32m   7168\u001B[0m \u001B[38;5;250m    \u001B[39m\u001B[38;5;124;03m\"\"\"\u001B[39;00m\n\u001B[0;32m   7169\u001B[0m \u001B[38;5;124;03m    Add columns to this DataFrame.\u001B[39;00m\n\u001B[0;32m   7170\u001B[0m \n\u001B[1;32m   (...)\u001B[0m\n\u001B[0;32m   7308\u001B[0m \n\u001B[0;32m   7309\u001B[0m \u001B[38;5;124;03m    \"\"\"\u001B[39;00m\n\u001B[0;32m   7310\u001B[0m     \u001B[38;5;28;01mreturn\u001B[39;00m (\n\u001B[1;32m-> 7311\u001B[0m         \u001B[38;5;28;43mself\u001B[39;49m\u001B[38;5;241;43m.\u001B[39;49m\u001B[43mlazy\u001B[49m\u001B[43m(\u001B[49m\u001B[43m)\u001B[49m\n\u001B[0;32m   7312\u001B[0m \u001B[43m        \u001B[49m\u001B[38;5;241;43m.\u001B[39;49m\u001B[43mwith_columns\u001B[49m\u001B[43m(\u001B[49m\u001B[38;5;241;43m*\u001B[39;49m\u001B[43mexprs\u001B[49m\u001B[43m,\u001B[49m\u001B[43m \u001B[49m\u001B[38;5;241;43m*\u001B[39;49m\u001B[38;5;241;43m*\u001B[39;49m\u001B[43mnamed_exprs\u001B[49m\u001B[43m)\u001B[49m\n\u001B[0;32m   7313\u001B[0m \u001B[43m        \u001B[49m\u001B[38;5;241;43m.\u001B[39;49m\u001B[43mcollect\u001B[49m\u001B[43m(\u001B[49m\u001B[43mno_optimization\u001B[49m\u001B[38;5;241;43m=\u001B[39;49m\u001B[38;5;28;43;01mTrue\u001B[39;49;00m\u001B[43m)\u001B[49m\n\u001B[0;32m   7314\u001B[0m     )\n",
      "File \u001B[1;32m~\\Projects\\Exploring-polars\\venv\\lib\\site-packages\\polars\\lazyframe\\frame.py:1504\u001B[0m, in \u001B[0;36mLazyFrame.collect\u001B[1;34m(self, type_coercion, predicate_pushdown, projection_pushdown, simplify_expression, no_optimization, slice_pushdown, common_subplan_elimination, streaming)\u001B[0m\n\u001B[0;32m   1493\u001B[0m     common_subplan_elimination \u001B[38;5;241m=\u001B[39m \u001B[38;5;28;01mFalse\u001B[39;00m\n\u001B[0;32m   1495\u001B[0m ldf \u001B[38;5;241m=\u001B[39m \u001B[38;5;28mself\u001B[39m\u001B[38;5;241m.\u001B[39m_ldf\u001B[38;5;241m.\u001B[39moptimization_toggle(\n\u001B[0;32m   1496\u001B[0m     type_coercion,\n\u001B[0;32m   1497\u001B[0m     predicate_pushdown,\n\u001B[1;32m   (...)\u001B[0m\n\u001B[0;32m   1502\u001B[0m     streaming,\n\u001B[0;32m   1503\u001B[0m )\n\u001B[1;32m-> 1504\u001B[0m \u001B[38;5;28;01mreturn\u001B[39;00m wrap_df(\u001B[43mldf\u001B[49m\u001B[38;5;241;43m.\u001B[39;49m\u001B[43mcollect\u001B[49m\u001B[43m(\u001B[49m\u001B[43m)\u001B[49m)\n",
      "\u001B[1;31mSchemaError\u001B[0m: invalid series dtype: expected `Utf8`, got `datetime[μs]`"
     ]
    }
   ],
   "source": [
    "df = df.with_columns(\n",
    "    (pl.col(\"event_time\").str.strptime(pl.Datetime, format=\"%Y-%m-%d %H:%M:%S %Z\"))\n",
    ")\n",
    "\n",
    "df.head(15).select(\"event_time\")"
   ],
   "metadata": {
    "collapsed": false,
    "ExecuteTime": {
     "end_time": "2023-07-06T21:14:40.423438Z",
     "start_time": "2023-07-06T21:14:40.372530900Z"
    }
   }
  },
  {
   "cell_type": "code",
   "execution_count": 29,
   "outputs": [
    {
     "name": "stdout",
     "output_type": "stream",
     "text": [
      "CPU times: total: 0 ns\n",
      "Wall time: 6.04 ms\n"
     ]
    }
   ],
   "source": [
    "%%time\n",
    "\n",
    "#Get a random element from a user_id column\n",
    "\n",
    "random_user = df.select(\"user_id\").sample(1).item()"
   ],
   "metadata": {
    "collapsed": false,
    "ExecuteTime": {
     "end_time": "2023-07-06T21:19:31.681529400Z",
     "start_time": "2023-07-06T21:19:31.665533500Z"
    }
   }
  },
  {
   "cell_type": "code",
   "execution_count": 31,
   "outputs": [
    {
     "name": "stdout",
     "output_type": "stream",
     "text": [
      "CPU times: total: 0 ns\n",
      "Wall time: 962 µs\n"
     ]
    },
    {
     "data": {
      "text/plain": "shape: (5, 9)\n┌──────────────┬────────────┬────────────┬───────────┬───┬───────┬────────┬───────────┬────────────┐\n│ event_time   ┆ event_type ┆ product_id ┆ category_ ┆ … ┆ brand ┆ price  ┆ user_id   ┆ user_sessi │\n│ ---          ┆ ---        ┆ ---        ┆ id        ┆   ┆ ---   ┆ ---    ┆ ---       ┆ on         │\n│ datetime[μs] ┆ str        ┆ i64        ┆ ---       ┆   ┆ str   ┆ f64    ┆ i64       ┆ ---        │\n│              ┆            ┆            ┆ i64       ┆   ┆       ┆        ┆           ┆ str        │\n╞══════════════╪════════════╪════════════╪═══════════╪═══╪═══════╪════════╪═══════════╪════════════╡\n│ 2019-11-01   ┆ view       ┆ 15100370   ┆ 205301355 ┆ … ┆ null  ┆ 257.15 ┆ 521709157 ┆ 7cb6c860-2 │\n│ 06:12:57     ┆            ┆            ┆ 702439167 ┆   ┆       ┆        ┆           ┆ 476-493b-8 │\n│              ┆            ┆            ┆ 1         ┆   ┆       ┆        ┆           ┆ 96e-280167 │\n│              ┆            ┆            ┆           ┆   ┆       ┆        ┆           ┆ 43…        │\n│ 2019-11-01   ┆ view       ┆ 16800177   ┆ 205301355 ┆ … ┆ null  ┆ 153.16 ┆ 521709157 ┆ 7cb6c860-2 │\n│ 06:25:49     ┆            ┆            ┆ 831623737 ┆   ┆       ┆        ┆           ┆ 476-493b-8 │\n│              ┆            ┆            ┆ 7         ┆   ┆       ┆        ┆           ┆ 96e-280167 │\n│              ┆            ┆            ┆           ┆   ┆       ┆        ┆           ┆ 43…        │\n│ 2019-11-01   ┆ view       ┆ 18700066   ┆ 205301355 ┆ … ┆ sv    ┆ 205.9  ┆ 521709157 ┆ 7cb6c860-2 │\n│ 06:18:04     ┆            ┆            ┆ 538022439 ┆   ┆       ┆        ┆           ┆ 476-493b-8 │\n│              ┆            ┆            ┆ 9         ┆   ┆       ┆        ┆           ┆ 96e-280167 │\n│              ┆            ┆            ┆           ┆   ┆       ┆        ┆           ┆ 43…        │\n│ 2019-11-01   ┆ view       ┆ 18700063   ┆ 205301355 ┆ … ┆ null  ┆ 192.8  ┆ 521709157 ┆ 7cb6c860-2 │\n│ 06:19:22     ┆            ┆            ┆ 538022439 ┆   ┆       ┆        ┆           ┆ 476-493b-8 │\n│              ┆            ┆            ┆ 9         ┆   ┆       ┆        ┆           ┆ 96e-280167 │\n│              ┆            ┆            ┆           ┆   ┆       ┆        ┆           ┆ 43…        │\n│ 2019-11-01   ┆ view       ┆ 17800204   ┆ 205301355 ┆ … ┆ zeta  ┆ 30.0   ┆ 521709157 ┆ 7cb6c860-2 │\n│ 06:21:52     ┆            ┆            ┆ 986812994 ┆   ┆       ┆        ┆           ┆ 476-493b-8 │\n│              ┆            ┆            ┆ 7         ┆   ┆       ┆        ┆           ┆ 96e-280167 │\n│              ┆            ┆            ┆           ┆   ┆       ┆        ┆           ┆ 43…        │\n└──────────────┴────────────┴────────────┴───────────┴───┴───────┴────────┴───────────┴────────────┘",
      "text/html": "<div><style>\n.dataframe > thead > tr > th,\n.dataframe > tbody > tr > td {\n  text-align: right;\n}\n</style>\n<small>shape: (5, 9)</small><table border=\"1\" class=\"dataframe\"><thead><tr><th>event_time</th><th>event_type</th><th>product_id</th><th>category_id</th><th>category_code</th><th>brand</th><th>price</th><th>user_id</th><th>user_session</th></tr><tr><td>datetime[μs]</td><td>str</td><td>i64</td><td>i64</td><td>str</td><td>str</td><td>f64</td><td>i64</td><td>str</td></tr></thead><tbody><tr><td>2019-11-01 06:12:57</td><td>&quot;view&quot;</td><td>15100370</td><td>2053013557024391671</td><td>null</td><td>null</td><td>257.15</td><td>521709157</td><td>&quot;7cb6c860-2476-…</td></tr><tr><td>2019-11-01 06:25:49</td><td>&quot;view&quot;</td><td>16800177</td><td>2053013558316237377</td><td>&quot;furniture.kitc…</td><td>null</td><td>153.16</td><td>521709157</td><td>&quot;7cb6c860-2476-…</td></tr><tr><td>2019-11-01 06:18:04</td><td>&quot;view&quot;</td><td>18700066</td><td>2053013555380224399</td><td>null</td><td>&quot;sv&quot;</td><td>205.9</td><td>521709157</td><td>&quot;7cb6c860-2476-…</td></tr><tr><td>2019-11-01 06:19:22</td><td>&quot;view&quot;</td><td>18700063</td><td>2053013555380224399</td><td>null</td><td>null</td><td>192.8</td><td>521709157</td><td>&quot;7cb6c860-2476-…</td></tr><tr><td>2019-11-01 06:21:52</td><td>&quot;view&quot;</td><td>17800204</td><td>2053013559868129947</td><td>&quot;computers.desk…</td><td>&quot;zeta&quot;</td><td>30.0</td><td>521709157</td><td>&quot;7cb6c860-2476-…</td></tr></tbody></table></div>"
     },
     "execution_count": 31,
     "metadata": {},
     "output_type": "execute_result"
    }
   ],
   "source": [
    "%%time\n",
    "\n",
    "# get some random sample using a random user_id\n",
    "\n",
    "df.filter(pl.col(\"user_id\") == random_user).sample(5)"
   ],
   "metadata": {
    "collapsed": false,
    "ExecuteTime": {
     "end_time": "2023-07-06T21:20:24.706930600Z",
     "start_time": "2023-07-06T21:20:24.690873900Z"
    }
   }
  },
  {
   "cell_type": "code",
   "execution_count": 33,
   "outputs": [
    {
     "name": "stdout",
     "output_type": "stream",
     "text": [
      "CPU times: total: 0 ns\n",
      "Wall time: 7 ms\n"
     ]
    },
    {
     "data": {
      "text/plain": "shape: (5, 9)\n┌──────────┬─────────────┬─────────────┬───────────┬───┬─────────┬────────┬───────────┬────────────┐\n│ event_ti ┆ event_type  ┆ product_id  ┆ category_ ┆ … ┆ brand   ┆ price  ┆ user_id   ┆ user_sessi │\n│ me       ┆ ---         ┆ ---         ┆ id        ┆   ┆ ---     ┆ ---    ┆ ---       ┆ on         │\n│ ---      ┆ str         ┆ i64         ┆ ---       ┆   ┆ str     ┆ f64    ┆ i64       ┆ ---        │\n│ datetime ┆             ┆             ┆ i64       ┆   ┆         ┆        ┆           ┆ str        │\n│ [μs]     ┆             ┆             ┆           ┆   ┆         ┆        ┆           ┆            │\n╞══════════╪═════════════╪═════════════╪═══════════╪═══╪═════════╪════════╪═══════════╪════════════╡\n│ 2019-11- ┆ view        ┆ 13101617    ┆ 205301355 ┆ … ┆ skad    ┆ 254.32 ┆ 517969065 ┆ 8eec90e7-4 │\n│ 01       ┆             ┆             ┆ 352634192 ┆   ┆         ┆        ┆           ┆ 7a0-43c5-8 │\n│ 04:41:20 ┆             ┆             ┆ 1         ┆   ┆         ┆        ┆           ┆ 3af-e31a43 │\n│          ┆             ┆             ┆           ┆   ┆         ┆        ┆           ┆ 5f…        │\n│ 2019-11- ┆ view        ┆ 13100906    ┆ 205301355 ┆ … ┆ skad    ┆ 266.67 ┆ 517969065 ┆ 324250f3-1 │\n│ 01       ┆             ┆             ┆ 352634192 ┆   ┆         ┆        ┆           ┆ bf6-495a-a │\n│ 07:22:35 ┆             ┆             ┆ 1         ┆   ┆         ┆        ┆           ┆ fba-e640f3 │\n│          ┆             ┆             ┆           ┆   ┆         ┆        ┆           ┆ 42…        │\n│ 2019-11- ┆ view        ┆ 1700954     ┆ 205301355 ┆ … ┆ samsung ┆ 223.66 ┆ 517969065 ┆ 0f876213-0 │\n│ 01       ┆             ┆             ┆ 303141401 ┆   ┆         ┆        ┆           ┆ 684-473c-b │\n│ 05:30:31 ┆             ┆             ┆ 5         ┆   ┆         ┆        ┆           ┆ 3d5-27bd7c │\n│          ┆             ┆             ┆           ┆   ┆         ┆        ┆           ┆ 93…        │\n│ 2019-11- ┆ view        ┆ 13100906    ┆ 205301355 ┆ … ┆ skad    ┆ 266.67 ┆ 517969065 ┆ 59574890-0 │\n│ 01       ┆             ┆             ┆ 352634192 ┆   ┆         ┆        ┆           ┆ 96c-4bed-b │\n│ 07:22:01 ┆             ┆             ┆ 1         ┆   ┆         ┆        ┆           ┆ 7f8-799fd3 │\n│          ┆             ┆             ┆           ┆   ┆         ┆        ┆           ┆ dd…        │\n│ 2019-11- ┆ purchase    ┆ 13100906    ┆ 205301355 ┆ … ┆ skad    ┆ 266.67 ┆ 517969065 ┆ 8eec90e7-4 │\n│ 01       ┆             ┆             ┆ 352634192 ┆   ┆         ┆        ┆           ┆ 7a0-43c5-8 │\n│ 04:54:11 ┆             ┆             ┆ 1         ┆   ┆         ┆        ┆           ┆ 3af-e31a43 │\n│          ┆             ┆             ┆           ┆   ┆         ┆        ┆           ┆ 5f…        │\n└──────────┴─────────────┴─────────────┴───────────┴───┴─────────┴────────┴───────────┴────────────┘",
      "text/html": "<div><style>\n.dataframe > thead > tr > th,\n.dataframe > tbody > tr > td {\n  text-align: right;\n}\n</style>\n<small>shape: (5, 9)</small><table border=\"1\" class=\"dataframe\"><thead><tr><th>event_time</th><th>event_type</th><th>product_id</th><th>category_id</th><th>category_code</th><th>brand</th><th>price</th><th>user_id</th><th>user_session</th></tr><tr><td>datetime[μs]</td><td>str</td><td>i64</td><td>i64</td><td>str</td><td>str</td><td>f64</td><td>i64</td><td>str</td></tr></thead><tbody><tr><td>2019-11-01 04:41:20</td><td>&quot;view&quot;</td><td>13101617</td><td>2053013553526341921</td><td>null</td><td>&quot;skad&quot;</td><td>254.32</td><td>517969065</td><td>&quot;8eec90e7-47a0-…</td></tr><tr><td>2019-11-01 07:22:35</td><td>&quot;view&quot;</td><td>13100906</td><td>2053013553526341921</td><td>null</td><td>&quot;skad&quot;</td><td>266.67</td><td>517969065</td><td>&quot;324250f3-1bf6-…</td></tr><tr><td>2019-11-01 05:30:31</td><td>&quot;view&quot;</td><td>1700954</td><td>2053013553031414015</td><td>&quot;computers.peri…</td><td>&quot;samsung&quot;</td><td>223.66</td><td>517969065</td><td>&quot;0f876213-0684-…</td></tr><tr><td>2019-11-01 07:22:01</td><td>&quot;view&quot;</td><td>13100906</td><td>2053013553526341921</td><td>null</td><td>&quot;skad&quot;</td><td>266.67</td><td>517969065</td><td>&quot;59574890-096c-…</td></tr><tr><td>2019-11-01 04:54:11</td><td>&quot;purchase&quot;</td><td>13100906</td><td>2053013553526341921</td><td>null</td><td>&quot;skad&quot;</td><td>266.67</td><td>517969065</td><td>&quot;8eec90e7-47a0-…</td></tr></tbody></table></div>"
     },
     "execution_count": 33,
     "metadata": {},
     "output_type": "execute_result"
    }
   ],
   "source": [
    "%%time\n",
    "\n",
    "# Same operations as the last two cells but with one inline operation\n",
    "\n",
    "df.filter(pl.col(\"user_id\") == df.select(\"user_id\").sample(1).item()).sample(5)"
   ],
   "metadata": {
    "collapsed": false,
    "ExecuteTime": {
     "end_time": "2023-07-06T21:22:56.957360Z",
     "start_time": "2023-07-06T21:22:56.902687800Z"
    }
   }
  },
  {
   "cell_type": "code",
   "execution_count": 35,
   "outputs": [
    {
     "name": "stdout",
     "output_type": "stream",
     "text": [
      "CPU times: total: 0 ns\n",
      "Wall time: 6 ms\n"
     ]
    },
    {
     "data": {
      "text/plain": "(17817, 9)"
     },
     "execution_count": 35,
     "metadata": {},
     "output_type": "execute_result"
    }
   ],
   "source": [
    "%%time\n",
    "\n",
    "df_purchases = df.filter(pl.col(\"event_type\") == \"purchase\")\n",
    "df_purchases.shape"
   ],
   "metadata": {
    "collapsed": false,
    "ExecuteTime": {
     "end_time": "2023-07-06T21:29:43.279269Z",
     "start_time": "2023-07-06T21:29:43.229504300Z"
    }
   }
  },
  {
   "cell_type": "code",
   "execution_count": 44,
   "outputs": [],
   "source": [
    "df_purchases = df_purchases.select(['event_time', 'user_id', 'price']).unique()"
   ],
   "metadata": {
    "collapsed": false,
    "ExecuteTime": {
     "end_time": "2023-07-06T21:38:35.731333600Z",
     "start_time": "2023-07-06T21:38:35.716334800Z"
    }
   }
  },
  {
   "cell_type": "markdown",
   "source": [
    "\n",
    "# ⌛ Compute time Difference"
   ],
   "metadata": {
    "collapsed": false
   }
  },
  {
   "cell_type": "code",
   "execution_count": 45,
   "outputs": [
    {
     "data": {
      "text/plain": "datetime.datetime(2023, 7, 6, 0, 0)"
     },
     "execution_count": 45,
     "metadata": {},
     "output_type": "execute_result"
    }
   ],
   "source": [
    "import datetime\n",
    "\n",
    "today = datetime.date.today()\n",
    "\n",
    "anchor_date = datetime.datetime(int(today.strftime(\"%Y\")), int(today.strftime(\"%m\")), int(today.strftime(\"%d\")))\n",
    "\n",
    "anchor_date"
   ],
   "metadata": {
    "collapsed": false,
    "ExecuteTime": {
     "end_time": "2023-07-06T21:38:39.459227800Z",
     "start_time": "2023-07-06T21:38:39.425779900Z"
    }
   }
  },
  {
   "cell_type": "code",
   "execution_count": 100,
   "outputs": [
    {
     "name": "stdout",
     "output_type": "stream",
     "text": [
      "CPU times: total: 0 ns\n",
      "Wall time: 2 ms\n"
     ]
    }
   ],
   "source": [
    "%%time\n",
    "\n",
    "# Calculating how old are all purchases using some nested commands\n",
    "\n",
    "df_purchases = df_purchases.with_columns(\n",
    "    (anchor_date - pl.col('event_time')).alias('purchase_recency') // (1e6 * 3600 * 24)\n",
    ").with_columns(\n",
    "    ((pl.col('purchase_recency')\n",
    "      .cast(pl.Int16, strict=False))\n",
    "     .cast(pl.Utf8) + \" days\")\n",
    "    .alias(\"purchase_recency_str\")\n",
    ")\n",
    "\n"
   ],
   "metadata": {
    "collapsed": false,
    "ExecuteTime": {
     "end_time": "2023-07-06T22:07:43.284768800Z",
     "start_time": "2023-07-06T22:07:43.275763800Z"
    }
   }
  },
  {
   "cell_type": "code",
   "execution_count": 105,
   "outputs": [
    {
     "name": "stdout",
     "output_type": "stream",
     "text": [
      "CPU times: total: 0 ns\n",
      "Wall time: 2 ms\n"
     ]
    },
    {
     "data": {
      "text/plain": "shape: (5, 4)\n┌───────────┬─────────┬───────────┬──────────┐\n│ user_id   ┆ recency ┆ frequency ┆ monetary │\n│ ---       ┆ ---     ┆ ---       ┆ ---      │\n│ i64       ┆ f64     ┆ u32       ┆ f64      │\n╞═══════════╪═════════╪═══════════╪══════════╡\n│ 541328903 ┆ 1342.0  ┆ 23        ┆ 1546.5   │\n│ 551801600 ┆ 1342.0  ┆ 19        ┆ 11340.97 │\n│ 526933626 ┆ 1342.0  ┆ 18        ┆ 3170.52  │\n│ 515676312 ┆ 1342.0  ┆ 17        ┆ 7412.43  │\n│ 565969544 ┆ 1342.0  ┆ 17        ┆ 3121.65  │\n└───────────┴─────────┴───────────┴──────────┘",
      "text/html": "<div><style>\n.dataframe > thead > tr > th,\n.dataframe > tbody > tr > td {\n  text-align: right;\n}\n</style>\n<small>shape: (5, 4)</small><table border=\"1\" class=\"dataframe\"><thead><tr><th>user_id</th><th>recency</th><th>frequency</th><th>monetary</th></tr><tr><td>i64</td><td>f64</td><td>u32</td><td>f64</td></tr></thead><tbody><tr><td>541328903</td><td>1342.0</td><td>23</td><td>1546.5</td></tr><tr><td>551801600</td><td>1342.0</td><td>19</td><td>11340.97</td></tr><tr><td>526933626</td><td>1342.0</td><td>18</td><td>3170.52</td></tr><tr><td>515676312</td><td>1342.0</td><td>17</td><td>7412.43</td></tr><tr><td>565969544</td><td>1342.0</td><td>17</td><td>3121.65</td></tr></tbody></table></div>"
     },
     "execution_count": 105,
     "metadata": {},
     "output_type": "execute_result"
    }
   ],
   "source": [
    "%%time\n",
    "\n",
    "# Groupby and aggregation methods for RFM analysis\n",
    "\n",
    "df_agg = df_purchases.groupby(\"user_id\").agg([\n",
    "    pl.col(\"purchase_recency\").min().alias(\"recency\"),\n",
    "    pl.count().alias(\"frequency\"),\n",
    "    pl.col(\"price\").sum().alias(\"monetary\")\n",
    "]).sort('frequency', descending=True)\n",
    "\n",
    "df_agg.head()"
   ],
   "metadata": {
    "collapsed": false,
    "ExecuteTime": {
     "end_time": "2023-07-06T22:08:34.123297600Z",
     "start_time": "2023-07-06T22:08:34.095298700Z"
    }
   }
  },
  {
   "cell_type": "code",
   "execution_count": 111,
   "outputs": [
    {
     "name": "stdout",
     "output_type": "stream",
     "text": [
      "CPU times: total: 0 ns\n",
      "Wall time: 1e+03 µs\n"
     ]
    }
   ],
   "source": [
    "%%time\n",
    "\n",
    "# Extracting a Polars Series from a DataFrame\n",
    "users = df_agg.select(pl.col(\"user_id\")).to_series()"
   ],
   "metadata": {
    "collapsed": false,
    "ExecuteTime": {
     "end_time": "2023-07-06T22:11:45.316870700Z",
     "start_time": "2023-07-06T22:11:45.304480300Z"
    }
   }
  },
  {
   "cell_type": "code",
   "execution_count": 112,
   "outputs": [
    {
     "name": "stdout",
     "output_type": "stream",
     "text": [
      "CPU times: total: 0 ns\n",
      "Wall time: 81.8 ms\n"
     ]
    }
   ],
   "source": [
    "%%time\n",
    "\n",
    "df_agg_pd = df_agg.to_pandas()"
   ],
   "metadata": {
    "collapsed": false,
    "ExecuteTime": {
     "end_time": "2023-07-07T23:52:33.087290Z",
     "start_time": "2023-07-07T23:52:32.983449Z"
    }
   }
  },
  {
   "cell_type": "code",
   "execution_count": 116,
   "outputs": [
    {
     "data": {
      "text/plain": "      recency  frequency  monetary\n0.00   1342.0        1.0      1.00\n0.25   1342.0        1.0     90.07\n0.50   1342.0        1.0    205.93\n0.75   1342.0        1.0    462.79\n1.00   1342.0       23.0  18888.12",
      "text/html": "<div>\n<style scoped>\n    .dataframe tbody tr th:only-of-type {\n        vertical-align: middle;\n    }\n\n    .dataframe tbody tr th {\n        vertical-align: top;\n    }\n\n    .dataframe thead th {\n        text-align: right;\n    }\n</style>\n<table border=\"1\" class=\"dataframe\">\n  <thead>\n    <tr style=\"text-align: right;\">\n      <th></th>\n      <th>recency</th>\n      <th>frequency</th>\n      <th>monetary</th>\n    </tr>\n  </thead>\n  <tbody>\n    <tr>\n      <th>0.00</th>\n      <td>1342.0</td>\n      <td>1.0</td>\n      <td>1.00</td>\n    </tr>\n    <tr>\n      <th>0.25</th>\n      <td>1342.0</td>\n      <td>1.0</td>\n      <td>90.07</td>\n    </tr>\n    <tr>\n      <th>0.50</th>\n      <td>1342.0</td>\n      <td>1.0</td>\n      <td>205.93</td>\n    </tr>\n    <tr>\n      <th>0.75</th>\n      <td>1342.0</td>\n      <td>1.0</td>\n      <td>462.79</td>\n    </tr>\n    <tr>\n      <th>1.00</th>\n      <td>1342.0</td>\n      <td>23.0</td>\n      <td>18888.12</td>\n    </tr>\n  </tbody>\n</table>\n</div>"
     },
     "execution_count": 116,
     "metadata": {},
     "output_type": "execute_result"
    }
   ],
   "source": [
    "breaks = np.arange(0,1.25,0.25)\n",
    "num_vars = [\"recency\", \"frequency\", \"monetary\"]\n",
    "df_agg_pd[num_vars].quantile(breaks)"
   ],
   "metadata": {
    "collapsed": false,
    "ExecuteTime": {
     "end_time": "2023-07-07T23:54:58.115594600Z",
     "start_time": "2023-07-07T23:54:58.094593Z"
    }
   }
  },
  {
   "cell_type": "code",
   "execution_count": null,
   "outputs": [],
   "source": [],
   "metadata": {
    "collapsed": false
   }
  }
 ],
 "metadata": {
  "kernelspec": {
   "display_name": "Python 3",
   "language": "python",
   "name": "python3"
  },
  "language_info": {
   "codemirror_mode": {
    "name": "ipython",
    "version": 2
   },
   "file_extension": ".py",
   "mimetype": "text/x-python",
   "name": "python",
   "nbconvert_exporter": "python",
   "pygments_lexer": "ipython2",
   "version": "2.7.6"
  }
 },
 "nbformat": 4,
 "nbformat_minor": 0
}
