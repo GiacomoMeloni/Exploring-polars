{
 "cells": [
  {
   "cell_type": "code",
   "execution_count": 12,
   "metadata": {
    "collapsed": true,
    "ExecuteTime": {
     "end_time": "2023-07-06T21:14:26.090444800Z",
     "start_time": "2023-07-06T21:14:26.079761600Z"
    }
   },
   "outputs": [],
   "source": [
    "from time import time\n",
    "import polars as pl\n",
    "import pandas as pd\n",
    "import numpy as np\n",
    "import pyarrow\n",
    "\n",
    "import matplotlib.pyplot as plt\n",
    "import seaborn as sns\n",
    "\n",
    "df = pl.read_csv(r\"./datasets/2019-Nov-1M.csv\")"
   ]
  },
  {
   "cell_type": "code",
   "execution_count": 13,
   "outputs": [
    {
     "name": "stdout",
     "output_type": "stream",
     "text": [
      "Dataset Shape: (1000000, 9)\n",
      "Dataset rows: 1000000\n",
      "Dataset columns: 9\n",
      "\n",
      "Column Types\n",
      "-----\n",
      "event_time\tType: Utf8\n",
      "event_type\tType: Utf8\n",
      "product_id\tType: Int64\n",
      "category_id\tType: Int64\n",
      "category_code\tType: Utf8\n",
      "brand\tType: Utf8\n",
      "price\tType: Float64\n",
      "user_id\tType: Int64\n",
      "user_session\tType: Utf8\n",
      "CPU times: total: 0 ns\n",
      "Wall time: 0 ns\n"
     ]
    }
   ],
   "source": [
    "%%time\n",
    "\n",
    "print(f\"Dataset Shape: {df.shape}\")\n",
    "print(f\"Dataset rows: {df.height}\")\n",
    "print(f\"Dataset columns: {df.width}\")\n",
    "\n",
    "print(f\"\\nColumn Types\\n-----\")\n",
    "\n",
    "for idx, col in enumerate(df.columns):\n",
    "   print(f\"{col}\\tType: {df.dtypes[idx]}\")"
   ],
   "metadata": {
    "collapsed": false,
    "ExecuteTime": {
     "end_time": "2023-07-06T21:14:26.106451900Z",
     "start_time": "2023-07-06T21:14:26.093440700Z"
    }
   }
  },
  {
   "cell_type": "code",
   "execution_count": 14,
   "outputs": [
    {
     "name": "stdout",
     "output_type": "stream",
     "text": [
      "CPU times: total: 0 ns\n",
      "Wall time: 0 ns\n"
     ]
    },
    {
     "data": {
      "text/plain": "shape: (5, 9)\n┌─────────────┬────────────┬────────────┬───────────┬───┬────────┬────────┬───────────┬────────────┐\n│ event_time  ┆ event_type ┆ product_id ┆ category_ ┆ … ┆ brand  ┆ price  ┆ user_id   ┆ user_sessi │\n│ ---         ┆ ---        ┆ ---        ┆ id        ┆   ┆ ---    ┆ ---    ┆ ---       ┆ on         │\n│ str         ┆ str        ┆ i64        ┆ ---       ┆   ┆ str    ┆ f64    ┆ i64       ┆ ---        │\n│             ┆            ┆            ┆ i64       ┆   ┆        ┆        ┆           ┆ str        │\n╞═════════════╪════════════╪════════════╪═══════════╪═══╪════════╪════════╪═══════════╪════════════╡\n│ 2019-11-01  ┆ view       ┆ 1003461    ┆ 205301355 ┆ … ┆ xiaomi ┆ 489.07 ┆ 520088904 ┆ 4d3b30da-a │\n│ 00:00:00    ┆            ┆            ┆ 563188265 ┆   ┆        ┆        ┆           ┆ 5e4-49df-b │\n│ UTC         ┆            ┆            ┆ 5         ┆   ┆        ┆        ┆           ┆ 1a8-ba5943 │\n│             ┆            ┆            ┆           ┆   ┆        ┆        ┆           ┆ f1…        │\n│ 2019-11-01  ┆ view       ┆ 5000088    ┆ 205301356 ┆ … ┆ janome ┆ 293.65 ┆ 530496790 ┆ 8e5f4f83-3 │\n│ 00:00:00    ┆            ┆            ┆ 610086603 ┆   ┆        ┆        ┆           ┆ 66c-4f70-8 │\n│ UTC         ┆            ┆            ┆ 5         ┆   ┆        ┆        ┆           ┆ 60e-ca7417 │\n│             ┆            ┆            ┆           ┆   ┆        ┆        ┆           ┆ 41…        │\n│ 2019-11-01  ┆ view       ┆ 17302664   ┆ 205301355 ┆ … ┆ creed  ┆ 28.31  ┆ 561587266 ┆ 755422e7-9 │\n│ 00:00:01    ┆            ┆            ┆ 385349765 ┆   ┆        ┆        ┆           ┆ 040-477b-9 │\n│ UTC         ┆            ┆            ┆ 5         ┆   ┆        ┆        ┆           ┆ bd2-6a6e8f │\n│             ┆            ┆            ┆           ┆   ┆        ┆        ┆           ┆ d9…        │\n│ 2019-11-01  ┆ view       ┆ 3601530    ┆ 205301356 ┆ … ┆ lg     ┆ 712.87 ┆ 518085591 ┆ 3bfb58cd-7 │\n│ 00:00:01    ┆            ┆            ┆ 381077592 ┆   ┆        ┆        ┆           ┆ 892-48cc-8 │\n│ UTC         ┆            ┆            ┆ 3         ┆   ┆        ┆        ┆           ┆ 020-2f17e6 │\n│             ┆            ┆            ┆           ┆   ┆        ┆        ┆           ┆ de…        │\n│ 2019-11-01  ┆ view       ┆ 1004775    ┆ 205301355 ┆ … ┆ xiaomi ┆ 183.27 ┆ 558856683 ┆ 313628f1-6 │\n│ 00:00:01    ┆            ┆            ┆ 563188265 ┆   ┆        ┆        ┆           ┆ 8b8-460d-8 │\n│ UTC         ┆            ┆            ┆ 5         ┆   ┆        ┆        ┆           ┆ 4f6-cec7a8 │\n│             ┆            ┆            ┆           ┆   ┆        ┆        ┆           ┆ 79…        │\n└─────────────┴────────────┴────────────┴───────────┴───┴────────┴────────┴───────────┴────────────┘",
      "text/html": "<div><style>\n.dataframe > thead > tr > th,\n.dataframe > tbody > tr > td {\n  text-align: right;\n}\n</style>\n<small>shape: (5, 9)</small><table border=\"1\" class=\"dataframe\"><thead><tr><th>event_time</th><th>event_type</th><th>product_id</th><th>category_id</th><th>category_code</th><th>brand</th><th>price</th><th>user_id</th><th>user_session</th></tr><tr><td>str</td><td>str</td><td>i64</td><td>i64</td><td>str</td><td>str</td><td>f64</td><td>i64</td><td>str</td></tr></thead><tbody><tr><td>&quot;2019-11-01 00:…</td><td>&quot;view&quot;</td><td>1003461</td><td>2053013555631882655</td><td>&quot;electronics.sm…</td><td>&quot;xiaomi&quot;</td><td>489.07</td><td>520088904</td><td>&quot;4d3b30da-a5e4-…</td></tr><tr><td>&quot;2019-11-01 00:…</td><td>&quot;view&quot;</td><td>5000088</td><td>2053013566100866035</td><td>&quot;appliances.sew…</td><td>&quot;janome&quot;</td><td>293.65</td><td>530496790</td><td>&quot;8e5f4f83-366c-…</td></tr><tr><td>&quot;2019-11-01 00:…</td><td>&quot;view&quot;</td><td>17302664</td><td>2053013553853497655</td><td>null</td><td>&quot;creed&quot;</td><td>28.31</td><td>561587266</td><td>&quot;755422e7-9040-…</td></tr><tr><td>&quot;2019-11-01 00:…</td><td>&quot;view&quot;</td><td>3601530</td><td>2053013563810775923</td><td>&quot;appliances.kit…</td><td>&quot;lg&quot;</td><td>712.87</td><td>518085591</td><td>&quot;3bfb58cd-7892-…</td></tr><tr><td>&quot;2019-11-01 00:…</td><td>&quot;view&quot;</td><td>1004775</td><td>2053013555631882655</td><td>&quot;electronics.sm…</td><td>&quot;xiaomi&quot;</td><td>183.27</td><td>558856683</td><td>&quot;313628f1-68b8-…</td></tr></tbody></table></div>"
     },
     "execution_count": 14,
     "metadata": {},
     "output_type": "execute_result"
    }
   ],
   "source": [
    "%%time\n",
    "\n",
    "# Data Inspection\n",
    "\n",
    "df.head(5)"
   ],
   "metadata": {
    "collapsed": false,
    "ExecuteTime": {
     "end_time": "2023-07-06T21:14:26.150368800Z",
     "start_time": "2023-07-06T21:14:26.108461100Z"
    }
   }
  },
  {
   "cell_type": "code",
   "execution_count": 16,
   "outputs": [
    {
     "ename": "SchemaError",
     "evalue": "invalid series dtype: expected `Utf8`, got `datetime[μs]`",
     "output_type": "error",
     "traceback": [
      "\u001B[1;31m---------------------------------------------------------------------------\u001B[0m",
      "\u001B[1;31mSchemaError\u001B[0m                               Traceback (most recent call last)",
      "Cell \u001B[1;32mIn[16], line 1\u001B[0m\n\u001B[1;32m----> 1\u001B[0m df \u001B[38;5;241m=\u001B[39m \u001B[43mdf\u001B[49m\u001B[38;5;241;43m.\u001B[39;49m\u001B[43mwith_columns\u001B[49m\u001B[43m(\u001B[49m\n\u001B[0;32m      2\u001B[0m \u001B[43m    \u001B[49m\u001B[43m(\u001B[49m\u001B[43mpl\u001B[49m\u001B[38;5;241;43m.\u001B[39;49m\u001B[43mcol\u001B[49m\u001B[43m(\u001B[49m\u001B[38;5;124;43m\"\u001B[39;49m\u001B[38;5;124;43mevent_time\u001B[39;49m\u001B[38;5;124;43m\"\u001B[39;49m\u001B[43m)\u001B[49m\u001B[38;5;241;43m.\u001B[39;49m\u001B[43mstr\u001B[49m\u001B[38;5;241;43m.\u001B[39;49m\u001B[43mstrptime\u001B[49m\u001B[43m(\u001B[49m\u001B[43mpl\u001B[49m\u001B[38;5;241;43m.\u001B[39;49m\u001B[43mDatetime\u001B[49m\u001B[43m,\u001B[49m\u001B[43m \u001B[49m\u001B[38;5;28;43mformat\u001B[39;49m\u001B[38;5;241;43m=\u001B[39;49m\u001B[38;5;124;43m\"\u001B[39;49m\u001B[38;5;124;43m%\u001B[39;49m\u001B[38;5;124;43mY-\u001B[39;49m\u001B[38;5;124;43m%\u001B[39;49m\u001B[38;5;124;43mm-\u001B[39;49m\u001B[38;5;132;43;01m%d\u001B[39;49;00m\u001B[38;5;124;43m \u001B[39;49m\u001B[38;5;124;43m%\u001B[39;49m\u001B[38;5;124;43mH:\u001B[39;49m\u001B[38;5;124;43m%\u001B[39;49m\u001B[38;5;124;43mM:\u001B[39;49m\u001B[38;5;124;43m%\u001B[39;49m\u001B[38;5;124;43mS \u001B[39;49m\u001B[38;5;124;43m%\u001B[39;49m\u001B[38;5;124;43mZ\u001B[39;49m\u001B[38;5;124;43m\"\u001B[39;49m\u001B[43m)\u001B[49m\u001B[43m)\u001B[49m\n\u001B[0;32m      3\u001B[0m \u001B[43m)\u001B[49m\n\u001B[0;32m      5\u001B[0m df\u001B[38;5;241m.\u001B[39mhead(\u001B[38;5;241m15\u001B[39m)\u001B[38;5;241m.\u001B[39mselect(\u001B[38;5;124m\"\u001B[39m\u001B[38;5;124mevent_time\u001B[39m\u001B[38;5;124m\"\u001B[39m)\n",
      "File \u001B[1;32m~\\Projects\\Exploring-polars\\venv\\lib\\site-packages\\polars\\dataframe\\frame.py:7311\u001B[0m, in \u001B[0;36mDataFrame.with_columns\u001B[1;34m(self, *exprs, **named_exprs)\u001B[0m\n\u001B[0;32m   7163\u001B[0m \u001B[38;5;28;01mdef\u001B[39;00m \u001B[38;5;21mwith_columns\u001B[39m(\n\u001B[0;32m   7164\u001B[0m     \u001B[38;5;28mself\u001B[39m,\n\u001B[0;32m   7165\u001B[0m     \u001B[38;5;241m*\u001B[39mexprs: IntoExpr \u001B[38;5;241m|\u001B[39m Iterable[IntoExpr],\n\u001B[0;32m   7166\u001B[0m     \u001B[38;5;241m*\u001B[39m\u001B[38;5;241m*\u001B[39mnamed_exprs: IntoExpr,\n\u001B[0;32m   7167\u001B[0m ) \u001B[38;5;241m-\u001B[39m\u001B[38;5;241m>\u001B[39m DataFrame:\n\u001B[0;32m   7168\u001B[0m \u001B[38;5;250m    \u001B[39m\u001B[38;5;124;03m\"\"\"\u001B[39;00m\n\u001B[0;32m   7169\u001B[0m \u001B[38;5;124;03m    Add columns to this DataFrame.\u001B[39;00m\n\u001B[0;32m   7170\u001B[0m \n\u001B[1;32m   (...)\u001B[0m\n\u001B[0;32m   7308\u001B[0m \n\u001B[0;32m   7309\u001B[0m \u001B[38;5;124;03m    \"\"\"\u001B[39;00m\n\u001B[0;32m   7310\u001B[0m     \u001B[38;5;28;01mreturn\u001B[39;00m (\n\u001B[1;32m-> 7311\u001B[0m         \u001B[38;5;28;43mself\u001B[39;49m\u001B[38;5;241;43m.\u001B[39;49m\u001B[43mlazy\u001B[49m\u001B[43m(\u001B[49m\u001B[43m)\u001B[49m\n\u001B[0;32m   7312\u001B[0m \u001B[43m        \u001B[49m\u001B[38;5;241;43m.\u001B[39;49m\u001B[43mwith_columns\u001B[49m\u001B[43m(\u001B[49m\u001B[38;5;241;43m*\u001B[39;49m\u001B[43mexprs\u001B[49m\u001B[43m,\u001B[49m\u001B[43m \u001B[49m\u001B[38;5;241;43m*\u001B[39;49m\u001B[38;5;241;43m*\u001B[39;49m\u001B[43mnamed_exprs\u001B[49m\u001B[43m)\u001B[49m\n\u001B[0;32m   7313\u001B[0m \u001B[43m        \u001B[49m\u001B[38;5;241;43m.\u001B[39;49m\u001B[43mcollect\u001B[49m\u001B[43m(\u001B[49m\u001B[43mno_optimization\u001B[49m\u001B[38;5;241;43m=\u001B[39;49m\u001B[38;5;28;43;01mTrue\u001B[39;49;00m\u001B[43m)\u001B[49m\n\u001B[0;32m   7314\u001B[0m     )\n",
      "File \u001B[1;32m~\\Projects\\Exploring-polars\\venv\\lib\\site-packages\\polars\\lazyframe\\frame.py:1504\u001B[0m, in \u001B[0;36mLazyFrame.collect\u001B[1;34m(self, type_coercion, predicate_pushdown, projection_pushdown, simplify_expression, no_optimization, slice_pushdown, common_subplan_elimination, streaming)\u001B[0m\n\u001B[0;32m   1493\u001B[0m     common_subplan_elimination \u001B[38;5;241m=\u001B[39m \u001B[38;5;28;01mFalse\u001B[39;00m\n\u001B[0;32m   1495\u001B[0m ldf \u001B[38;5;241m=\u001B[39m \u001B[38;5;28mself\u001B[39m\u001B[38;5;241m.\u001B[39m_ldf\u001B[38;5;241m.\u001B[39moptimization_toggle(\n\u001B[0;32m   1496\u001B[0m     type_coercion,\n\u001B[0;32m   1497\u001B[0m     predicate_pushdown,\n\u001B[1;32m   (...)\u001B[0m\n\u001B[0;32m   1502\u001B[0m     streaming,\n\u001B[0;32m   1503\u001B[0m )\n\u001B[1;32m-> 1504\u001B[0m \u001B[38;5;28;01mreturn\u001B[39;00m wrap_df(\u001B[43mldf\u001B[49m\u001B[38;5;241;43m.\u001B[39;49m\u001B[43mcollect\u001B[49m\u001B[43m(\u001B[49m\u001B[43m)\u001B[49m)\n",
      "\u001B[1;31mSchemaError\u001B[0m: invalid series dtype: expected `Utf8`, got `datetime[μs]`"
     ]
    }
   ],
   "source": [
    "df = df.with_columns(\n",
    "    (pl.col(\"event_time\").str.strptime(pl.Datetime, format=\"%Y-%m-%d %H:%M:%S %Z\"))\n",
    ")\n",
    "\n",
    "df.head(15).select(\"event_time\")"
   ],
   "metadata": {
    "collapsed": false,
    "ExecuteTime": {
     "end_time": "2023-07-06T21:14:40.423438Z",
     "start_time": "2023-07-06T21:14:40.372530900Z"
    }
   }
  },
  {
   "cell_type": "code",
   "execution_count": 18,
   "outputs": [
    {
     "data": {
      "text/plain": "shape: (15, 1)\n┌─────────────────────┐\n│ event_time          │\n│ ---                 │\n│ datetime[μs]        │\n╞═════════════════════╡\n│ 2019-11-01 00:00:00 │\n│ 2019-11-01 00:00:00 │\n│ 2019-11-01 00:00:01 │\n│ 2019-11-01 00:00:01 │\n│ …                   │\n│ 2019-11-01 00:00:03 │\n│ 2019-11-01 00:00:03 │\n│ 2019-11-01 00:00:04 │\n│ 2019-11-01 00:00:05 │\n└─────────────────────┘",
      "text/html": "<div><style>\n.dataframe > thead > tr > th,\n.dataframe > tbody > tr > td {\n  text-align: right;\n}\n</style>\n<small>shape: (15, 1)</small><table border=\"1\" class=\"dataframe\"><thead><tr><th>event_time</th></tr><tr><td>datetime[μs]</td></tr></thead><tbody><tr><td>2019-11-01 00:00:00</td></tr><tr><td>2019-11-01 00:00:00</td></tr><tr><td>2019-11-01 00:00:01</td></tr><tr><td>2019-11-01 00:00:01</td></tr><tr><td>2019-11-01 00:00:01</td></tr><tr><td>2019-11-01 00:00:01</td></tr><tr><td>2019-11-01 00:00:01</td></tr><tr><td>2019-11-01 00:00:02</td></tr><tr><td>2019-11-01 00:00:02</td></tr><tr><td>2019-11-01 00:00:02</td></tr><tr><td>2019-11-01 00:00:03</td></tr><tr><td>2019-11-01 00:00:03</td></tr><tr><td>2019-11-01 00:00:03</td></tr><tr><td>2019-11-01 00:00:04</td></tr><tr><td>2019-11-01 00:00:05</td></tr></tbody></table></div>"
     },
     "execution_count": 18,
     "metadata": {},
     "output_type": "execute_result"
    }
   ],
   "source": [],
   "metadata": {
    "collapsed": false,
    "ExecuteTime": {
     "end_time": "2023-07-06T21:14:48.950312500Z",
     "start_time": "2023-07-06T21:14:48.901805200Z"
    }
   }
  },
  {
   "cell_type": "code",
   "execution_count": 15,
   "outputs": [],
   "source": [],
   "metadata": {
    "collapsed": false,
    "ExecuteTime": {
     "end_time": "2023-07-06T21:14:26.229966500Z",
     "start_time": "2023-07-06T21:14:26.184420500Z"
    }
   }
  },
  {
   "cell_type": "code",
   "execution_count": 15,
   "outputs": [],
   "source": [],
   "metadata": {
    "collapsed": false,
    "ExecuteTime": {
     "end_time": "2023-07-06T21:14:26.275830500Z",
     "start_time": "2023-07-06T21:14:26.201186Z"
    }
   }
  }
 ],
 "metadata": {
  "kernelspec": {
   "display_name": "Python 3",
   "language": "python",
   "name": "python3"
  },
  "language_info": {
   "codemirror_mode": {
    "name": "ipython",
    "version": 2
   },
   "file_extension": ".py",
   "mimetype": "text/x-python",
   "name": "python",
   "nbconvert_exporter": "python",
   "pygments_lexer": "ipython2",
   "version": "2.7.6"
  }
 },
 "nbformat": 4,
 "nbformat_minor": 0
}
